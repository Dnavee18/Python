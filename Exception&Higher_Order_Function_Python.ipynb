{
 "cells": [
  {
   "cell_type": "markdown",
   "id": "7d8a9ccb",
   "metadata": {},
   "source": [
    "### Day_5"
   ]
  },
  {
   "cell_type": "markdown",
   "id": "41c68529",
   "metadata": {},
   "source": [
    "# EXCEPTION HANDLING"
   ]
  },
  {
   "cell_type": "markdown",
   "id": "705d8b13",
   "metadata": {},
   "source": [
    "# TYPES\n",
    "--> Syntax Error\n",
    "\n",
    "--> Runtime Error"
   ]
  },
  {
   "cell_type": "code",
   "execution_count": 58,
   "id": "2c9a08d2",
   "metadata": {},
   "outputs": [
    {
     "name": "stdout",
     "output_type": "stream",
     "text": [
      "Enter the number123\n"
     ]
    },
    {
     "data": {
      "text/plain": [
       "123"
      ]
     },
     "execution_count": 58,
     "metadata": {},
     "output_type": "execute_result"
    }
   ],
   "source": [
    "num=int(input(\"Enter the number\"))\n",
    "num"
   ]
  },
  {
   "cell_type": "code",
   "execution_count": 60,
   "id": "73fe9d59",
   "metadata": {},
   "outputs": [
    {
     "name": "stdout",
     "output_type": "stream",
     "text": [
      "Enter the numberasdf\n"
     ]
    },
    {
     "ename": "ValueError",
     "evalue": "invalid literal for int() with base 10: 'asdf'",
     "output_type": "error",
     "traceback": [
      "\u001b[1;31m---------------------------------------------------------------------------\u001b[0m",
      "\u001b[1;31mValueError\u001b[0m                                Traceback (most recent call last)",
      "Input \u001b[1;32mIn [60]\u001b[0m, in \u001b[0;36m<cell line: 1>\u001b[1;34m()\u001b[0m\n\u001b[1;32m----> 1\u001b[0m num\u001b[38;5;241m=\u001b[39m\u001b[38;5;28;43mint\u001b[39;49m\u001b[43m(\u001b[49m\u001b[38;5;28;43minput\u001b[39;49m\u001b[43m(\u001b[49m\u001b[38;5;124;43m\"\u001b[39;49m\u001b[38;5;124;43mEnter the number\u001b[39;49m\u001b[38;5;124;43m\"\u001b[39;49m\u001b[43m)\u001b[49m\u001b[43m)\u001b[49m\n\u001b[0;32m      2\u001b[0m num\n",
      "\u001b[1;31mValueError\u001b[0m: invalid literal for int() with base 10: 'asdf'"
     ]
    }
   ],
   "source": [
    "num=int(input(\"Enter the number\"))\n",
    "num"
   ]
  },
  {
   "cell_type": "code",
   "execution_count": 61,
   "id": "aeb95b67",
   "metadata": {},
   "outputs": [
    {
     "name": "stdout",
     "output_type": "stream",
     "text": [
      "rahul\n"
     ]
    },
    {
     "ename": "NameError",
     "evalue": "name 'Print' is not defined",
     "output_type": "error",
     "traceback": [
      "\u001b[1;31m---------------------------------------------------------------------------\u001b[0m",
      "\u001b[1;31mNameError\u001b[0m                                 Traceback (most recent call last)",
      "Input \u001b[1;32mIn [61]\u001b[0m, in \u001b[0;36m<cell line: 2>\u001b[1;34m()\u001b[0m\n\u001b[0;32m      1\u001b[0m \u001b[38;5;28mprint\u001b[39m(\u001b[38;5;124m\"\u001b[39m\u001b[38;5;124mrahul\u001b[39m\u001b[38;5;124m\"\u001b[39m)\n\u001b[1;32m----> 2\u001b[0m \u001b[43mPrint\u001b[49m(\u001b[38;5;124m\"\u001b[39m\u001b[38;5;124mRahul\u001b[39m\u001b[38;5;124m\"\u001b[39m)\n",
      "\u001b[1;31mNameError\u001b[0m: name 'Print' is not defined"
     ]
    }
   ],
   "source": [
    "print(\"rahul\")\n",
    "Print(\"Rahul\")   #syntax error"
   ]
  },
  {
   "cell_type": "code",
   "execution_count": 62,
   "id": "5032a3bf",
   "metadata": {},
   "outputs": [
    {
     "ename": "TypeError",
     "evalue": "can only concatenate str (not \"int\") to str",
     "output_type": "error",
     "traceback": [
      "\u001b[1;31m---------------------------------------------------------------------------\u001b[0m",
      "\u001b[1;31mTypeError\u001b[0m                                 Traceback (most recent call last)",
      "Input \u001b[1;32mIn [62]\u001b[0m, in \u001b[0;36m<cell line: 1>\u001b[1;34m()\u001b[0m\n\u001b[1;32m----> 1\u001b[0m \u001b[38;5;124;43m\"\u001b[39;49m\u001b[38;5;124;43mqwer\u001b[39;49m\u001b[38;5;124;43m\"\u001b[39;49m\u001b[38;5;241;43m+\u001b[39;49m\u001b[38;5;241;43m123\u001b[39;49m\n",
      "\u001b[1;31mTypeError\u001b[0m: can only concatenate str (not \"int\") to str"
     ]
    }
   ],
   "source": [
    "\"qwer\"+123 #type error"
   ]
  },
  {
   "cell_type": "code",
   "execution_count": 63,
   "id": "92702e3e",
   "metadata": {},
   "outputs": [
    {
     "data": {
      "text/plain": [
       "6.0"
      ]
     },
     "execution_count": 63,
     "metadata": {},
     "output_type": "execute_result"
    }
   ],
   "source": [
    "12/2"
   ]
  },
  {
   "cell_type": "code",
   "execution_count": 64,
   "id": "e7290fb5",
   "metadata": {},
   "outputs": [
    {
     "ename": "ZeroDivisionError",
     "evalue": "division by zero",
     "output_type": "error",
     "traceback": [
      "\u001b[1;31m---------------------------------------------------------------------------\u001b[0m",
      "\u001b[1;31mZeroDivisionError\u001b[0m                         Traceback (most recent call last)",
      "Input \u001b[1;32mIn [64]\u001b[0m, in \u001b[0;36m<cell line: 1>\u001b[1;34m()\u001b[0m\n\u001b[1;32m----> 1\u001b[0m \u001b[38;5;241;43m13\u001b[39;49m\u001b[38;5;241;43m/\u001b[39;49m\u001b[38;5;241;43m0\u001b[39;49m\n",
      "\u001b[1;31mZeroDivisionError\u001b[0m: division by zero"
     ]
    }
   ],
   "source": [
    "13/0         #zero division error"
   ]
  },
  {
   "cell_type": "code",
   "execution_count": 71,
   "id": "286e827c",
   "metadata": {},
   "outputs": [],
   "source": [
    "def divide(a,b):\n",
    "    return a/b\n"
   ]
  },
  {
   "cell_type": "code",
   "execution_count": 72,
   "id": "733f73f1",
   "metadata": {},
   "outputs": [
    {
     "data": {
      "text/plain": [
       "12.0"
      ]
     },
     "execution_count": 72,
     "metadata": {},
     "output_type": "execute_result"
    }
   ],
   "source": [
    "divide(144,12)"
   ]
  },
  {
   "cell_type": "code",
   "execution_count": 76,
   "id": "68216f9f",
   "metadata": {},
   "outputs": [],
   "source": [
    "def dividee(a,b):\n",
    "    raise Exception(\"Your input is wrong\")\n",
    "    return a/b"
   ]
  },
  {
   "cell_type": "code",
   "execution_count": 77,
   "id": "76aa57fd",
   "metadata": {},
   "outputs": [
    {
     "ename": "TypeError",
     "evalue": "Exception() takes 0 positional arguments but 1 was given",
     "output_type": "error",
     "traceback": [
      "\u001b[1;31m---------------------------------------------------------------------------\u001b[0m",
      "\u001b[1;31mTypeError\u001b[0m                                 Traceback (most recent call last)",
      "Input \u001b[1;32mIn [77]\u001b[0m, in \u001b[0;36m<cell line: 1>\u001b[1;34m()\u001b[0m\n\u001b[1;32m----> 1\u001b[0m \u001b[43mdividee\u001b[49m\u001b[43m(\u001b[49m\u001b[38;5;241;43m12\u001b[39;49m\u001b[43m,\u001b[49m\u001b[38;5;124;43m\"\u001b[39;49m\u001b[38;5;124;43mqwert\u001b[39;49m\u001b[38;5;124;43m\"\u001b[39;49m\u001b[43m)\u001b[49m\n",
      "Input \u001b[1;32mIn [76]\u001b[0m, in \u001b[0;36mdividee\u001b[1;34m(a, b)\u001b[0m\n\u001b[0;32m      1\u001b[0m \u001b[38;5;28;01mdef\u001b[39;00m \u001b[38;5;21mdividee\u001b[39m(a,b):\n\u001b[1;32m----> 2\u001b[0m     \u001b[38;5;28;01mraise\u001b[39;00m \u001b[38;5;167;43;01mException\u001b[39;49;00m\u001b[43m(\u001b[49m\u001b[38;5;124;43m\"\u001b[39;49m\u001b[38;5;124;43mYour input is wrong\u001b[39;49m\u001b[38;5;124;43m\"\u001b[39;49m\u001b[43m)\u001b[49m\n\u001b[0;32m      3\u001b[0m     \u001b[38;5;28;01mreturn\u001b[39;00m a\u001b[38;5;241m/\u001b[39mb\n",
      "\u001b[1;31mTypeError\u001b[0m: Exception() takes 0 positional arguments but 1 was given"
     ]
    }
   ],
   "source": [
    "dividee(12,\"qwert\")"
   ]
  },
  {
   "cell_type": "code",
   "execution_count": 78,
   "id": "7ef43ebe",
   "metadata": {},
   "outputs": [
    {
     "ename": "ZeroDivisionError",
     "evalue": "division by zero",
     "output_type": "error",
     "traceback": [
      "\u001b[1;31m---------------------------------------------------------------------------\u001b[0m",
      "\u001b[1;31mZeroDivisionError\u001b[0m                         Traceback (most recent call last)",
      "Input \u001b[1;32mIn [78]\u001b[0m, in \u001b[0;36m<cell line: 1>\u001b[1;34m()\u001b[0m\n\u001b[1;32m----> 1\u001b[0m \u001b[43mdivide\u001b[49m\u001b[43m(\u001b[49m\u001b[38;5;241;43m12\u001b[39;49m\u001b[43m,\u001b[49m\u001b[38;5;241;43m0\u001b[39;49m\u001b[43m)\u001b[49m\n",
      "Input \u001b[1;32mIn [71]\u001b[0m, in \u001b[0;36mdivide\u001b[1;34m(a, b)\u001b[0m\n\u001b[0;32m      1\u001b[0m \u001b[38;5;28;01mdef\u001b[39;00m \u001b[38;5;21mdivide\u001b[39m(a,b):\n\u001b[1;32m----> 2\u001b[0m     \u001b[38;5;28;01mreturn\u001b[39;00m \u001b[43ma\u001b[49m\u001b[38;5;241;43m/\u001b[39;49m\u001b[43mb\u001b[49m\n",
      "\u001b[1;31mZeroDivisionError\u001b[0m: division by zero"
     ]
    }
   ],
   "source": [
    "divide(12,0)"
   ]
  },
  {
   "cell_type": "code",
   "execution_count": 79,
   "id": "9f8c9bad",
   "metadata": {},
   "outputs": [],
   "source": [
    "a=\"18\""
   ]
  },
  {
   "cell_type": "code",
   "execution_count": 80,
   "id": "3c4b587c",
   "metadata": {},
   "outputs": [
    {
     "data": {
      "text/plain": [
       "True"
      ]
     },
     "execution_count": 80,
     "metadata": {},
     "output_type": "execute_result"
    }
   ],
   "source": [
    "a.isdigit()"
   ]
  },
  {
   "cell_type": "code",
   "execution_count": 3,
   "id": "ec4dc849",
   "metadata": {},
   "outputs": [
    {
     "name": "stdout",
     "output_type": "stream",
     "text": [
      "Enter the number:123\n",
      "True\n"
     ]
    }
   ],
   "source": [
    "num1=(input(\"Enter the number:\"))\n",
    "print(num1.isdigit())"
   ]
  },
  {
   "cell_type": "code",
   "execution_count": 17,
   "id": "8893591e",
   "metadata": {},
   "outputs": [],
   "source": [
    "def exception():\n",
    "    num=(input(\"enter the number:\"))\n",
    "    if not num.isdigit():\n",
    "        raise Exception(\"you given string\")\n",
    "    else:\n",
    "        print(num)"
   ]
  },
  {
   "cell_type": "code",
   "execution_count": 18,
   "id": "9b7129a4",
   "metadata": {},
   "outputs": [
    {
     "name": "stdout",
     "output_type": "stream",
     "text": [
      "enter the number:12345\n",
      "12345\n"
     ]
    }
   ],
   "source": [
    "exception()"
   ]
  },
  {
   "cell_type": "code",
   "execution_count": 27,
   "id": "70e81042",
   "metadata": {},
   "outputs": [
    {
     "name": "stdout",
     "output_type": "stream",
     "text": [
      "enter the number:sdfg\n"
     ]
    },
    {
     "ename": "Exception",
     "evalue": "you given string",
     "output_type": "error",
     "traceback": [
      "\u001b[1;31m---------------------------------------------------------------------------\u001b[0m",
      "\u001b[1;31mException\u001b[0m                                 Traceback (most recent call last)",
      "Input \u001b[1;32mIn [27]\u001b[0m, in \u001b[0;36m<cell line: 1>\u001b[1;34m()\u001b[0m\n\u001b[1;32m----> 1\u001b[0m \u001b[43mexception\u001b[49m\u001b[43m(\u001b[49m\u001b[43m)\u001b[49m\n",
      "Input \u001b[1;32mIn [17]\u001b[0m, in \u001b[0;36mexception\u001b[1;34m()\u001b[0m\n\u001b[0;32m      2\u001b[0m num\u001b[38;5;241m=\u001b[39m(\u001b[38;5;28minput\u001b[39m(\u001b[38;5;124m\"\u001b[39m\u001b[38;5;124menter the number:\u001b[39m\u001b[38;5;124m\"\u001b[39m))\n\u001b[0;32m      3\u001b[0m \u001b[38;5;28;01mif\u001b[39;00m \u001b[38;5;129;01mnot\u001b[39;00m num\u001b[38;5;241m.\u001b[39misdigit():\n\u001b[1;32m----> 4\u001b[0m     \u001b[38;5;28;01mraise\u001b[39;00m \u001b[38;5;167;01mException\u001b[39;00m(\u001b[38;5;124m\"\u001b[39m\u001b[38;5;124myou given string\u001b[39m\u001b[38;5;124m\"\u001b[39m)\n\u001b[0;32m      5\u001b[0m \u001b[38;5;28;01melse\u001b[39;00m:\n\u001b[0;32m      6\u001b[0m     \u001b[38;5;28mprint\u001b[39m(num)\n",
      "\u001b[1;31mException\u001b[0m: you given string"
     ]
    }
   ],
   "source": [
    "exception()       ###error"
   ]
  },
  {
   "cell_type": "markdown",
   "id": "3f3647d6",
   "metadata": {},
   "source": [
    "# ASSERT"
   ]
  },
  {
   "cell_type": "code",
   "execution_count": 26,
   "id": "f22b33b6",
   "metadata": {},
   "outputs": [
    {
     "name": "stdout",
     "output_type": "stream",
     "text": [
      "40 O.K\n",
      "26 O.K\n",
      "39 O.K\n",
      "30 O.K\n"
     ]
    },
    {
     "ename": "AssertionError",
     "evalue": "batch is rejected",
     "output_type": "error",
     "traceback": [
      "\u001b[1;31m---------------------------------------------------------------------------\u001b[0m",
      "\u001b[1;31mAssertionError\u001b[0m                            Traceback (most recent call last)",
      "Input \u001b[1;32mIn [26]\u001b[0m, in \u001b[0;36m<cell line: 3>\u001b[1;34m()\u001b[0m\n\u001b[0;32m      2\u001b[0m cut\u001b[38;5;241m=\u001b[39m\u001b[38;5;241m26\u001b[39m\n\u001b[0;32m      3\u001b[0m \u001b[38;5;28;01mfor\u001b[39;00m i \u001b[38;5;129;01min\u001b[39;00m batch:\n\u001b[1;32m----> 4\u001b[0m     \u001b[38;5;28;01massert\u001b[39;00m i\u001b[38;5;241m>\u001b[39m\u001b[38;5;241m=\u001b[39m\u001b[38;5;241m26\u001b[39m,\u001b[38;5;124m\"\u001b[39m\u001b[38;5;124mbatch is rejected\u001b[39m\u001b[38;5;124m\"\u001b[39m   \u001b[38;5;66;03m#assertion error\u001b[39;00m\n\u001b[0;32m      5\u001b[0m     \u001b[38;5;28mprint\u001b[39m(\u001b[38;5;28mstr\u001b[39m(i) \u001b[38;5;241m+\u001b[39m \u001b[38;5;124m\"\u001b[39m\u001b[38;5;124m O.K\u001b[39m\u001b[38;5;124m\"\u001b[39m)\n",
      "\u001b[1;31mAssertionError\u001b[0m: batch is rejected"
     ]
    }
   ],
   "source": [
    "batch=[40,26,39,30,25,21]\n",
    "cut=26\n",
    "for i in batch:\n",
    "    assert i>=26,\"batch is rejected\"   #assertion error\n",
    "    print(str(i) + \" O.K\")"
   ]
  },
  {
   "cell_type": "markdown",
   "id": "b9c5b834",
   "metadata": {},
   "source": [
    "# TRY AND EXCEPT BLOCK"
   ]
  },
  {
   "cell_type": "code",
   "execution_count": 40,
   "id": "b92bc913",
   "metadata": {},
   "outputs": [],
   "source": [
    "def divide1(a,b):\n",
    "    try:\n",
    "        return a/b\n",
    "    except TypeError:\n",
    "        print(\"your input is wrong\")\n",
    "    except ZeroDivisionError:\n",
    "        print(\"your denominator is wrong\")\n",
    "        "
   ]
  },
  {
   "cell_type": "code",
   "execution_count": 41,
   "id": "4da31b71",
   "metadata": {},
   "outputs": [
    {
     "data": {
      "text/plain": [
       "1.0"
      ]
     },
     "execution_count": 41,
     "metadata": {},
     "output_type": "execute_result"
    }
   ],
   "source": [
    "divide1(12,12)"
   ]
  },
  {
   "cell_type": "code",
   "execution_count": 42,
   "id": "4c212014",
   "metadata": {},
   "outputs": [
    {
     "name": "stdout",
     "output_type": "stream",
     "text": [
      "your denominator is wrong\n"
     ]
    }
   ],
   "source": [
    "divide1(12,0)"
   ]
  },
  {
   "cell_type": "code",
   "execution_count": 43,
   "id": "e43ce061",
   "metadata": {},
   "outputs": [
    {
     "name": "stdout",
     "output_type": "stream",
     "text": [
      "your input is wrong\n"
     ]
    }
   ],
   "source": [
    "divide1(12,str)"
   ]
  },
  {
   "cell_type": "code",
   "execution_count": 48,
   "id": "ea854107",
   "metadata": {},
   "outputs": [
    {
     "name": "stdout",
     "output_type": "stream",
     "text": [
      "your input is wrong\n"
     ]
    }
   ],
   "source": [
    "divide1(12,\"asd\")"
   ]
  },
  {
   "cell_type": "code",
   "execution_count": 59,
   "id": "a3203e9d",
   "metadata": {},
   "outputs": [],
   "source": [
    "def divide(): \n",
    "    try:\n",
    "        a=int(input(\"enter a number:\"))\n",
    "        b=int(input(\"enter a number:\"))\n",
    "        return a/b\n",
    "    except TypeError:\n",
    "        print(\"your input is wrong\")\n",
    "    except ZeroDivisionError:\n",
    "        print(\"your denominator is wrong\")\n",
    "    except Exception:\n",
    "        print(\"invalid data\")\n",
    "        divide()      ###recursive function      "
   ]
  },
  {
   "cell_type": "code",
   "execution_count": 60,
   "id": "10f941ed",
   "metadata": {},
   "outputs": [
    {
     "name": "stdout",
     "output_type": "stream",
     "text": [
      "enter a number:12\n",
      "enter a number:12\n"
     ]
    },
    {
     "data": {
      "text/plain": [
       "1.0"
      ]
     },
     "execution_count": 60,
     "metadata": {},
     "output_type": "execute_result"
    }
   ],
   "source": [
    "divide()"
   ]
  },
  {
   "cell_type": "code",
   "execution_count": 62,
   "id": "33e10d06",
   "metadata": {},
   "outputs": [
    {
     "name": "stdout",
     "output_type": "stream",
     "text": [
      "enter a number:12\n",
      "enter a number:qwer\n",
      "invalid data\n",
      "enter a number:12\n",
      "enter a number:0\n",
      "your denominator is wrong\n"
     ]
    }
   ],
   "source": [
    "divide()"
   ]
  },
  {
   "cell_type": "markdown",
   "id": "a9469c65",
   "metadata": {},
   "source": [
    "# FINALLY"
   ]
  },
  {
   "cell_type": "code",
   "execution_count": 63,
   "id": "aeeaf9da",
   "metadata": {},
   "outputs": [],
   "source": [
    "def divide(): \n",
    "    try:\n",
    "        a=int(input(\"enter a number:\"))\n",
    "        b=int(input(\"enter a number:\"))\n",
    "        return a/b\n",
    "    except TypeError:\n",
    "        print(\"your input is wrong\")\n",
    "    except ZeroDivisionError:\n",
    "        print(\"your denominator is wrong\")\n",
    "    except Exception:\n",
    "        print(\"invalid data\")\n",
    "    finally:\n",
    "        print(\"Thankyou\")          "
   ]
  },
  {
   "cell_type": "code",
   "execution_count": 64,
   "id": "15de7e1d",
   "metadata": {},
   "outputs": [
    {
     "name": "stdout",
     "output_type": "stream",
     "text": [
      "enter a number:12\n",
      "enter a number:2\n",
      "Thankyou\n"
     ]
    },
    {
     "data": {
      "text/plain": [
       "6.0"
      ]
     },
     "execution_count": 64,
     "metadata": {},
     "output_type": "execute_result"
    }
   ],
   "source": [
    "divide()"
   ]
  },
  {
   "cell_type": "code",
   "execution_count": 75,
   "id": "50748fbc",
   "metadata": {},
   "outputs": [
    {
     "name": "stdout",
     "output_type": "stream",
     "text": [
      "enter the number:asdf\n",
      "not a integer\n"
     ]
    }
   ],
   "source": [
    "##### else\n",
    "\n",
    "try:\n",
    "    num=int(input(\"enter the number:\"))\n",
    "    assert num % 2 == 0\n",
    "except ValueError:\n",
    "    print(\"not a integer\")\n",
    "except :\n",
    "    print(\"not a even number\")\n",
    "else:\n",
    "    rec=1/num\n",
    "    print(rec)"
   ]
  },
  {
   "cell_type": "markdown",
   "id": "ab25cd18",
   "metadata": {},
   "source": [
    "# HIGHER ORDER FUNCTION"
   ]
  },
  {
   "cell_type": "markdown",
   "id": "a1049ee4",
   "metadata": {},
   "source": [
    "### Map: \n",
    "- The map() function takes a function and an iterable (such as a list) as arguments. \n",
    "- It applies the function to each item in the iterable and returns an iterator that yields the results.\n",
    "- Essentially, map() transforms each element of a collection using a provided function."
   ]
  },
  {
   "cell_type": "markdown",
   "id": "7aa39033",
   "metadata": {},
   "source": [
    "# map() Syntax\n",
    "Its syntax is:\n",
    "\n",
    "     map(function, iterable, ...)"
   ]
  },
  {
   "cell_type": "code",
   "execution_count": 2,
   "id": "09ceacad",
   "metadata": {},
   "outputs": [],
   "source": [
    "numbers = [2, 4, 6, 8, 10]\n",
    "def square(a):\n",
    "    return a**2"
   ]
  },
  {
   "cell_type": "code",
   "execution_count": 3,
   "id": "301315a4",
   "metadata": {},
   "outputs": [
    {
     "data": {
      "text/plain": [
       "{4, 16, 36, 64, 100}"
      ]
     },
     "execution_count": 3,
     "metadata": {},
     "output_type": "execute_result"
    }
   ],
   "source": [
    " set(map(square,numbers))"
   ]
  },
  {
   "cell_type": "code",
   "execution_count": 4,
   "id": "d73745d9",
   "metadata": {},
   "outputs": [],
   "source": [
    "def square(number):\n",
    "    '''\n",
    "    it return the add function\n",
    "    '''\n",
    "    return number * number"
   ]
  },
  {
   "cell_type": "code",
   "execution_count": 5,
   "id": "4eb6fcc7",
   "metadata": {},
   "outputs": [
    {
     "data": {
      "text/plain": [
       "16"
      ]
     },
     "execution_count": 5,
     "metadata": {},
     "output_type": "execute_result"
    }
   ],
   "source": [
    "square(4)"
   ]
  },
  {
   "cell_type": "code",
   "execution_count": 6,
   "id": "8fbd061b",
   "metadata": {},
   "outputs": [
    {
     "name": "stdout",
     "output_type": "stream",
     "text": [
      "<class 'tuple'>\n"
     ]
    }
   ],
   "source": [
    "n = map(square,numbers)\n",
    "print(type(tuple(n)))"
   ]
  },
  {
   "cell_type": "code",
   "execution_count": 7,
   "id": "86aac9bd",
   "metadata": {},
   "outputs": [
    {
     "name": "stdout",
     "output_type": "stream",
     "text": [
      "[1, 4, 9, 16, 25]\n"
     ]
    }
   ],
   "source": [
    "# Example of map function\n",
    "def square(x):\n",
    "    return x ** 2\n",
    "\n",
    "numbers = (1, 2, 3, 4, 5)\n",
    "squared_numbers = map(square, numbers)\n",
    "print(list(squared_numbers))"
   ]
  },
  {
   "cell_type": "markdown",
   "id": "8f7772a5",
   "metadata": {
    "scrolled": true
   },
   "source": [
    "### Reduce:\n",
    "- The reduce() function is part of the functools module in Python. \n",
    "- It applies a rolling computation to sequential pairs of values in an iterable and ultimately returns a single result. \n",
    "- The function provided to reduce() should take two arguments and return a single value. \n",
    "- It's often used to perform some kind of aggregation or accumulation operation on a collection."
   ]
  },
  {
   "cell_type": "code",
   "execution_count": 7,
   "id": "a99fb657",
   "metadata": {},
   "outputs": [
    {
     "data": {
      "text/plain": [
       "['GenericAlias',\n",
       " 'RLock',\n",
       " 'WRAPPER_ASSIGNMENTS',\n",
       " 'WRAPPER_UPDATES',\n",
       " '_CacheInfo',\n",
       " '_HashedSeq',\n",
       " '_NOT_FOUND',\n",
       " '__all__',\n",
       " '__builtins__',\n",
       " '__cached__',\n",
       " '__doc__',\n",
       " '__file__',\n",
       " '__loader__',\n",
       " '__name__',\n",
       " '__package__',\n",
       " '__spec__',\n",
       " '_c3_merge',\n",
       " '_c3_mro',\n",
       " '_compose_mro',\n",
       " '_convert',\n",
       " '_find_impl',\n",
       " '_ge_from_gt',\n",
       " '_ge_from_le',\n",
       " '_ge_from_lt',\n",
       " '_gt_from_ge',\n",
       " '_gt_from_le',\n",
       " '_gt_from_lt',\n",
       " '_initial_missing',\n",
       " '_le_from_ge',\n",
       " '_le_from_gt',\n",
       " '_le_from_lt',\n",
       " '_lru_cache_wrapper',\n",
       " '_lt_from_ge',\n",
       " '_lt_from_gt',\n",
       " '_lt_from_le',\n",
       " '_make_key',\n",
       " '_unwrap_partial',\n",
       " 'cache',\n",
       " 'cached_property',\n",
       " 'cmp_to_key',\n",
       " 'get_cache_token',\n",
       " 'lru_cache',\n",
       " 'namedtuple',\n",
       " 'partial',\n",
       " 'partialmethod',\n",
       " 'recursive_repr',\n",
       " 'reduce',\n",
       " 'singledispatch',\n",
       " 'singledispatchmethod',\n",
       " 'total_ordering',\n",
       " 'update_wrapper',\n",
       " 'wraps']"
      ]
     },
     "execution_count": 7,
     "metadata": {},
     "output_type": "execute_result"
    }
   ],
   "source": [
    "import functools as fs\n",
    "dir(fs)"
   ]
  },
  {
   "cell_type": "code",
   "execution_count": 8,
   "id": "a1189c66",
   "metadata": {},
   "outputs": [
    {
     "data": {
      "text/plain": [
       "72"
      ]
     },
     "execution_count": 8,
     "metadata": {},
     "output_type": "execute_result"
    }
   ],
   "source": [
    "from functools import reduce\n",
    "def add(x,y):\n",
    "    return x+y\n",
    "num = (12,24,36)\n",
    "red = reduce(add,num)\n",
    "red"
   ]
  },
  {
   "cell_type": "code",
   "execution_count": 9,
   "id": "00109111",
   "metadata": {},
   "outputs": [
    {
     "name": "stdout",
     "output_type": "stream",
     "text": [
      "15\n"
     ]
    }
   ],
   "source": [
    "# Example of reduce function\n",
    "from functools import reduce\n",
    "\n",
    "def add(x, y):\n",
    "    return x + y\n",
    "\n",
    "numbers = [1, 2, 3, 4, 5]\n",
    "sum_of_numbers = reduce(add, numbers)\n",
    "print(sum_of_numbers) \n"
   ]
  },
  {
   "cell_type": "markdown",
   "id": "075ea533",
   "metadata": {},
   "source": [
    "## Lambda functions:\n",
    "- Lambda functions, also known as anonymous functions, are small, inline functions defined using the lambda keyword.\n",
    "- They can have any number of arguments but can only contain a single expression. \n",
    "- Lambda functions are often used when a simple function is needed for a short period and does not need a name.\n",
    "\n"
   ]
  },
  {
   "cell_type": "code",
   "execution_count": 21,
   "id": "808c9ff1",
   "metadata": {},
   "outputs": [],
   "source": [
    "numbers=[10,10]"
   ]
  },
  {
   "cell_type": "code",
   "execution_count": 22,
   "id": "57f5886d",
   "metadata": {},
   "outputs": [
    {
     "data": {
      "text/plain": [
       "100"
      ]
     },
     "execution_count": 22,
     "metadata": {},
     "output_type": "execute_result"
    }
   ],
   "source": [
    "n = reduce(lambda x,y : x*y,numbers)\n",
    "n"
   ]
  },
  {
   "cell_type": "code",
   "execution_count": 15,
   "id": "bd0c2364",
   "metadata": {},
   "outputs": [
    {
     "name": "stdout",
     "output_type": "stream",
     "text": [
      "hello world python\n"
     ]
    }
   ],
   "source": [
    "\n",
    "words = [\"hello\", \"world\", \"python\"]\n",
    "concatenated_string = reduce(lambda x, y: x + ' '+  y, words)\n",
    "print(concatenated_string) "
   ]
  },
  {
   "cell_type": "code",
   "execution_count": 23,
   "id": "b4d9b352",
   "metadata": {},
   "outputs": [
    {
     "name": "stdout",
     "output_type": "stream",
     "text": [
      "10\n"
     ]
    }
   ],
   "source": [
    "numbers = [5, 8, 3, 2, 10]\n",
    "max_number = reduce(lambda x, y: x if x > y else y, numbers)\n",
    "print(max_number)"
   ]
  },
  {
   "cell_type": "code",
   "execution_count": 24,
   "id": "eed50d60",
   "metadata": {},
   "outputs": [
    {
     "name": "stdout",
     "output_type": "stream",
     "text": [
      "Hello World!\n"
     ]
    }
   ],
   "source": [
    "\n",
    "words = [\"Hello\", \" \", \"World\", \"!\"]\n",
    "concatenated_string = reduce(lambda x, y: x + y, words)\n",
    "print(concatenated_string)"
   ]
  },
  {
   "cell_type": "code",
   "execution_count": 25,
   "id": "631addbe",
   "metadata": {},
   "outputs": [
    {
     "name": "stdout",
     "output_type": "stream",
     "text": [
      "120\n"
     ]
    }
   ],
   "source": [
    "from functools import reduce\n",
    "\n",
    "def factorial(n):\n",
    "    return reduce(lambda x, y: x * y, range(1, n + 1))\n",
    "\n",
    "print(factorial(5)) "
   ]
  },
  {
   "cell_type": "code",
   "execution_count": 26,
   "id": "6d0f57a5",
   "metadata": {},
   "outputs": [
    {
     "name": "stdout",
     "output_type": "stream",
     "text": [
      "[1, 4, 9, 16, 25]\n"
     ]
    }
   ],
   "source": [
    "numbers = [1, 2, 3, 4, 5]\n",
    "squared_numbers = map(lambda x: x ** 2, numbers)\n",
    "print(list(squared_numbers)) "
   ]
  },
  {
   "cell_type": "markdown",
   "id": "96417786",
   "metadata": {},
   "source": [
    "# filter\n",
    "\n",
    "--> returns the item foe which the functions returns true.\n",
    "\n",
    "\n",
    "-->syntax:filter(function,iterable)\n",
    "\n",
    "-->iterable--->>list,tuple,set etc"
   ]
  },
  {
   "cell_type": "code",
   "execution_count": 28,
   "id": "d96d0106",
   "metadata": {},
   "outputs": [],
   "source": [
    "def fun(a):\n",
    "    return a%2 == 0\n"
   ]
  },
  {
   "cell_type": "code",
   "execution_count": 29,
   "id": "7065c6de",
   "metadata": {},
   "outputs": [],
   "source": [
    "def fun(a):\n",
    "    return a*2\n"
   ]
  },
  {
   "cell_type": "code",
   "execution_count": 30,
   "id": "92274a71",
   "metadata": {},
   "outputs": [
    {
     "data": {
      "text/plain": [
       "4"
      ]
     },
     "execution_count": 30,
     "metadata": {},
     "output_type": "execute_result"
    }
   ],
   "source": [
    "fun(2)"
   ]
  },
  {
   "cell_type": "code",
   "execution_count": 36,
   "id": "3190c3a1",
   "metadata": {},
   "outputs": [
    {
     "data": {
      "text/plain": [
       "[1, 2, 3, 4, 5]"
      ]
     },
     "execution_count": 36,
     "metadata": {},
     "output_type": "execute_result"
    }
   ],
   "source": [
    "numbers = [1, 2, 3, 4, 5]\n",
    "list(filter(fun,numbers))"
   ]
  },
  {
   "cell_type": "code",
   "execution_count": 37,
   "id": "b8cc8518",
   "metadata": {},
   "outputs": [
    {
     "name": "stdout",
     "output_type": "stream",
     "text": [
      "[False, True, False, True, False]\n"
     ]
    }
   ],
   "source": [
    "even_numbers = map(lambda x: x % 2 == 0, numbers)\n",
    "print(list(even_numbers))"
   ]
  },
  {
   "cell_type": "code",
   "execution_count": 38,
   "id": "1bd66e5e",
   "metadata": {},
   "outputs": [
    {
     "name": "stdout",
     "output_type": "stream",
     "text": [
      "[2, 4]\n"
     ]
    }
   ],
   "source": [
    "even_numbers = filter(lambda x: x % 2 == 0, numbers)\n",
    "print(list(even_numbers))"
   ]
  },
  {
   "cell_type": "markdown",
   "id": "3d5bc550",
   "metadata": {},
   "source": [
    "# Example 1: Working of map()"
   ]
  },
  {
   "cell_type": "code",
   "execution_count": 39,
   "id": "9ee58849",
   "metadata": {},
   "outputs": [
    {
     "name": "stdout",
     "output_type": "stream",
     "text": [
      "<map object at 0x000001F365E20F10>\n",
      "{16, 1, 4, 9}\n"
     ]
    }
   ],
   "source": [
    "def calculateSquare(n):\n",
    "    return n*n\n",
    "\n",
    "\n",
    "numbers = (1, 2, 3, 4)\n",
    "result = map(calculateSquare, numbers)\n",
    "print(result)\n",
    "\n",
    "\n",
    "# converting map object to set\n",
    "numbersSquare = set(result)\n",
    "print(numbersSquare)"
   ]
  },
  {
   "cell_type": "markdown",
   "id": "8b54ad7b",
   "metadata": {},
   "source": [
    "# Example 2: How to use lambda function with map()?"
   ]
  },
  {
   "cell_type": "code",
   "execution_count": 40,
   "id": "77415fb1",
   "metadata": {
    "scrolled": true
   },
   "outputs": [
    {
     "name": "stdout",
     "output_type": "stream",
     "text": [
      "<map object at 0x000001F365E14C70>\n",
      "{16, 1, 4, 9}\n"
     ]
    }
   ],
   "source": [
    "numbers = (1, 2, 3, 4)\n",
    "result = map(lambda x: x*x, numbers)\n",
    "print(result)\n",
    "\n",
    "# converting map object to set\n",
    "numbersSquare = set(result)\n",
    "print(numbersSquare)"
   ]
  },
  {
   "cell_type": "code",
   "execution_count": 41,
   "id": "15092255",
   "metadata": {},
   "outputs": [
    {
     "data": {
      "text/plain": [
       "5"
      ]
     },
     "execution_count": 41,
     "metadata": {},
     "output_type": "execute_result"
    }
   ],
   "source": [
    "len(\"Rahul\")"
   ]
  },
  {
   "cell_type": "code",
   "execution_count": 42,
   "id": "8839aaa3",
   "metadata": {},
   "outputs": [
    {
     "name": "stdout",
     "output_type": "stream",
     "text": [
      "['apple', 'kiwi', 'grape']\n"
     ]
    }
   ],
   "source": [
    "# Filter out words longer than 5 characters\n",
    "words = [\"apple\", \"banana\", \"kiwi\", \"orange\", \"grape\"]\n",
    "short_words = filter(lambda x: len(x) <= 5, words)\n",
    "print(list(short_words))"
   ]
  },
  {
   "cell_type": "code",
   "execution_count": 43,
   "id": "443edfd9",
   "metadata": {
    "scrolled": true
   },
   "outputs": [
    {
     "name": "stdout",
     "output_type": "stream",
     "text": [
      "[0, 1, 2, 3]\n"
     ]
    }
   ],
   "source": [
    "# Filter out negative numbers\n",
    "numbers = [-3, -2, -1, 0, 1, 2, 3]\n",
    "positive_numbers = filter(lambda x: x >= 0, numbers)\n",
    "print(list(positive_numbers))\n",
    "\n"
   ]
  },
  {
   "cell_type": "code",
   "execution_count": 44,
   "id": "5f761216",
   "metadata": {},
   "outputs": [
    {
     "name": "stdout",
     "output_type": "stream",
     "text": [
      "[2, 4]\n"
     ]
    }
   ],
   "source": [
    "\n",
    "def is_even(x):\n",
    "    return x % 2 == 0\n",
    "\n",
    "numbers = [1, 2, 3, 4, 5]\n",
    "even_numbers = filter(is_even, numbers)\n",
    "# print(list(even_numbers))\n",
    "print(list(even_numbers))"
   ]
  },
  {
   "cell_type": "markdown",
   "id": "31aa2187",
   "metadata": {},
   "source": [
    "# Example 3: Passing Multiple Iterators to map() Using Lambda\n",
    "- In this example, corresponding items of two lists are added."
   ]
  },
  {
   "cell_type": "code",
   "execution_count": 45,
   "id": "2c6abb08",
   "metadata": {},
   "outputs": [
    {
     "name": "stdout",
     "output_type": "stream",
     "text": [
      "[9, 11, 13]\n"
     ]
    }
   ],
   "source": [
    "num1 = [4, 5, 6]\n",
    "num2 = [5, 6, 7]\n",
    "\n",
    "result = map(lambda n1, n2: n1+n2, num1, num2)\n",
    "print(list(result))"
   ]
  },
  {
   "cell_type": "markdown",
   "id": "764d105c",
   "metadata": {},
   "source": [
    "# List comprehension"
   ]
  },
  {
   "cell_type": "markdown",
   "id": "12bf025a",
   "metadata": {
    "scrolled": true
   },
   "source": [
    "# List Comprehension\n",
    "- its faster compared to normal for loop Techniques\n"
   ]
  },
  {
   "cell_type": "code",
   "execution_count": 27,
   "id": "92c9e40b",
   "metadata": {},
   "outputs": [
    {
     "name": "stdout",
     "output_type": "stream",
     "text": [
      "[1, 2, 3, 4, 5, 6, 7, 8, 9, 10, 11, 12, 13, 14, 15]\n"
     ]
    }
   ],
   "source": [
    "empty = []\n",
    "for i in range(1,16):\n",
    "    empty.append(i)\n",
    "print(empty)\n",
    "    "
   ]
  },
  {
   "cell_type": "code",
   "execution_count": 30,
   "id": "01b7a8ec",
   "metadata": {},
   "outputs": [
    {
     "data": {
      "text/plain": [
       "[1, 2, 3, 4, 5, 6, 7, 8, 9, 10, 11, 12, 13, 14, 15]"
      ]
     },
     "execution_count": 30,
     "metadata": {},
     "output_type": "execute_result"
    }
   ],
   "source": [
    "[i for i in range(1,16)]"
   ]
  },
  {
   "cell_type": "code",
   "execution_count": 47,
   "id": "10f8bd6f",
   "metadata": {},
   "outputs": [
    {
     "data": {
      "text/plain": [
       "[1, 2, 3, 4, 5, 6, 7, 8, 9, 10, 11, 12, 13, 14, 15, 16, 17, 18, 19, 20]"
      ]
     },
     "execution_count": 47,
     "metadata": {},
     "output_type": "execute_result"
    }
   ],
   "source": [
    "empty = []\n",
    "for i in range(1,21):\n",
    "    empty.append(i)\n",
    "empty\n",
    "    "
   ]
  },
  {
   "cell_type": "code",
   "execution_count": 48,
   "id": "d7f93d74",
   "metadata": {},
   "outputs": [
    {
     "data": {
      "text/plain": [
       "[1, 2, 3, 4, 5, 6, 7, 8, 9, 10, 11, 12, 13, 14, 15, 16, 17, 18, 19, 20]"
      ]
     },
     "execution_count": 48,
     "metadata": {},
     "output_type": "execute_result"
    }
   ],
   "source": [
    "res = [i for i in range(1,21)]\n",
    "res"
   ]
  },
  {
   "cell_type": "code",
   "execution_count": 57,
   "id": "06d03937",
   "metadata": {},
   "outputs": [
    {
     "data": {
      "text/plain": [
       "(1, 2, 3, 4, 5, 6, 7, 8, 9, 10, 11, 12, 13, 14, 15, 16, 17, 18, 19, 20)"
      ]
     },
     "execution_count": 57,
     "metadata": {},
     "output_type": "execute_result"
    }
   ],
   "source": [
    "empty = []\n",
    "for i in range(1,21):\n",
    "    empty.append(i)\n",
    "tuple(empty)"
   ]
  },
  {
   "cell_type": "code",
   "execution_count": 31,
   "id": "f4ce3063",
   "metadata": {},
   "outputs": [],
   "source": [
    "new_list = [12,14,16,18]"
   ]
  },
  {
   "cell_type": "code",
   "execution_count": 32,
   "id": "882e9e2e",
   "metadata": {},
   "outputs": [
    {
     "data": {
      "text/plain": [
       "[144, 196, 256, 324]"
      ]
     },
     "execution_count": 32,
     "metadata": {},
     "output_type": "execute_result"
    }
   ],
   "source": [
    "# Traditional method\n",
    "loop_list = []\n",
    "for num in new_list:\n",
    "    sq_num = num*num\n",
    "    loop_list.append(sq_num)\n",
    "loop_list"
   ]
  },
  {
   "cell_type": "code",
   "execution_count": 33,
   "id": "1e0962c4",
   "metadata": {},
   "outputs": [
    {
     "data": {
      "text/plain": [
       "[144, 196, 256, 324]"
      ]
     },
     "execution_count": 33,
     "metadata": {},
     "output_type": "execute_result"
    }
   ],
   "source": [
    "[ num*num  for num in new_list] # its faster compared to normal for loop teckinuques   "
   ]
  },
  {
   "cell_type": "code",
   "execution_count": 62,
   "id": "b6a1c6c5",
   "metadata": {},
   "outputs": [],
   "source": [
    "marks = [\"100\",\"250\",\"400\",\"764\"]"
   ]
  },
  {
   "cell_type": "code",
   "execution_count": 63,
   "id": "a5da6a96",
   "metadata": {},
   "outputs": [
    {
     "data": {
      "text/plain": [
       "[100, 250, 400, 764]"
      ]
     },
     "execution_count": 63,
     "metadata": {},
     "output_type": "execute_result"
    }
   ],
   "source": [
    "marks_int = []\n",
    "for num in marks:\n",
    "    converted_marks = int(num)\n",
    "    marks_int.append(converted_marks)\n",
    "marks_int"
   ]
  },
  {
   "cell_type": "code",
   "execution_count": 64,
   "id": "3c2f3559",
   "metadata": {},
   "outputs": [
    {
     "data": {
      "text/plain": [
       "[100, 250, 400, 764]"
      ]
     },
     "execution_count": 64,
     "metadata": {},
     "output_type": "execute_result"
    }
   ],
   "source": [
    "[ int(num) for num in marks ]"
   ]
  },
  {
   "cell_type": "code",
   "execution_count": 65,
   "id": "b828624a",
   "metadata": {},
   "outputs": [
    {
     "data": {
      "text/plain": [
       "5"
      ]
     },
     "execution_count": 65,
     "metadata": {},
     "output_type": "execute_result"
    }
   ],
   "source": [
    "names= \"Peter\"\n",
    "len(names)"
   ]
  },
  {
   "cell_type": "code",
   "execution_count": 66,
   "id": "ab127c82",
   "metadata": {},
   "outputs": [
    {
     "data": {
      "text/plain": [
       "[1, 2, 3, 4, 5, 6, 7, 8, 9, 10]"
      ]
     },
     "execution_count": 66,
     "metadata": {},
     "output_type": "execute_result"
    }
   ],
   "source": [
    "num_1 = list(range(1,11))\n",
    "num_1"
   ]
  },
  {
   "cell_type": "code",
   "execution_count": 67,
   "id": "f0d0af20",
   "metadata": {},
   "outputs": [],
   "source": [
    "# Traditional format \n",
    "even = []\n",
    "for num in range(1,11):\n",
    "    if num%2 == 0:\n",
    "        even.append(num)"
   ]
  },
  {
   "cell_type": "code",
   "execution_count": 68,
   "id": "b8e1108a",
   "metadata": {},
   "outputs": [
    {
     "data": {
      "text/plain": [
       "[2, 4, 6, 8, 10]"
      ]
     },
     "execution_count": 68,
     "metadata": {},
     "output_type": "execute_result"
    }
   ],
   "source": [
    "even"
   ]
  },
  {
   "cell_type": "markdown",
   "id": "9493f2ab",
   "metadata": {},
   "source": [
    "- 1st part is stored what u want to store in the list\n",
    "- 2nd part is for loop\n",
    "- 3rd part is condition"
   ]
  },
  {
   "cell_type": "code",
   "execution_count": 69,
   "id": "e7b82b76",
   "metadata": {},
   "outputs": [
    {
     "data": {
      "text/plain": [
       "[2, 4, 6, 8, 10]"
      ]
     },
     "execution_count": 69,
     "metadata": {},
     "output_type": "execute_result"
    }
   ],
   "source": [
    "[num for num in range(1,11) if num%2 == 0 ]       "
   ]
  },
  {
   "cell_type": "markdown",
   "id": "6bf869a2",
   "metadata": {},
   "source": [
    "# Time Taken"
   ]
  },
  {
   "cell_type": "code",
   "execution_count": 70,
   "id": "d9a6cf33",
   "metadata": {},
   "outputs": [
    {
     "name": "stdout",
     "output_type": "stream",
     "text": [
      "Time Taken: 3.2889065742492676\n"
     ]
    }
   ],
   "source": [
    "import time \n",
    "start_time = time.time()\n",
    "[num for num in range(1,10000000) if num %2 == 0 ]  # \n",
    "end_time = time.time()\n",
    "print(\"Time Taken:\", end_time - start_time)"
   ]
  },
  {
   "cell_type": "code",
   "execution_count": 71,
   "id": "ad188751",
   "metadata": {},
   "outputs": [
    {
     "name": "stdout",
     "output_type": "stream",
     "text": [
      "Time Taken: 3.259643316268921\n"
     ]
    }
   ],
   "source": [
    "import time \n",
    "start_time = time.time()\n",
    "even = []\n",
    "for num in range(1,10000000):\n",
    "    if num%2 == 0:\n",
    "        even.append(num)\n",
    "end_time = time.time()\n",
    "print(\"Time Taken:\", end_time - start_time)"
   ]
  },
  {
   "cell_type": "code",
   "execution_count": 72,
   "id": "8b6bd820",
   "metadata": {},
   "outputs": [
    {
     "name": "stdout",
     "output_type": "stream",
     "text": [
      "[2, 4, 6, 8, 10]\n"
     ]
    }
   ],
   "source": [
    "\n",
    "# returns True if the argument passed is even\n",
    "\n",
    "def check_even(number):\n",
    "    if number % 2 == 0:\n",
    "          return True  \n",
    "\n",
    "    return False\n",
    "\n",
    "\n",
    "numbers = [1, 2, 3, 4, 5, 6, 7, 8, 9, 10]\n",
    "\n",
    "# if an element passed to check_even() returns True, select it\n",
    "even_numbers_iterator = filter(check_even, numbers)\n",
    "\n",
    "# converting to list\n",
    "even_numbers = list(even_numbers_iterator)\n",
    "\n",
    "print(even_numbers)\n"
   ]
  },
  {
   "cell_type": "code",
   "execution_count": 73,
   "id": "70bb9077",
   "metadata": {
    "scrolled": false
   },
   "outputs": [
    {
     "name": "stdout",
     "output_type": "stream",
     "text": [
      "Help on class filter in module builtins:\n",
      "\n",
      "class filter(object)\n",
      " |  filter(function or None, iterable) --> filter object\n",
      " |  \n",
      " |  Return an iterator yielding those items of iterable for which function(item)\n",
      " |  is true. If function is None, return the items that are true.\n",
      " |  \n",
      " |  Methods defined here:\n",
      " |  \n",
      " |  __getattribute__(self, name, /)\n",
      " |      Return getattr(self, name).\n",
      " |  \n",
      " |  __iter__(self, /)\n",
      " |      Implement iter(self).\n",
      " |  \n",
      " |  __next__(self, /)\n",
      " |      Implement next(self).\n",
      " |  \n",
      " |  __reduce__(...)\n",
      " |      Return state information for pickling.\n",
      " |  \n",
      " |  ----------------------------------------------------------------------\n",
      " |  Static methods defined here:\n",
      " |  \n",
      " |  __new__(*args, **kwargs) from builtins.type\n",
      " |      Create and return a new object.  See help(type) for accurate signature.\n",
      "\n"
     ]
    }
   ],
   "source": [
    "help(filter)"
   ]
  },
  {
   "cell_type": "code",
   "execution_count": 77,
   "id": "55790a5d",
   "metadata": {},
   "outputs": [
    {
     "name": "stdout",
     "output_type": "stream",
     "text": [
      "Summation =  20\n"
     ]
    }
   ],
   "source": [
    "def Sample_list(numbers):\n",
    "    return sum(numbers)\n",
    "\n",
    "print(\"Summation = \",Sample_list((8, 2, 3, 0, 7)))"
   ]
  },
  {
   "cell_type": "code",
   "execution_count": null,
   "id": "934872a7",
   "metadata": {},
   "outputs": [],
   "source": [
    "numbers = [1, 2, 3, 4, 5, 6, 7, 8, 9, 10]\n"
   ]
  },
  {
   "cell_type": "code",
   "execution_count": 78,
   "id": "8f0a5734",
   "metadata": {},
   "outputs": [],
   "source": [
    "def is_even(num):\n",
    "    if num%2 == 0:\n",
    "        return True\n",
    "    else:\n",
    "        return False"
   ]
  },
  {
   "cell_type": "code",
   "execution_count": 80,
   "id": "0cb66497",
   "metadata": {},
   "outputs": [
    {
     "data": {
      "text/plain": [
       "True"
      ]
     },
     "execution_count": 80,
     "metadata": {},
     "output_type": "execute_result"
    }
   ],
   "source": [
    "is_even(8)"
   ]
  },
  {
   "cell_type": "code",
   "execution_count": 81,
   "id": "364139c6",
   "metadata": {},
   "outputs": [
    {
     "data": {
      "text/plain": [
       "False"
      ]
     },
     "execution_count": 81,
     "metadata": {},
     "output_type": "execute_result"
    }
   ],
   "source": [
    "is_even(7)"
   ]
  },
  {
   "cell_type": "code",
   "execution_count": 79,
   "id": "855416a7",
   "metadata": {},
   "outputs": [
    {
     "data": {
      "text/plain": [
       "[2, 4, 6, 8, 10]"
      ]
     },
     "execution_count": 79,
     "metadata": {},
     "output_type": "execute_result"
    }
   ],
   "source": [
    "list(filter(is_even,numbers))"
   ]
  },
  {
   "cell_type": "code",
   "execution_count": 82,
   "id": "4abadd64",
   "metadata": {},
   "outputs": [
    {
     "name": "stdout",
     "output_type": "stream",
     "text": [
      "[1, 2, 3, 4, 5, 6, 7, 8, 9, 10]\n",
      "[False, True, False, True, False, True, False, True, False, True]\n"
     ]
    }
   ],
   "source": [
    "numbers = list(range(1,11))\n",
    "print(numbers) \n",
    "a = map(lambda  num : num%2 == 0,numbers )   ###function\n",
    "print(list(a))"
   ]
  }
 ],
 "metadata": {
  "kernelspec": {
   "display_name": "Python 3 (ipykernel)",
   "language": "python",
   "name": "python3"
  },
  "language_info": {
   "codemirror_mode": {
    "name": "ipython",
    "version": 3
   },
   "file_extension": ".py",
   "mimetype": "text/x-python",
   "name": "python",
   "nbconvert_exporter": "python",
   "pygments_lexer": "ipython3",
   "version": "3.9.12"
  }
 },
 "nbformat": 4,
 "nbformat_minor": 5
}
