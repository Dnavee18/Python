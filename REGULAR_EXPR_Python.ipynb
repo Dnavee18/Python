{
 "cells": [
  {
   "cell_type": "markdown",
   "id": "ea334c1e",
   "metadata": {},
   "source": [
    "# DAY_7"
   ]
  },
  {
   "cell_type": "markdown",
   "id": "c3fc2caf",
   "metadata": {},
   "source": [
    "# REGULAR_EXPRESSION"
   ]
  },
  {
   "cell_type": "markdown",
   "id": "bb8c24e1",
   "metadata": {},
   "source": [
    "A RegEx is a powerful tool for matching text, based on a pre-defined pattern.\n",
    "- It can detect the presence or absence of a text by matching it with a particular pattern, and also can split a pattern into one or more sub-patterns.\n",
    "- The Python standard library provides a re module for regular expressions. Its primary function is to offer a search, where it takes a regular expression and a string."
   ]
  },
  {
   "cell_type": "markdown",
   "id": "8e7dfe69",
   "metadata": {},
   "source": [
    "Why RegEx?\n",
    "\n",
    "Let’s take a moment to understand why we should use Regular expression.\n",
    "\n",
    "Data Mining:\n",
    "Regular expression is the best tool for data mining.\n",
    "It efficiently identifies a text in a heap of text by checking with a pre-defined pattern.\n",
    "Some common scenarios are identifying an email, URL, or phone from a pile of text.\n",
    "\n",
    "Data Validation:\n",
    "Regular expression can perfectly validate data.\n",
    "It can include a wide array of validation processes by defining different sets of patterns.\n",
    "A few examples are validating phone numbers, emails, etc.\n",
    "\n"
   ]
  },
  {
   "cell_type": "code",
   "execution_count": 2,
   "id": "8a1c3c92",
   "metadata": {},
   "outputs": [],
   "source": [
    "import re"
   ]
  },
  {
   "cell_type": "code",
   "execution_count": 3,
   "id": "9bbe0220",
   "metadata": {},
   "outputs": [
    {
     "name": "stdout",
     "output_type": "stream",
     "text": [
      "Help on module re:\n",
      "\n",
      "NAME\n",
      "    re - Support for regular expressions (RE).\n",
      "\n",
      "MODULE REFERENCE\n",
      "    https://docs.python.org/3.9/library/re\n",
      "    \n",
      "    The following documentation is automatically generated from the Python\n",
      "    source files.  It may be incomplete, incorrect or include features that\n",
      "    are considered implementation detail and may vary between Python\n",
      "    implementations.  When in doubt, consult the module reference at the\n",
      "    location listed above.\n",
      "\n",
      "DESCRIPTION\n",
      "    This module provides regular expression matching operations similar to\n",
      "    those found in Perl.  It supports both 8-bit and Unicode strings; both\n",
      "    the pattern and the strings being processed can contain null bytes and\n",
      "    characters outside the US ASCII range.\n",
      "    \n",
      "    Regular expressions can contain both special and ordinary characters.\n",
      "    Most ordinary characters, like \"A\", \"a\", or \"0\", are the simplest\n",
      "    regular expressions; they simply match themselves.  You can\n",
      "    concatenate ordinary characters, so last matches the string 'last'.\n",
      "    \n",
      "    The special characters are:\n",
      "        \".\"      Matches any character except a newline.\n",
      "        \"^\"      Matches the start of the string.\n",
      "        \"$\"      Matches the end of the string or just before the newline at\n",
      "                 the end of the string.\n",
      "        \"*\"      Matches 0 or more (greedy) repetitions of the preceding RE.\n",
      "                 Greedy means that it will match as many repetitions as possible.\n",
      "        \"+\"      Matches 1 or more (greedy) repetitions of the preceding RE.\n",
      "        \"?\"      Matches 0 or 1 (greedy) of the preceding RE.\n",
      "        *?,+?,?? Non-greedy versions of the previous three special characters.\n",
      "        {m,n}    Matches from m to n repetitions of the preceding RE.\n",
      "        {m,n}?   Non-greedy version of the above.\n",
      "        \"\\\\\"     Either escapes special characters or signals a special sequence.\n",
      "        []       Indicates a set of characters.\n",
      "                 A \"^\" as the first character indicates a complementing set.\n",
      "        \"|\"      A|B, creates an RE that will match either A or B.\n",
      "        (...)    Matches the RE inside the parentheses.\n",
      "                 The contents can be retrieved or matched later in the string.\n",
      "        (?aiLmsux) The letters set the corresponding flags defined below.\n",
      "        (?:...)  Non-grouping version of regular parentheses.\n",
      "        (?P<name>...) The substring matched by the group is accessible by name.\n",
      "        (?P=name)     Matches the text matched earlier by the group named name.\n",
      "        (?#...)  A comment; ignored.\n",
      "        (?=...)  Matches if ... matches next, but doesn't consume the string.\n",
      "        (?!...)  Matches if ... doesn't match next.\n",
      "        (?<=...) Matches if preceded by ... (must be fixed length).\n",
      "        (?<!...) Matches if not preceded by ... (must be fixed length).\n",
      "        (?(id/name)yes|no) Matches yes pattern if the group with id/name matched,\n",
      "                           the (optional) no pattern otherwise.\n",
      "    \n",
      "    The special sequences consist of \"\\\\\" and a character from the list\n",
      "    below.  If the ordinary character is not on the list, then the\n",
      "    resulting RE will match the second character.\n",
      "        \\number  Matches the contents of the group of the same number.\n",
      "        \\A       Matches only at the start of the string.\n",
      "        \\Z       Matches only at the end of the string.\n",
      "        \\b       Matches the empty string, but only at the start or end of a word.\n",
      "        \\B       Matches the empty string, but not at the start or end of a word.\n",
      "        \\d       Matches any decimal digit; equivalent to the set [0-9] in\n",
      "                 bytes patterns or string patterns with the ASCII flag.\n",
      "                 In string patterns without the ASCII flag, it will match the whole\n",
      "                 range of Unicode digits.\n",
      "        \\D       Matches any non-digit character; equivalent to [^\\d].\n",
      "        \\s       Matches any whitespace character; equivalent to [ \\t\\n\\r\\f\\v] in\n",
      "                 bytes patterns or string patterns with the ASCII flag.\n",
      "                 In string patterns without the ASCII flag, it will match the whole\n",
      "                 range of Unicode whitespace characters.\n",
      "        \\S       Matches any non-whitespace character; equivalent to [^\\s].\n",
      "        \\w       Matches any alphanumeric character; equivalent to [a-zA-Z0-9_]\n",
      "                 in bytes patterns or string patterns with the ASCII flag.\n",
      "                 In string patterns without the ASCII flag, it will match the\n",
      "                 range of Unicode alphanumeric characters (letters plus digits\n",
      "                 plus underscore).\n",
      "                 With LOCALE, it will match the set [0-9_] plus characters defined\n",
      "                 as letters for the current locale.\n",
      "        \\W       Matches the complement of \\w.\n",
      "        \\\\       Matches a literal backslash.\n",
      "    \n",
      "    This module exports the following functions:\n",
      "        match     Match a regular expression pattern to the beginning of a string.\n",
      "        fullmatch Match a regular expression pattern to all of a string.\n",
      "        search    Search a string for the presence of a pattern.\n",
      "        sub       Substitute occurrences of a pattern found in a string.\n",
      "        subn      Same as sub, but also return the number of substitutions made.\n",
      "        split     Split a string by the occurrences of a pattern.\n",
      "        findall   Find all occurrences of a pattern in a string.\n",
      "        finditer  Return an iterator yielding a Match object for each match.\n",
      "        compile   Compile a pattern into a Pattern object.\n",
      "        purge     Clear the regular expression cache.\n",
      "        escape    Backslash all non-alphanumerics in a string.\n",
      "    \n",
      "    Each function other than purge and escape can take an optional 'flags' argument\n",
      "    consisting of one or more of the following module constants, joined by \"|\".\n",
      "    A, L, and U are mutually exclusive.\n",
      "        A  ASCII       For string patterns, make \\w, \\W, \\b, \\B, \\d, \\D\n",
      "                       match the corresponding ASCII character categories\n",
      "                       (rather than the whole Unicode categories, which is the\n",
      "                       default).\n",
      "                       For bytes patterns, this flag is the only available\n",
      "                       behaviour and needn't be specified.\n",
      "        I  IGNORECASE  Perform case-insensitive matching.\n",
      "        L  LOCALE      Make \\w, \\W, \\b, \\B, dependent on the current locale.\n",
      "        M  MULTILINE   \"^\" matches the beginning of lines (after a newline)\n",
      "                       as well as the string.\n",
      "                       \"$\" matches the end of lines (before a newline) as well\n",
      "                       as the end of the string.\n",
      "        S  DOTALL      \".\" matches any character at all, including the newline.\n",
      "        X  VERBOSE     Ignore whitespace and comments for nicer looking RE's.\n",
      "        U  UNICODE     For compatibility only. Ignored for string patterns (it\n",
      "                       is the default), and forbidden for bytes patterns.\n",
      "    \n",
      "    This module also defines an exception 'error'.\n",
      "\n",
      "CLASSES\n",
      "    builtins.Exception(builtins.BaseException)\n",
      "        error\n",
      "    builtins.object\n",
      "        Match\n",
      "        Pattern\n",
      "    \n",
      "    class Match(builtins.object)\n",
      "     |  The result of re.match() and re.search().\n",
      "     |  Match objects always have a boolean value of True.\n",
      "     |  \n",
      "     |  Methods defined here:\n",
      "     |  \n",
      "     |  __copy__(self, /)\n",
      "     |  \n",
      "     |  __deepcopy__(self, memo, /)\n",
      "     |  \n",
      "     |  __getitem__(self, key, /)\n",
      "     |      Return self[key].\n",
      "     |  \n",
      "     |  __repr__(self, /)\n",
      "     |      Return repr(self).\n",
      "     |  \n",
      "     |  end(self, group=0, /)\n",
      "     |      Return index of the end of the substring matched by group.\n",
      "     |  \n",
      "     |  expand(self, /, template)\n",
      "     |      Return the string obtained by doing backslash substitution on the string template, as done by the sub() method.\n",
      "     |  \n",
      "     |  group(...)\n",
      "     |      group([group1, ...]) -> str or tuple.\n",
      "     |      Return subgroup(s) of the match by indices or names.\n",
      "     |      For 0 returns the entire match.\n",
      "     |  \n",
      "     |  groupdict(self, /, default=None)\n",
      "     |      Return a dictionary containing all the named subgroups of the match, keyed by the subgroup name.\n",
      "     |      \n",
      "     |      default\n",
      "     |        Is used for groups that did not participate in the match.\n",
      "     |  \n",
      "     |  groups(self, /, default=None)\n",
      "     |      Return a tuple containing all the subgroups of the match, from 1.\n",
      "     |      \n",
      "     |      default\n",
      "     |        Is used for groups that did not participate in the match.\n",
      "     |  \n",
      "     |  span(self, group=0, /)\n",
      "     |      For match object m, return the 2-tuple (m.start(group), m.end(group)).\n",
      "     |  \n",
      "     |  start(self, group=0, /)\n",
      "     |      Return index of the start of the substring matched by group.\n",
      "     |  \n",
      "     |  ----------------------------------------------------------------------\n",
      "     |  Class methods defined here:\n",
      "     |  \n",
      "     |  __class_getitem__(...) from builtins.type\n",
      "     |      See PEP 585\n",
      "     |  \n",
      "     |  ----------------------------------------------------------------------\n",
      "     |  Data descriptors defined here:\n",
      "     |  \n",
      "     |  endpos\n",
      "     |      The index into the string beyond which the RE engine will not go.\n",
      "     |  \n",
      "     |  lastgroup\n",
      "     |      The name of the last matched capturing group.\n",
      "     |  \n",
      "     |  lastindex\n",
      "     |      The integer index of the last matched capturing group.\n",
      "     |  \n",
      "     |  pos\n",
      "     |      The index into the string at which the RE engine started looking for a match.\n",
      "     |  \n",
      "     |  re\n",
      "     |      The regular expression object.\n",
      "     |  \n",
      "     |  regs\n",
      "     |  \n",
      "     |  string\n",
      "     |      The string passed to match() or search().\n",
      "    \n",
      "    class Pattern(builtins.object)\n",
      "     |  Compiled regular expression object.\n",
      "     |  \n",
      "     |  Methods defined here:\n",
      "     |  \n",
      "     |  __copy__(self, /)\n",
      "     |  \n",
      "     |  __deepcopy__(self, memo, /)\n",
      "     |  \n",
      "     |  __eq__(self, value, /)\n",
      "     |      Return self==value.\n",
      "     |  \n",
      "     |  __ge__(self, value, /)\n",
      "     |      Return self>=value.\n",
      "     |  \n",
      "     |  __gt__(self, value, /)\n",
      "     |      Return self>value.\n",
      "     |  \n",
      "     |  __hash__(self, /)\n",
      "     |      Return hash(self).\n",
      "     |  \n",
      "     |  __le__(self, value, /)\n",
      "     |      Return self<=value.\n",
      "     |  \n",
      "     |  __lt__(self, value, /)\n",
      "     |      Return self<value.\n",
      "     |  \n",
      "     |  __ne__(self, value, /)\n",
      "     |      Return self!=value.\n",
      "     |  \n",
      "     |  __repr__(self, /)\n",
      "     |      Return repr(self).\n",
      "     |  \n",
      "     |  findall(self, /, string, pos=0, endpos=9223372036854775807)\n",
      "     |      Return a list of all non-overlapping matches of pattern in string.\n",
      "     |  \n",
      "     |  finditer(self, /, string, pos=0, endpos=9223372036854775807)\n",
      "     |      Return an iterator over all non-overlapping matches for the RE pattern in string.\n",
      "     |      \n",
      "     |      For each match, the iterator returns a match object.\n",
      "     |  \n",
      "     |  fullmatch(self, /, string, pos=0, endpos=9223372036854775807)\n",
      "     |      Matches against all of the string.\n",
      "     |  \n",
      "     |  match(self, /, string, pos=0, endpos=9223372036854775807)\n",
      "     |      Matches zero or more characters at the beginning of the string.\n",
      "     |  \n",
      "     |  scanner(self, /, string, pos=0, endpos=9223372036854775807)\n",
      "     |  \n",
      "     |  search(self, /, string, pos=0, endpos=9223372036854775807)\n",
      "     |      Scan through string looking for a match, and return a corresponding match object instance.\n",
      "     |      \n",
      "     |      Return None if no position in the string matches.\n",
      "     |  \n",
      "     |  split(self, /, string, maxsplit=0)\n",
      "     |      Split string by the occurrences of pattern.\n",
      "     |  \n",
      "     |  sub(self, /, repl, string, count=0)\n",
      "     |      Return the string obtained by replacing the leftmost non-overlapping occurrences of pattern in string by the replacement repl.\n",
      "     |  \n",
      "     |  subn(self, /, repl, string, count=0)\n",
      "     |      Return the tuple (new_string, number_of_subs_made) found by replacing the leftmost non-overlapping occurrences of pattern with the replacement repl.\n",
      "     |  \n",
      "     |  ----------------------------------------------------------------------\n",
      "     |  Class methods defined here:\n",
      "     |  \n",
      "     |  __class_getitem__(...) from builtins.type\n",
      "     |      See PEP 585\n",
      "     |  \n",
      "     |  ----------------------------------------------------------------------\n",
      "     |  Data descriptors defined here:\n",
      "     |  \n",
      "     |  flags\n",
      "     |      The regex matching flags.\n",
      "     |  \n",
      "     |  groupindex\n",
      "     |      A dictionary mapping group names to group numbers.\n",
      "     |  \n",
      "     |  groups\n",
      "     |      The number of capturing groups in the pattern.\n",
      "     |  \n",
      "     |  pattern\n",
      "     |      The pattern string from which the RE object was compiled.\n",
      "    \n",
      "    class error(builtins.Exception)\n",
      "     |  error(msg, pattern=None, pos=None)\n",
      "     |  \n",
      "     |  Exception raised for invalid regular expressions.\n",
      "     |  \n",
      "     |  Attributes:\n",
      "     |  \n",
      "     |      msg: The unformatted error message\n",
      "     |      pattern: The regular expression pattern\n",
      "     |      pos: The index in the pattern where compilation failed (may be None)\n",
      "     |      lineno: The line corresponding to pos (may be None)\n",
      "     |      colno: The column corresponding to pos (may be None)\n",
      "     |  \n",
      "     |  Method resolution order:\n",
      "     |      error\n",
      "     |      builtins.Exception\n",
      "     |      builtins.BaseException\n",
      "     |      builtins.object\n",
      "     |  \n",
      "     |  Methods defined here:\n",
      "     |  \n",
      "     |  __init__(self, msg, pattern=None, pos=None)\n",
      "     |      Initialize self.  See help(type(self)) for accurate signature.\n",
      "     |  \n",
      "     |  ----------------------------------------------------------------------\n",
      "     |  Data descriptors defined here:\n",
      "     |  \n",
      "     |  __weakref__\n",
      "     |      list of weak references to the object (if defined)\n",
      "     |  \n",
      "     |  ----------------------------------------------------------------------\n",
      "     |  Static methods inherited from builtins.Exception:\n",
      "     |  \n",
      "     |  __new__(*args, **kwargs) from builtins.type\n",
      "     |      Create and return a new object.  See help(type) for accurate signature.\n",
      "     |  \n",
      "     |  ----------------------------------------------------------------------\n",
      "     |  Methods inherited from builtins.BaseException:\n",
      "     |  \n",
      "     |  __delattr__(self, name, /)\n",
      "     |      Implement delattr(self, name).\n",
      "     |  \n",
      "     |  __getattribute__(self, name, /)\n",
      "     |      Return getattr(self, name).\n",
      "     |  \n",
      "     |  __reduce__(...)\n",
      "     |      Helper for pickle.\n",
      "     |  \n",
      "     |  __repr__(self, /)\n",
      "     |      Return repr(self).\n",
      "     |  \n",
      "     |  __setattr__(self, name, value, /)\n",
      "     |      Implement setattr(self, name, value).\n",
      "     |  \n",
      "     |  __setstate__(...)\n",
      "     |  \n",
      "     |  __str__(self, /)\n",
      "     |      Return str(self).\n",
      "     |  \n",
      "     |  with_traceback(...)\n",
      "     |      Exception.with_traceback(tb) --\n",
      "     |      set self.__traceback__ to tb and return self.\n",
      "     |  \n",
      "     |  ----------------------------------------------------------------------\n",
      "     |  Data descriptors inherited from builtins.BaseException:\n",
      "     |  \n",
      "     |  __cause__\n",
      "     |      exception cause\n",
      "     |  \n",
      "     |  __context__\n",
      "     |      exception context\n",
      "     |  \n",
      "     |  __dict__\n",
      "     |  \n",
      "     |  __suppress_context__\n",
      "     |  \n",
      "     |  __traceback__\n",
      "     |  \n",
      "     |  args\n",
      "\n",
      "FUNCTIONS\n",
      "    compile(pattern, flags=0)\n",
      "        Compile a regular expression pattern, returning a Pattern object.\n",
      "    \n",
      "    escape(pattern)\n",
      "        Escape special characters in a string.\n",
      "    \n",
      "    findall(pattern, string, flags=0)\n",
      "        Return a list of all non-overlapping matches in the string.\n",
      "        \n",
      "        If one or more capturing groups are present in the pattern, return\n",
      "        a list of groups; this will be a list of tuples if the pattern\n",
      "        has more than one group.\n",
      "        \n",
      "        Empty matches are included in the result.\n",
      "    \n",
      "    finditer(pattern, string, flags=0)\n",
      "        Return an iterator over all non-overlapping matches in the\n",
      "        string.  For each match, the iterator returns a Match object.\n",
      "        \n",
      "        Empty matches are included in the result.\n",
      "    \n",
      "    fullmatch(pattern, string, flags=0)\n",
      "        Try to apply the pattern to all of the string, returning\n",
      "        a Match object, or None if no match was found.\n",
      "    \n",
      "    match(pattern, string, flags=0)\n",
      "        Try to apply the pattern at the start of the string, returning\n",
      "        a Match object, or None if no match was found.\n",
      "    \n",
      "    purge()\n",
      "        Clear the regular expression caches\n",
      "    \n",
      "    search(pattern, string, flags=0)\n",
      "        Scan through string looking for a match to the pattern, returning\n",
      "        a Match object, or None if no match was found.\n",
      "    \n",
      "    split(pattern, string, maxsplit=0, flags=0)\n",
      "        Split the source string by the occurrences of the pattern,\n",
      "        returning a list containing the resulting substrings.  If\n",
      "        capturing parentheses are used in pattern, then the text of all\n",
      "        groups in the pattern are also returned as part of the resulting\n",
      "        list.  If maxsplit is nonzero, at most maxsplit splits occur,\n",
      "        and the remainder of the string is returned as the final element\n",
      "        of the list.\n",
      "    \n",
      "    sub(pattern, repl, string, count=0, flags=0)\n",
      "        Return the string obtained by replacing the leftmost\n",
      "        non-overlapping occurrences of the pattern in string by the\n",
      "        replacement repl.  repl can be either a string or a callable;\n",
      "        if a string, backslash escapes in it are processed.  If it is\n",
      "        a callable, it's passed the Match object and must return\n",
      "        a replacement string to be used.\n",
      "    \n",
      "    subn(pattern, repl, string, count=0, flags=0)\n",
      "        Return a 2-tuple containing (new_string, number).\n",
      "        new_string is the string obtained by replacing the leftmost\n",
      "        non-overlapping occurrences of the pattern in the source\n",
      "        string by the replacement repl.  number is the number of\n",
      "        substitutions that were made. repl can be either a string or a\n",
      "        callable; if a string, backslash escapes in it are processed.\n",
      "        If it is a callable, it's passed the Match object and must\n",
      "        return a replacement string to be used.\n",
      "    \n",
      "    template(pattern, flags=0)\n",
      "        Compile a template pattern, returning a Pattern object\n",
      "\n",
      "DATA\n",
      "    A = re.ASCII\n",
      "    ASCII = re.ASCII\n",
      "    DOTALL = re.DOTALL\n",
      "    I = re.IGNORECASE\n",
      "    IGNORECASE = re.IGNORECASE\n",
      "    L = re.LOCALE\n",
      "    LOCALE = re.LOCALE\n",
      "    M = re.MULTILINE\n",
      "    MULTILINE = re.MULTILINE\n",
      "    S = re.DOTALL\n",
      "    U = re.UNICODE\n",
      "    UNICODE = re.UNICODE\n",
      "    VERBOSE = re.VERBOSE\n",
      "    X = re.VERBOSE\n",
      "    __all__ = ['match', 'fullmatch', 'search', 'sub', 'subn', 'split', 'fi...\n",
      "\n",
      "VERSION\n",
      "    2.2.1\n",
      "\n",
      "FILE\n",
      "    c:\\programdata\\anaconda3\\lib\\re.py\n",
      "\n",
      "\n"
     ]
    }
   ],
   "source": [
    "help(re)"
   ]
  },
  {
   "cell_type": "markdown",
   "id": "cd3de09f",
   "metadata": {},
   "source": [
    "MATCH\n",
    "\n",
    "syntax:\n",
    "match(pattern, string, flags=0)\n",
    "\n",
    "Try to apply the pattern at the start of the string, returning a Match object, or None if no match was found."
   ]
  },
  {
   "cell_type": "code",
   "execution_count": 22,
   "id": "913fedab",
   "metadata": {},
   "outputs": [
    {
     "data": {
      "text/plain": [
       "'hi,hello,welcome'"
      ]
     },
     "execution_count": 22,
     "metadata": {},
     "output_type": "execute_result"
    }
   ],
   "source": [
    "beta=\"hi,hello,welcome\"\n",
    "beta"
   ]
  },
  {
   "cell_type": "code",
   "execution_count": 24,
   "id": "40360e71",
   "metadata": {},
   "outputs": [
    {
     "name": "stdout",
     "output_type": "stream",
     "text": [
      "<re.Match object; span=(0, 2), match='hi'>\n",
      "hi\n",
      "0\n",
      "2\n"
     ]
    }
   ],
   "source": [
    "me=re.match(\"hi\",beta,flags=re.IGNORECASE)\n",
    "print(me)\n",
    "print(me.group())\n",
    "print(me.start())\n",
    "print(me.end())"
   ]
  },
  {
   "cell_type": "code",
   "execution_count": 4,
   "id": "12c876a9",
   "metadata": {},
   "outputs": [],
   "source": [
    "data = \"\"\"Subject: Welcome to Our Newsletter!\n",
    "\n",
    "From: newsletter@sampledomain.com\n",
    "\n",
    "To: subscriber@sampledomain.com\n",
    "\n",
    "Dear Subscriber,\n",
    "\n",
    "We are thrilled to have you join our community of enthusiasts. Our newsletter is designed to bring you the latest updates, insightful articles, and exclusive deals directly to your inbox.\"\"\""
   ]
  },
  {
   "cell_type": "code",
   "execution_count": 5,
   "id": "c5ab82a0",
   "metadata": {},
   "outputs": [
    {
     "data": {
      "text/plain": [
       "'Subject: Welcome to Our Newsletter!\\n\\nFrom: newsletter@sampledomain.com\\n\\nTo: subscriber@sampledomain.com\\n\\nDear Subscriber,\\n\\nWe are thrilled to have you join our community of enthusiasts. Our newsletter is designed to bring you the latest updates, insightful articles, and exclusive deals directly to your inbox.'"
      ]
     },
     "execution_count": 5,
     "metadata": {},
     "output_type": "execute_result"
    }
   ],
   "source": [
    "data"
   ]
  },
  {
   "cell_type": "code",
   "execution_count": 9,
   "id": "84ad6662",
   "metadata": {},
   "outputs": [
    {
     "name": "stdout",
     "output_type": "stream",
     "text": [
      "<re.Match object; span=(0, 7), match='Subject'>\n",
      "Subject\n",
      "0\n",
      "7\n"
     ]
    }
   ],
   "source": [
    "res = re.match(\"subject\",data,flags = re.IGNORECASE)\n",
    "print(res)\n",
    "print(res.group())  #Return subgroup(s) of the match by indices or names.\n",
    "print(res.start())  #start index\n",
    "print(res.end())    #end index"
   ]
  },
  {
   "cell_type": "code",
   "execution_count": 21,
   "id": "23b84269",
   "metadata": {},
   "outputs": [
    {
     "name": "stdout",
     "output_type": "stream",
     "text": [
      "None\n"
     ]
    },
    {
     "ename": "AttributeError",
     "evalue": "'NoneType' object has no attribute 'group'",
     "output_type": "error",
     "traceback": [
      "\u001b[1;31m---------------------------------------------------------------------------\u001b[0m",
      "\u001b[1;31mAttributeError\u001b[0m                            Traceback (most recent call last)",
      "Input \u001b[1;32mIn [21]\u001b[0m, in \u001b[0;36m<cell line: 3>\u001b[1;34m()\u001b[0m\n\u001b[0;32m      1\u001b[0m res \u001b[38;5;241m=\u001b[39m re\u001b[38;5;241m.\u001b[39mmatch(\u001b[38;5;124m\"\u001b[39m\u001b[38;5;124mNewsletter\u001b[39m\u001b[38;5;124m\"\u001b[39m,data,flags \u001b[38;5;241m=\u001b[39m re\u001b[38;5;241m.\u001b[39mIGNORECASE)\n\u001b[0;32m      2\u001b[0m \u001b[38;5;28mprint\u001b[39m(res)\n\u001b[1;32m----> 3\u001b[0m \u001b[38;5;28mprint\u001b[39m(\u001b[43mres\u001b[49m\u001b[38;5;241;43m.\u001b[39;49m\u001b[43mgroup\u001b[49m())\n\u001b[0;32m      4\u001b[0m \u001b[38;5;28mprint\u001b[39m(res\u001b[38;5;241m.\u001b[39mstart())\n\u001b[0;32m      5\u001b[0m \u001b[38;5;28mprint\u001b[39m(res\u001b[38;5;241m.\u001b[39mend())\n",
      "\u001b[1;31mAttributeError\u001b[0m: 'NoneType' object has no attribute 'group'"
     ]
    }
   ],
   "source": [
    "res = re.match(\"Newsletter\",data,flags = re.IGNORECASE)         ###match only if the text is at beginning\n",
    "print(res)\n",
    "print(res.group())\n",
    "print(res.start())\n",
    "print(res.end())"
   ]
  },
  {
   "cell_type": "code",
   "execution_count": 25,
   "id": "a60d8a29",
   "metadata": {},
   "outputs": [
    {
     "name": "stdout",
     "output_type": "stream",
     "text": [
      "<re.Match object; span=(0, 7), match='Subject'>\n",
      "Subject\n",
      "0\n",
      "7\n"
     ]
    }
   ],
   "source": [
    "res = re.match(\"sUBjeCT\",data,flags = re.IGNORECASE)\n",
    "print(res)\n",
    "print(res.group())\n",
    "print(res.start())\n",
    "print(res.end())\n"
   ]
  },
  {
   "cell_type": "code",
   "execution_count": 30,
   "id": "711e4598",
   "metadata": {},
   "outputs": [
    {
     "name": "stdout",
     "output_type": "stream",
     "text": [
      "<re.Match object; span=(0, 5), match='Hello'>\n",
      "<re.Match object; span=(0, 11), match='Hello world'>\n"
     ]
    }
   ],
   "source": [
    "import re\n",
    "line = \"Hello world\";\n",
    "print(re.match(\"Hello\", line))\n",
    "print(re.fullmatch(\"Hello world\", line))  # Matches against all of the string."
   ]
  },
  {
   "cell_type": "code",
   "execution_count": 32,
   "id": "b4414acf",
   "metadata": {},
   "outputs": [
    {
     "name": "stdout",
     "output_type": "stream",
     "text": [
      "None\n"
     ]
    }
   ],
   "source": [
    "res = re.match(\"WELCOME\",data,flags = re.IGNORECASE)\n",
    "print(res)\n",
    "# print(res.group())\n",
    "# print(res.start())\n"
   ]
  },
  {
   "cell_type": "markdown",
   "id": "680fa535",
   "metadata": {},
   "source": [
    " SEARCH:\n",
    "        \n",
    "syntax\n",
    "\n",
    "search(pattern, string, flags=0)\n",
    "\n",
    "\n",
    "Scan through string looking for a match to the pattern, returning a Match object, or None if no match was found"
   ]
  },
  {
   "cell_type": "code",
   "execution_count": 34,
   "id": "86b59059",
   "metadata": {},
   "outputs": [
    {
     "name": "stdout",
     "output_type": "stream",
     "text": [
      "@sample\n",
      "(53, 60)\n"
     ]
    }
   ],
   "source": [
    "res = re.search(\"@sample\",data)\n",
    "print(res.group())\n",
    "print(res.span())\n"
   ]
  },
  {
   "cell_type": "markdown",
   "id": "68266050",
   "metadata": {},
   "source": [
    "findall:\n",
    "\n",
    "syntax\n",
    "\n",
    "findall(pattern, string, flags=0)\n",
    "\n",
    "Return a list of all non-overlapping matches in the string.\n",
    "        \n",
    "If one or more capturing groups are present in the pattern, return a list of groups; this will be a list of tuples if the pattern has more than one group"
   ]
  },
  {
   "cell_type": "code",
   "execution_count": 46,
   "id": "29a1a989",
   "metadata": {},
   "outputs": [
    {
     "data": {
      "text/plain": [
       "['@sample', '@sample']"
      ]
     },
     "execution_count": 46,
     "metadata": {},
     "output_type": "execute_result"
    }
   ],
   "source": [
    "re.findall(\"@sample\",data)"
   ]
  },
  {
   "cell_type": "code",
   "execution_count": 47,
   "id": "4f005359",
   "metadata": {},
   "outputs": [
    {
     "data": {
      "text/plain": [
       "['@sample', '@sample']"
      ]
     },
     "execution_count": 47,
     "metadata": {},
     "output_type": "execute_result"
    }
   ],
   "source": [
    "res = re.findall('@sample',data,flags = re.IGNORECASE)\n",
    "res"
   ]
  },
  {
   "cell_type": "code",
   "execution_count": 48,
   "id": "188304b6",
   "metadata": {},
   "outputs": [],
   "source": [
    "from re import *"
   ]
  },
  {
   "cell_type": "markdown",
   "id": "de8c091e",
   "metadata": {},
   "source": [
    "finditer\n",
    "\n",
    "finditer(pattern, string, flags=0)\n",
    "\n",
    "Return an iterator over all non-overlapping matches in the string.  For each match, the iterator returns a Match object.Empty matches are included in the result"
   ]
  },
  {
   "cell_type": "code",
   "execution_count": 49,
   "id": "768f4b48",
   "metadata": {},
   "outputs": [
    {
     "name": "stdout",
     "output_type": "stream",
     "text": [
      "@sample\n",
      "(53, 60)\n",
      "@sample\n",
      "(86, 93)\n"
     ]
    }
   ],
   "source": [
    "res = re.finditer(\"@sample\",data,flags = re.IGNORECASE)\n",
    "for i in res:\n",
    " print(i.group())\n",
    " print(i.span())"
   ]
  },
  {
   "cell_type": "code",
   "execution_count": 29,
   "id": "23d51586",
   "metadata": {},
   "outputs": [
    {
     "name": "stdout",
     "output_type": "stream",
     "text": [
      "<re.Match object; span=(53, 60), match='@sample'>\n",
      "@sample\n",
      "53\n",
      "60\n",
      "<re.Match object; span=(86, 93), match='@sample'>\n",
      "@sample\n",
      "86\n",
      "93\n"
     ]
    }
   ],
   "source": [
    "res = re.finditer(\"@sample\",data)\n",
    "for i in res:\n",
    "  print(i)\n",
    "  print(i.group())\n",
    "  print(i.start())\n",
    "  print(i.end())"
   ]
  },
  {
   "cell_type": "markdown",
   "id": "89436a45",
   "metadata": {},
   "source": [
    "split:\n",
    "    \n",
    "split(pattern, string, maxsplit=0, flags=0)\n",
    "\n",
    "Split the source string by the occurrences of the pattern,returning a list containing the resulting substrings.  If\n",
    "capturing parentheses are used in pattern, then the text of all groups in the pattern are also returned as part of the resulting list.  If maxsplit is nonzero, at most maxsplit splits occur,\n",
    "and the remainder of the string is returned as the final element of the list."
   ]
  },
  {
   "cell_type": "code",
   "execution_count": 54,
   "id": "5256e405",
   "metadata": {},
   "outputs": [
    {
     "data": {
      "text/plain": [
       "['Subject: Welcome to Our Newsletter!\\n\\nFrom: newsletter@sampledomain.com\\n\\nTo: subscriber@sampledomain.com\\n\\nDear Subscriber,\\n\\nWe are thrilled to have you join our community of enthusiasts. Our newsletter is designed to bring you the latest updates, insightful articles, and exclusive deals directly to your inbox.']"
      ]
     },
     "execution_count": 54,
     "metadata": {},
     "output_type": "execute_result"
    }
   ],
   "source": [
    "split(\"/.\",data)"
   ]
  },
  {
   "cell_type": "code",
   "execution_count": 55,
   "id": "a86a9f16",
   "metadata": {},
   "outputs": [
    {
     "data": {
      "text/plain": [
       "'Subject: Welcome to Our Newsletter!\\n\\nFrom: newsletter@sampledomain.com\\n\\nTo: subscriber@sampledomain.com\\n\\nDear Subscriber,\\n\\nWe are thrilled to have you join our community of enthusiasts. Our newsletter is designed to bring you the latest updates, insightful articles, and exclusive deals directly to your inbox.'"
      ]
     },
     "execution_count": 55,
     "metadata": {},
     "output_type": "execute_result"
    }
   ],
   "source": [
    "data"
   ]
  },
  {
   "cell_type": "code",
   "execution_count": 56,
   "id": "e024d77b",
   "metadata": {},
   "outputs": [
    {
     "data": {
      "text/plain": [
       "['',\n",
       " 'ubject: Welcome to ',\n",
       " 'ur ',\n",
       " 'ewsletter!\\n\\n',\n",
       " 'rom: newsletter@sampledomain.com\\n\\nTo: subscriber@sampledomain.com\\n\\n',\n",
       " 'ear ',\n",
       " 'ubscriber,\\n\\nWe are thrilled to have you join our community of enthusiasts. ',\n",
       " 'ur newsletter is designed to bring you the latest updates, insightful articles, and exclusive deals directly to your inbox.']"
      ]
     },
     "execution_count": 56,
     "metadata": {},
     "output_type": "execute_result"
    }
   ],
   "source": [
    "split(\"[A-S]\",data)         # []-->Indicates a set of characters."
   ]
  },
  {
   "cell_type": "code",
   "execution_count": 57,
   "id": "fd02d9f7",
   "metadata": {},
   "outputs": [
    {
     "data": {
      "text/plain": [
       "['Subject:',\n",
       " 'Welcome',\n",
       " 'to',\n",
       " 'Our',\n",
       " 'Newsletter!\\n\\nFrom:',\n",
       " 'newsletter@sampledomain.com\\n\\nTo:',\n",
       " 'subscriber@sampledomain.com\\n\\nDear',\n",
       " 'Subscriber,\\n\\nWe',\n",
       " 'are',\n",
       " 'thrilled',\n",
       " 'to',\n",
       " 'have',\n",
       " 'you',\n",
       " 'join',\n",
       " 'our',\n",
       " 'community',\n",
       " 'of',\n",
       " 'enthusiasts.',\n",
       " 'Our',\n",
       " 'newsletter',\n",
       " 'is',\n",
       " 'designed',\n",
       " 'to',\n",
       " 'bring',\n",
       " 'you',\n",
       " 'the',\n",
       " 'latest',\n",
       " 'updates,',\n",
       " 'insightful',\n",
       " 'articles,',\n",
       " 'and',\n",
       " 'exclusive',\n",
       " 'deals',\n",
       " 'directly',\n",
       " 'to',\n",
       " 'your',\n",
       " 'inbox.']"
      ]
     },
     "execution_count": 57,
     "metadata": {},
     "output_type": "execute_result"
    }
   ],
   "source": [
    "re.split(\" \",data)"
   ]
  },
  {
   "cell_type": "code",
   "execution_count": 58,
   "id": "90a5ff89",
   "metadata": {},
   "outputs": [
    {
     "data": {
      "text/plain": [
       "['Subject: Welcome to Our Newsletter!\\n\\nFrom: newsletter',\n",
       " 'sampledomain.com\\n\\nTo: subscriber',\n",
       " 'sampledomain.com\\n\\nDear Subscriber,\\n\\nWe are thrilled to have you join our community of enthusiasts. Our newsletter is designed to bring you the latest updates, insightful articles, and exclusive deals directly to your inbox.']"
      ]
     },
     "execution_count": 58,
     "metadata": {},
     "output_type": "execute_result"
    }
   ],
   "source": [
    "re.split(\"@\",data)"
   ]
  },
  {
   "cell_type": "code",
   "execution_count": 35,
   "id": "4549be94",
   "metadata": {},
   "outputs": [
    {
     "data": {
      "text/plain": [
       "['',\n",
       " 'ubject: ',\n",
       " 'elcome to ',\n",
       " 'ur Newsletter!\\n\\nFrom: newsletter@sampledomain.com\\n\\nTo: subscriber@sampledomain.com\\n\\nDear Subscriber,\\n\\nWe are thrilled to have you join our community of enthusiasts. Our newsletter is designed to bring you the latest updates, insightful articles, and exclusive deals directly to your inbox.']"
      ]
     },
     "execution_count": 35,
     "metadata": {},
     "output_type": "execute_result"
    }
   ],
   "source": [
    "re.split(\"[A-Z]\",data,maxsplit = 3) #maxsplit =3:the string will be split into atmost 4parts(3 splits)"
   ]
  },
  {
   "cell_type": "markdown",
   "id": "0cf1200f",
   "metadata": {},
   "source": [
    "sub :\n",
    "    \n",
    "sub(pattern, repl, string, count=0, flags=0)\n",
    "\n",
    "Return the string obtained by replacing the leftmost non-overlapping occurrences of the pattern in string by the replacement repl.  repl can be either a string or a callable;if a string, backslash escapes in it are processed.  If it is a callable, it's passed the Match object and must return a replacement string to be used."
   ]
  },
  {
   "cell_type": "code",
   "execution_count": 59,
   "id": "261c1be5",
   "metadata": {},
   "outputs": [
    {
     "data": {
      "text/plain": [
       "'Subject: Welcome to Our Newsletter!\\n\\nFrom: newsletter@sampledomain.com\\n\\nTo: subscriber@sampledomain.com\\n\\nDear Subscriber,\\n\\nWe are thrilled to have you join our community of enthusiasts. Our newsletter is designed to bring you the latest updates, insightful articles, and exclusive deals directly to your inbox.'"
      ]
     },
     "execution_count": 59,
     "metadata": {},
     "output_type": "execute_result"
    }
   ],
   "source": [
    "data"
   ]
  },
  {
   "cell_type": "code",
   "execution_count": 60,
   "id": "7f53592e",
   "metadata": {},
   "outputs": [
    {
     "data": {
      "text/plain": [
       "'Subject: Welcome to Our Newsletter!\\n\\nFrom: newsletter@gmail.com\\n\\nTo: subscriber@sampledomain.com\\n\\nDear Subscriber,\\n\\nWe are thrilled to have you join our community of enthusiasts. Our newsletter is designed to bring you the latest updates, insightful articles, and exclusive deals directly to your inbox.'"
      ]
     },
     "execution_count": 60,
     "metadata": {},
     "output_type": "execute_result"
    }
   ],
   "source": [
    "sub(\"sampledomain.com\",\"gmail.com\",data,count = 1,flags = IGNORECASE)"
   ]
  },
  {
   "cell_type": "code",
   "execution_count": 61,
   "id": "b257b68f",
   "metadata": {},
   "outputs": [
    {
     "data": {
      "text/plain": [
       "'Subject: Welcome to Our Newsletter!\\n\\nFrom: newsletter@gmail.com\\n\\nTo: subscriber@gmail.com\\n\\nDear Subscriber,\\n\\nWe are thrilled to have you join our community of enthusiasts. Our newsletter is designed to bring you the latest updates, insightful articles, and exclusive deals directly to your inbox.'"
      ]
     },
     "execution_count": 61,
     "metadata": {},
     "output_type": "execute_result"
    }
   ],
   "source": [
    "sub(\"sampledomain.com\",\"gmail.com\",data,count = 2,flags = IGNORECASE)"
   ]
  },
  {
   "cell_type": "code",
   "execution_count": 37,
   "id": "9b7d87f9",
   "metadata": {},
   "outputs": [],
   "source": [
    "df = \"Return the string obtained by replacing the leftmost non-overlapping occurrences of the pattern in string by the replacement repl. repl can be either a string or a callable; if a string, backslash escapes in it are processed. If it is a callable, it's passed the Match object and must return a replacement string to be used.\""
   ]
  },
  {
   "cell_type": "code",
   "execution_count": 38,
   "id": "a77b94af",
   "metadata": {},
   "outputs": [
    {
     "data": {
      "text/plain": [
       "\"Return the string obtained by replacing the leftmost non-overlapping occurrences of the pattern in string by the replacement repl. repl can be either a string or a callable; if a string, backslash escapes in it are processed. If it is a callable, it's passed the Match object and must return a replacement string to be used.\""
      ]
     },
     "execution_count": 38,
     "metadata": {},
     "output_type": "execute_result"
    }
   ],
   "source": [
    "df"
   ]
  },
  {
   "cell_type": "code",
   "execution_count": 39,
   "id": "b79c22f1",
   "metadata": {},
   "outputs": [
    {
     "data": {
      "text/plain": [
       "\"Return the string obtained by replacing the leftmost non-overlapping occurrences of the pattern in string by the replacement repl. repl can be eITher a string or a callable; if a string, backslash escapes in IT are processed. If it is a callable, it's passed the Match object and must return a replacement string to be used.\""
      ]
     },
     "execution_count": 39,
     "metadata": {},
     "output_type": "execute_result"
    }
   ],
   "source": [
    "res = re.sub(\"it\",\"IT\",df,count = 2) #count=2-->changes at two places\n",
    "res"
   ]
  },
  {
   "cell_type": "code",
   "execution_count": 40,
   "id": "463a9a62",
   "metadata": {},
   "outputs": [
    {
     "data": {
      "text/plain": [
       "\"Return the string obtained by replacing the leftmost non-overlapping occurrences of the pattern in string by the replacement repl. repl can be eITher a string or a callable; if a string, backslash escapes in IT are processed. If IT is a callable, IT's passed the Match object and must return a replacement string to be used.\""
      ]
     },
     "execution_count": 40,
     "metadata": {},
     "output_type": "execute_result"
    }
   ],
   "source": [
    "res = re.sub(\"it\",\"IT\",df)\n",
    "res"
   ]
  },
  {
   "cell_type": "markdown",
   "id": "3416fa4f",
   "metadata": {},
   "source": [
    "compile"
   ]
  },
  {
   "cell_type": "code",
   "execution_count": 42,
   "id": "92490e69",
   "metadata": {},
   "outputs": [],
   "source": [
    "p = compile(\"python\",flags = IGNORECASE)"
   ]
  },
  {
   "cell_type": "code",
   "execution_count": 43,
   "id": "753f9171",
   "metadata": {},
   "outputs": [
    {
     "data": {
      "text/plain": [
       "['Python', 'python']"
      ]
     },
     "execution_count": 43,
     "metadata": {},
     "output_type": "execute_result"
    }
   ],
   "source": [
    "res = p.findall(\"Python is easy to learn and python has vast libraries\")\n",
    "res"
   ]
  },
  {
   "cell_type": "code",
   "execution_count": 44,
   "id": "41c121f6",
   "metadata": {},
   "outputs": [
    {
     "data": {
      "text/plain": [
       "['Python']"
      ]
     },
     "execution_count": 44,
     "metadata": {},
     "output_type": "execute_result"
    }
   ],
   "source": [
    "p.findall(\"Python is easy compared to java\")"
   ]
  },
  {
   "cell_type": "markdown",
   "id": "36fd3df7",
   "metadata": {},
   "source": [
    "escape --> Backslash all non-alphanumerics in a string."
   ]
  },
  {
   "cell_type": "code",
   "execution_count": 45,
   "id": "420ce548",
   "metadata": {},
   "outputs": [
    {
     "data": {
      "text/plain": [
       "'Subject: Welcome to Our Newsletter!\\n\\nFrom: newsletter@sampledomain.com\\n\\nTo: subscriber@sampledomain.com\\n\\nDear Subscriber,\\n\\nWe are thrilled to have you join our community of enthusiasts. Our newsletter is designed to bring you the latest updates, insightful articles, and exclusive deals directly to your inbox.'"
      ]
     },
     "execution_count": 45,
     "metadata": {},
     "output_type": "execute_result"
    }
   ],
   "source": [
    "data"
   ]
  },
  {
   "cell_type": "code",
   "execution_count": 62,
   "id": "22eb8314",
   "metadata": {},
   "outputs": [
    {
     "name": "stdout",
     "output_type": "stream",
     "text": [
      "Result: Subject:\\ Welcome\\ to\\ Our\\ Newsletter!\\\n",
      "\\\n",
      "From:\\ newsletter@sampledomain\\.com\\\n",
      "\\\n",
      "To:\\ subscriber@sampledomain\\.com\\\n",
      "\\\n",
      "Dear\\ Subscriber,\\\n",
      "\\\n",
      "We\\ are\\ thrilled\\ to\\ have\\ you\\ join\\ our\\ community\\ of\\ enthusiasts\\.\\ Our\\ newsletter\\ is\\ designed\\ to\\ bring\\ you\\ the\\ latest\\ updates,\\ insightful\\ articles,\\ and\\ exclusive\\ deals\\ directly\\ to\\ your\\ inbox\\.\n"
     ]
    }
   ],
   "source": [
    "import re\n",
    "result = re.escape(data)\n",
    "print(\"Result:\", result)"
   ]
  },
  {
   "cell_type": "code",
   "execution_count": 47,
   "id": "d6372ef5",
   "metadata": {},
   "outputs": [],
   "source": [
    "data_1 = \"'ur Newsletter!\\n\\nFrom: newsletter@sampledomain.com\\n\\nTo: subscriber@sampledomain.com\\n\\nDear Subscriber,\\n\\nWe are thrilled to have you join our community of enthusiasts. Our newsletter is designed to b'\""
   ]
  },
  {
   "cell_type": "code",
   "execution_count": 48,
   "id": "aa3223b1",
   "metadata": {},
   "outputs": [
    {
     "data": {
      "text/plain": [
       "\"'ur Newsletter!\\n\\nFrom: newsletter@sampledomain.com\\n\\nTo: subscriber@sampledomain.com\\n\\nDear Subscriber,\\n\\nWe are thrilled to have you join our community of enthusiasts. Our newsletter is designed to b'\""
      ]
     },
     "execution_count": 48,
     "metadata": {},
     "output_type": "execute_result"
    }
   ],
   "source": [
    "data_1"
   ]
  },
  {
   "cell_type": "code",
   "execution_count": 49,
   "id": "80bd7b93",
   "metadata": {},
   "outputs": [
    {
     "name": "stderr",
     "output_type": "stream",
     "text": [
      "'[]' is not recognized as an internal or external command,\n",
      "operable program or batch file.\n"
     ]
    }
   ],
   "source": [
    "![](https://andrewnoske.com/w/images/1/19/Regex_metachars.gif)"
   ]
  },
  {
   "cell_type": "code",
   "execution_count": 50,
   "id": "66b868cd",
   "metadata": {},
   "outputs": [
    {
     "ename": "SyntaxError",
     "evalue": "(unicode error) 'unicodeescape' codec can't decode bytes in position 2-3: truncated \\uXXXX escape (1276293889.py, line 1)",
     "output_type": "error",
     "traceback": [
      "\u001b[1;36m  Input \u001b[1;32mIn [50]\u001b[1;36m\u001b[0m\n\u001b[1;33m    data = \"C:\\users\\rahul\\Downloads\\pa_dm_files_dec_15_2015.zip\"\u001b[0m\n\u001b[1;37m                                                                 ^\u001b[0m\n\u001b[1;31mSyntaxError\u001b[0m\u001b[1;31m:\u001b[0m (unicode error) 'unicodeescape' codec can't decode bytes in position 2-3: truncated \\uXXXX escape\n"
     ]
    }
   ],
   "source": [
    "data = \"C:\\users\\rahul\\Downloads\\pa_dm_files_dec_15_2015.zip\""
   ]
  },
  {
   "cell_type": "code",
   "execution_count": 51,
   "id": "2ac265e9",
   "metadata": {},
   "outputs": [
    {
     "name": "stdout",
     "output_type": "stream",
     "text": [
      "hello \n",
      "im Karthick\n"
     ]
    }
   ],
   "source": [
    "print(\"hello \\nim Karthick\")"
   ]
  },
  {
   "cell_type": "code",
   "execution_count": 52,
   "id": "1554dd30",
   "metadata": {},
   "outputs": [
    {
     "name": "stdout",
     "output_type": "stream",
     "text": [
      "Hi \"im RAhul\",\n"
     ]
    }
   ],
   "source": [
    "print(\"Hi \\\"im RAhul\\\",\")  #2 strings"
   ]
  },
  {
   "cell_type": "code",
   "execution_count": 53,
   "id": "c095c28c",
   "metadata": {},
   "outputs": [
    {
     "name": "stdout",
     "output_type": "stream",
     "text": [
      "hello \\nim Karthick\n"
     ]
    }
   ],
   "source": [
    "print(r\"hello \\nim Karthick\")   ##raw string-->r"
   ]
  },
  {
   "cell_type": "markdown",
   "id": "41f79d6b",
   "metadata": {},
   "source": [
    "\\d - Matches any decimal digit; this is equivalent to the class [0-9].\n",
    "\n",
    "\\D - Matches any non-digit character; this is equivalent to the class [^0-9].\n",
    "\n",
    "\\s - Matches any whitespace character; this is equivalent to the class [\\t\\n\\r\\f\\v]\n",
    "\n",
    "\\S - Matches any non-whitespace character; this is equivalent to the class [^\\t\\n\\r\\f\\v].\n",
    "\n",
    "\\w - Matches any alphanumeric character; this is equivalent to the class [a-zAZ0-9_].\n",
    "\n",
    "\\W - Matches any non-alphanumeric character. equivalent to the class [^a-zAZ0-9_].\n",
    "\n",
    ". - Matches with any single character except newline '\\n'.\n",
    "\n",
    "? - match 0 or 1 occurrence of the pattern to its left\n"
   ]
  },
  {
   "cell_type": "markdown",
   "id": "7c7eb70c",
   "metadata": {},
   "source": [
    "\\+ - 1 or more occurrences of the pattern to its right\n",
    "\n",
    "\\* - 0 or more occurrences of the pattern to its right\n",
    "\n",
    "\\b - boundary between word and non-word and /B is opposite of /b\n",
    "\n",
    "[..] - Matches any single character in a square bracket\n",
    "\n",
    "[^..] matches any single character not in square bracket.\n",
    "\n",
    "\\ - It is used for special meaning characters like \\. to match a period or \\+ for plus sign.\n",
    "\n",
    "{n,m} - Matches at least n and at most m occurrences of preceding\n",
    "\n",
    "a| b - Matches either a or b"
   ]
  },
  {
   "cell_type": "markdown",
   "id": "373f9544",
   "metadata": {},
   "source": [
    "The special characters are:\n",
    "        \".\"      Matches any character except a newline.\n",
    "        \n",
    "        \"^\"      Matches the start of the string.\n",
    "        \n",
    "        \"$\"      Matches the end of the string or just before the newline at\n",
    "                 the end of the string.\n",
    "                 \n",
    "        \"*\"      Matches 0 or more (greedy) repetitions of the preceding RE.\n",
    "                 Greedy means that it will match as many repetitions as possible.\n",
    "                 \n",
    "        \"+\"      Matches 1 or more (greedy) repetitions of the preceding RE.\n",
    "        \"?\"      Matches 0 or 1 (greedy) of the preceding RE.\n",
    "        *?,+?,?? Non-greedy versions of the previous three special characters.\n",
    "        {m,n}    Matches from m to n repetitions of the preceding RE.\n",
    "        {m,n}?   Non-greedy version of the above.\n",
    "        \"\\\\\"     Either escapes special characters or signals a special sequence.\n",
    "        []       Indicates a set of characters.\n",
    "                 A \"^\" as the first character indicates a complementing set.\n",
    "        \"|\"      A|B, creates an RE that will match either A or B.\n",
    "        (...)    Matches the RE inside the parentheses.\n",
    "                 The contents can be retrieved or matched later in the string.\n",
    "        (?aiLmsux) The letters set the corresponding flags defined below.\n",
    "        (?:...)  Non-grouping version of regular parentheses.\n",
    "        (?P<name>...) The substring matched by the group is accessible by name.\n",
    "        (?P=name)     Matches the text matched earlier by the group named name.\n",
    "        (?#...)  A comment; ignored.\n",
    "        (?=...)  Matches if ... matches next, but doesn't consume the string.\n",
    "        (?!...)  Matches if ... doesn't match next.\n",
    "        (?<=...) Matches if preceded by ... (must be fixed length).\n",
    "        (?<!...) Matches if not preceded by ... (must be fixed length)."
   ]
  },
  {
   "cell_type": "code",
   "execution_count": 64,
   "id": "7f87e22e",
   "metadata": {},
   "outputs": [
    {
     "name": "stdout",
     "output_type": "stream",
     "text": [
      "search successful.\n"
     ]
    }
   ],
   "source": [
    "import re\n",
    "res = re.match('^a',\"abyss\")\n",
    "\n",
    "if res:\n",
    "  print(\"search successful.\")\n",
    "else:\n",
    "  print(\"search unsuccessful.\")\n"
   ]
  },
  {
   "cell_type": "code",
   "execution_count": 55,
   "id": "af21bc63",
   "metadata": {},
   "outputs": [
    {
     "name": "stdout",
     "output_type": "stream",
     "text": [
      "search successful.\n"
     ]
    }
   ],
   "source": [
    "import re\n",
    "res = re.match('^a.+s$',\"abyss\")    #starts with  a and ends with s which contains n leter inside\n",
    "\n",
    "if res:\n",
    "  print(\"search successful.\")\n",
    "else:\n",
    "  print(\"search unsuccessful.\")\n"
   ]
  },
  {
   "cell_type": "markdown",
   "id": "6d3e6485",
   "metadata": {},
   "source": [
    "\\s - gives only empty space"
   ]
  },
  {
   "cell_type": "code",
   "execution_count": 56,
   "id": "79d4091e",
   "metadata": {},
   "outputs": [
    {
     "data": {
      "text/plain": [
       "[' ', ' ', ' ']"
      ]
     },
     "execution_count": 56,
     "metadata": {},
     "output_type": "execute_result"
    }
   ],
   "source": [
    "findall(\"\\s\",\"Python is easy @345\")"
   ]
  },
  {
   "cell_type": "markdown",
   "id": "c1977b54",
   "metadata": {},
   "source": [
    ". - refers the with white space and alphanumerical charcaters and special charaters"
   ]
  },
  {
   "cell_type": "markdown",
   "id": "a2777609",
   "metadata": {},
   "source": [
    "\\w - its only gives the alphamumerica values"
   ]
  },
  {
   "cell_type": "code",
   "execution_count": 58,
   "id": "da93893d",
   "metadata": {},
   "outputs": [
    {
     "data": {
      "text/plain": [
       "['python', 'is', 'used', 'for', 'ML', '1234']"
      ]
     },
     "execution_count": 58,
     "metadata": {},
     "output_type": "execute_result"
    }
   ],
   "source": [
    "findall(\"\\w+\",\"python is used for ML 1234!@#$%^\")"
   ]
  },
  {
   "cell_type": "code",
   "execution_count": 59,
   "id": "f8a7b52e",
   "metadata": {},
   "outputs": [
    {
     "data": {
      "text/plain": [
       "['p',\n",
       " 'y',\n",
       " 't',\n",
       " 'h',\n",
       " 'o',\n",
       " 'n',\n",
       " 'i',\n",
       " 's',\n",
       " 'u',\n",
       " 's',\n",
       " 'e',\n",
       " 'd',\n",
       " 'f',\n",
       " 'o',\n",
       " 'r',\n",
       " 'M',\n",
       " 'L',\n",
       " '1',\n",
       " '2',\n",
       " '3',\n",
       " '4']"
      ]
     },
     "execution_count": 59,
     "metadata": {},
     "output_type": "execute_result"
    }
   ],
   "source": [
    "findall(\"\\w\",\"python is used for ML 1234!@#$%^\")\n"
   ]
  },
  {
   "cell_type": "code",
   "execution_count": 60,
   "id": "5b5767d9",
   "metadata": {},
   "outputs": [
    {
     "data": {
      "text/plain": [
       "[' ', ' ', ' ', ' ', ' ', '!', '@', '#', '$', '%', '^']"
      ]
     },
     "execution_count": 60,
     "metadata": {},
     "output_type": "execute_result"
    }
   ],
   "source": [
    "findall(\"\\W\",\"python is used for ML 1234!@#$%^\")  #\\W - Matches any non-alphanumeric character. \n",
    "                                                  #equivalent to the class [^a-zAZ0-9_]."
   ]
  },
  {
   "cell_type": "code",
   "execution_count": 61,
   "id": "8fb7df00",
   "metadata": {},
   "outputs": [
    {
     "data": {
      "text/plain": [
       "['hi hello im    a ravi 1234@#$%']"
      ]
     },
     "execution_count": 61,
     "metadata": {},
     "output_type": "execute_result"
    }
   ],
   "source": [
    "findall(\".+\",\"hi hello im    a ravi 1234@#$%\")"
   ]
  },
  {
   "cell_type": "code",
   "execution_count": 68,
   "id": "1cdf26c5",
   "metadata": {},
   "outputs": [
    {
     "name": "stdout",
     "output_type": "stream",
     "text": [
      "search unsuccessful.\n"
     ]
    }
   ],
   "source": [
    "import re\n",
    "res = re.match('^a..s$',\"abyss\")   #2 dots are given...so only 2 letters should be present between a and s  \n",
    "\n",
    "if res:\n",
    "  print(\"search successful.\")\n",
    "else:\n",
    "  print(\"search unsuccessful.\")\n"
   ]
  },
  {
   "cell_type": "code",
   "execution_count": 63,
   "id": "9b499f6b",
   "metadata": {},
   "outputs": [],
   "source": [
    "data = \"\"\"Sure, I can help you with that. Here are some sample mobile numbers that you can use for testing or verification purposes.\"\n",
    " These numbers are randomly generated and do not belong to any real person or service. Please do not use them for any illegal or harmful activities.\"\"\""
   ]
  },
  {
   "cell_type": "code",
   "execution_count": 64,
   "id": "25ad703e",
   "metadata": {},
   "outputs": [
    {
     "data": {
      "text/plain": [
       "'Sure, I can help you with that. Here are some sample mobile numbers that you can use for testing or verification purposes.\"\\n These numbers are randomly generated and do not belong to any real person or service. Please do not use them for any illegal or harmful activities.'"
      ]
     },
     "execution_count": 64,
     "metadata": {},
     "output_type": "execute_result"
    }
   ],
   "source": [
    "data\n"
   ]
  },
  {
   "cell_type": "code",
   "execution_count": 65,
   "id": "67df9688",
   "metadata": {},
   "outputs": [
    {
     "data": {
      "text/plain": [
       "['re',\n",
       " 'can',\n",
       " 'help',\n",
       " 'o',\n",
       " 'i',\n",
       " 'h',\n",
       " 'ha',\n",
       " 'ere',\n",
       " 'are',\n",
       " 'some',\n",
       " 'sample',\n",
       " 'mobile',\n",
       " 'n',\n",
       " 'mbers',\n",
       " 'ha',\n",
       " 'o',\n",
       " 'can',\n",
       " 'se',\n",
       " 'for',\n",
       " 'es',\n",
       " 'ing',\n",
       " 'or',\n",
       " 'erifica',\n",
       " 'ion',\n",
       " 'p',\n",
       " 'rposes',\n",
       " 'hese',\n",
       " 'n',\n",
       " 'mbers',\n",
       " 'are',\n",
       " 'randoml',\n",
       " 'genera',\n",
       " 'ed',\n",
       " 'and',\n",
       " 'do',\n",
       " 'no',\n",
       " 'belong',\n",
       " 'o',\n",
       " 'an',\n",
       " 'real',\n",
       " 'person',\n",
       " 'or',\n",
       " 'ser',\n",
       " 'ice',\n",
       " 'lease',\n",
       " 'do',\n",
       " 'no',\n",
       " 'se',\n",
       " 'hem',\n",
       " 'for',\n",
       " 'an',\n",
       " 'illegal',\n",
       " 'or',\n",
       " 'harmf',\n",
       " 'l',\n",
       " 'ac',\n",
       " 'i',\n",
       " 'i',\n",
       " 'ies']"
      ]
     },
     "execution_count": 65,
     "metadata": {},
     "output_type": "execute_result"
    }
   ],
   "source": [
    "df = findall('[a-s]+',data)\n",
    "df"
   ]
  },
  {
   "cell_type": "code",
   "execution_count": 76,
   "id": "c721b02a",
   "metadata": {},
   "outputs": [
    {
     "ename": "TypeError",
     "evalue": "'function' object is not subscriptable",
     "output_type": "error",
     "traceback": [
      "\u001b[1;31m---------------------------------------------------------------------------\u001b[0m",
      "\u001b[1;31mTypeError\u001b[0m                                 Traceback (most recent call last)",
      "Input \u001b[1;32mIn [76]\u001b[0m, in \u001b[0;36m<cell line: 1>\u001b[1;34m()\u001b[0m\n\u001b[1;32m----> 1\u001b[0m \u001b[43mfindall\u001b[49m\u001b[43m[\u001b[49m\u001b[38;5;124;43m\"\u001b[39;49m\u001b[38;5;124;43mA-Ca-n1-4\u001b[39;49m\u001b[38;5;124;43m\"\u001b[39;49m\u001b[43m]\u001b[49m\n",
      "\u001b[1;31mTypeError\u001b[0m: 'function' object is not subscriptable"
     ]
    }
   ],
   "source": [
    "findall[\"A-Ca-n1-4\"]"
   ]
  },
  {
   "cell_type": "code",
   "execution_count": 88,
   "id": "77ec1758",
   "metadata": {},
   "outputs": [
    {
     "data": {
      "text/plain": [
       "['Help']"
      ]
     },
     "execution_count": 88,
     "metadata": {},
     "output_type": "execute_result"
    }
   ],
   "source": [
    "string = \"Help 12 hi 89 .Howdy 34 \"\n",
    "res = re.findall(\"^[A-H,a-z2-4]+\",string)\n",
    "res"
   ]
  },
  {
   "cell_type": "code",
   "execution_count": 90,
   "id": "4b97a48d",
   "metadata": {},
   "outputs": [
    {
     "data": {
      "text/plain": [
       "['He']"
      ]
     },
     "execution_count": 90,
     "metadata": {},
     "output_type": "execute_result"
    }
   ],
   "source": [
    "string = \"Hello e122 hi 89 .Howdy 34\"\n",
    "findall(r'^[he]+',string,flags = IGNORECASE)  #[..] - Matches any single character in a square bracket"
   ]
  },
  {
   "cell_type": "code",
   "execution_count": 69,
   "id": "300f01a4",
   "metadata": {},
   "outputs": [
    {
     "data": {
      "text/plain": [
       "['apple', 'application']"
      ]
     },
     "execution_count": 69,
     "metadata": {},
     "output_type": "execute_result"
    }
   ],
   "source": [
    "text = \"apple   apptitude  application   code \"\n",
    "pattern = r'app(?:le|lication)'\n",
    "findall(pattern,text)"
   ]
  },
  {
   "cell_type": "code",
   "execution_count": 70,
   "id": "2369ac2e",
   "metadata": {},
   "outputs": [
    {
     "data": {
      "text/plain": [
       "['apple', 'apptitude', 'application']"
      ]
     },
     "execution_count": 70,
     "metadata": {},
     "output_type": "execute_result"
    }
   ],
   "source": [
    "findall(r'\\bapp\\w+',text)  #word starts with app followed by one oe more word characters\n"
   ]
  },
  {
   "cell_type": "code",
   "execution_count": 71,
   "id": "1191d8fd",
   "metadata": {},
   "outputs": [
    {
     "data": {
      "text/plain": [
       "['Twelve:', ' Eighty nine:', '.']"
      ]
     },
     "execution_count": 71,
     "metadata": {},
     "output_type": "execute_result"
    }
   ],
   "source": [
    "string = 'Twelve:12 Eighty nine:89.'\n",
    "pattern = '\\d+'   #matches one or more consecutive digits\n",
    "\n",
    "res = re.split(pattern,string)\n",
    "res"
   ]
  },
  {
   "cell_type": "code",
   "execution_count": 93,
   "id": "0466bd2a",
   "metadata": {},
   "outputs": [
    {
     "data": {
      "text/plain": [
       "'abc 12de 23 \\n f45 6'"
      ]
     },
     "execution_count": 93,
     "metadata": {},
     "output_type": "execute_result"
    }
   ],
   "source": [
    "from types import new_class\n",
    "import re\n",
    "string = 'abc 12\\\n",
    "de 23 \\n f45 6'\n",
    "replace = \" \"\n",
    "\n",
    "pattern = '\\s'\n",
    "re.findall(pattern,string)\n",
    "res\n",
    "new_str = re.sub(r'\\s+',replace,string,1)\n",
    "new_str"
   ]
  },
  {
   "cell_type": "code",
   "execution_count": 73,
   "id": "2fc45024",
   "metadata": {},
   "outputs": [
    {
     "name": "stdout",
     "output_type": "stream",
     "text": [
      "pattern found inside the string\n"
     ]
    }
   ],
   "source": [
    "string = \"python is used in frameworks like Django,flask\"\n",
    "match = re.search(\"flask\",string)\n",
    "if match:\n",
    "  print(\"pattern found inside the string\")\n",
    "else:\n",
    "  print(\"pattern not found\")"
   ]
  },
  {
   "cell_type": "code",
   "execution_count": 98,
   "id": "84f20283",
   "metadata": {},
   "outputs": [
    {
     "name": "stdout",
     "output_type": "stream",
     "text": [
      "39801 356\n"
     ]
    }
   ],
   "source": [
    "string = '39801 356, 2102 1111'\n",
    "match = re.search(\"(\\d{5}) (\\d{3})\",string)\n",
    "if match:\n",
    "  print(match.group())\n",
    "else:\n",
    "  print(\"pattern not found\")"
   ]
  },
  {
   "cell_type": "code",
   "execution_count": 75,
   "id": "c39e96e5",
   "metadata": {},
   "outputs": [
    {
     "data": {
      "text/plain": [
       "'39801'"
      ]
     },
     "execution_count": 75,
     "metadata": {},
     "output_type": "execute_result"
    }
   ],
   "source": [
    "match.group(1)"
   ]
  },
  {
   "cell_type": "code",
   "execution_count": 76,
   "id": "494d9924",
   "metadata": {},
   "outputs": [
    {
     "data": {
      "text/plain": [
       "'356'"
      ]
     },
     "execution_count": 76,
     "metadata": {},
     "output_type": "execute_result"
    }
   ],
   "source": [
    "match.group(2)"
   ]
  },
  {
   "cell_type": "code",
   "execution_count": 77,
   "id": "6b72096c",
   "metadata": {},
   "outputs": [
    {
     "data": {
      "text/plain": [
       "('39801', '356')"
      ]
     },
     "execution_count": 77,
     "metadata": {},
     "output_type": "execute_result"
    }
   ],
   "source": [
    "match.group(1,2)"
   ]
  },
  {
   "cell_type": "code",
   "execution_count": 79,
   "id": "31dbdc28",
   "metadata": {},
   "outputs": [
    {
     "data": {
      "text/plain": [
       "('39801', '356')"
      ]
     },
     "execution_count": 79,
     "metadata": {},
     "output_type": "execute_result"
    }
   ],
   "source": [
    "match.groups()"
   ]
  },
  {
   "cell_type": "code",
   "execution_count": 78,
   "id": "bd276821",
   "metadata": {},
   "outputs": [
    {
     "data": {
      "text/plain": [
       "(0, 9)"
      ]
     },
     "execution_count": 78,
     "metadata": {},
     "output_type": "execute_result"
    }
   ],
   "source": [
    "match.span()"
   ]
  },
  {
   "cell_type": "code",
   "execution_count": 80,
   "id": "5b7068d9",
   "metadata": {},
   "outputs": [
    {
     "data": {
      "text/plain": [
       "['\\n', '\\r']"
      ]
     },
     "execution_count": 80,
     "metadata": {},
     "output_type": "execute_result"
    }
   ],
   "source": [
    "string = \"\\n and \\r are escape sequences\"\n",
    "result = re.findall(r'[\\n\\r]',string)\n",
    "result"
   ]
  },
  {
   "cell_type": "code",
   "execution_count": 81,
   "id": "d0645add",
   "metadata": {},
   "outputs": [
    {
     "data": {
      "text/plain": [
       "['python',\n",
       " 'is',\n",
       " 'easy',\n",
       " 'to',\n",
       " 'learn',\n",
       " 'and',\n",
       " 'python',\n",
       " '12344',\n",
       " 'used',\n",
       " 'for',\n",
       " 'mL',\n",
       " 'and',\n",
       " 'deep',\n",
       " 'learning']"
      ]
     },
     "execution_count": 81,
     "metadata": {},
     "output_type": "execute_result"
    }
   ],
   "source": [
    "findall(\"\\w+\",\"python is easy to learn and python@12344 used for mL and deep learning\")"
   ]
  },
  {
   "cell_type": "code",
   "execution_count": 82,
   "id": "7ad1369d",
   "metadata": {},
   "outputs": [
    {
     "data": {
      "text/plain": [
       "['python']"
      ]
     },
     "execution_count": 82,
     "metadata": {},
     "output_type": "execute_result"
    }
   ],
   "source": [
    "findall(r\"^python\",\"python is easy to learn and python@12344 used for mL and deep learning\")"
   ]
  },
  {
   "cell_type": "code",
   "execution_count": 83,
   "id": "90b26587",
   "metadata": {},
   "outputs": [],
   "source": [
    "df = \"\"\"Python is a popular, high-level, and general-purpose programming language that was created by Guido van Rossum in 1991. Python is known for its simple and readable syntax, dynamic typing, and rich set of libraries and frameworks. Python can be used for various purposes, such as web development, data analysis, machine learning, automation, and scripting. Python supports multiple programming paradigms, such as object-oriented, functional, and procedural. Python also has an interactive interpreter that allows users to execute code and test ideas quickly\"\"\""
   ]
  },
  {
   "cell_type": "code",
   "execution_count": 84,
   "id": "02efea5e",
   "metadata": {},
   "outputs": [
    {
     "data": {
      "text/plain": [
       "'Python is a popular, high-level, and general-purpose programming language that was created by Guido van Rossum in 1991. Python is known for its simple and readable syntax, dynamic typing, and rich set of libraries and frameworks. Python can be used for various purposes, such as web development, data analysis, machine learning, automation, and scripting. Python supports multiple programming paradigms, such as object-oriented, functional, and procedural. Python also has an interactive interpreter that allows users to execute code and test ideas quickly'"
      ]
     },
     "execution_count": 84,
     "metadata": {},
     "output_type": "execute_result"
    }
   ],
   "source": [
    "df"
   ]
  },
  {
   "cell_type": "code",
   "execution_count": 85,
   "id": "dabbd309",
   "metadata": {},
   "outputs": [
    {
     "data": {
      "text/plain": [
       "[]"
      ]
     },
     "execution_count": 85,
     "metadata": {},
     "output_type": "execute_result"
    }
   ],
   "source": [
    "findall('Python$',df)"
   ]
  },
  {
   "cell_type": "code",
   "execution_count": 86,
   "id": "e40f4f15",
   "metadata": {},
   "outputs": [
    {
     "data": {
      "text/plain": [
       "['Python',\n",
       " 'is',\n",
       " 'a',\n",
       " 'popular',\n",
       " 'high',\n",
       " 'level',\n",
       " 'and',\n",
       " 'general',\n",
       " 'purpose',\n",
       " 'programming',\n",
       " 'language',\n",
       " 'that',\n",
       " 'was',\n",
       " 'created',\n",
       " 'by',\n",
       " 'Guido',\n",
       " 'van',\n",
       " 'Rossum',\n",
       " 'in',\n",
       " '1991',\n",
       " 'Python',\n",
       " 'is',\n",
       " 'known',\n",
       " 'for',\n",
       " 'its',\n",
       " 'simple',\n",
       " 'and',\n",
       " 'readable',\n",
       " 'syntax',\n",
       " 'dynamic',\n",
       " 'typing',\n",
       " 'and',\n",
       " 'rich',\n",
       " 'set',\n",
       " 'of',\n",
       " 'libraries',\n",
       " 'and',\n",
       " 'frameworks',\n",
       " 'Python',\n",
       " 'can',\n",
       " 'be',\n",
       " 'used',\n",
       " 'for',\n",
       " 'various',\n",
       " 'purposes',\n",
       " 'such',\n",
       " 'as',\n",
       " 'web',\n",
       " 'development',\n",
       " 'data',\n",
       " 'analysis',\n",
       " 'machine',\n",
       " 'learning',\n",
       " 'automation',\n",
       " 'and',\n",
       " 'scripting',\n",
       " 'Python',\n",
       " 'supports',\n",
       " 'multiple',\n",
       " 'programming',\n",
       " 'paradigms',\n",
       " 'such',\n",
       " 'as',\n",
       " 'object',\n",
       " 'oriented',\n",
       " 'functional',\n",
       " 'and',\n",
       " 'procedural',\n",
       " 'Python',\n",
       " 'also',\n",
       " 'has',\n",
       " 'an',\n",
       " 'interactive',\n",
       " 'interpreter',\n",
       " 'that',\n",
       " 'allows',\n",
       " 'users',\n",
       " 'to',\n",
       " 'execute',\n",
       " 'code',\n",
       " 'and',\n",
       " 'test',\n",
       " 'ideas',\n",
       " 'quickly']"
      ]
     },
     "execution_count": 86,
     "metadata": {},
     "output_type": "execute_result"
    }
   ],
   "source": [
    "findall('\\w+',df)"
   ]
  },
  {
   "cell_type": "code",
   "execution_count": 87,
   "id": "56190be2",
   "metadata": {},
   "outputs": [
    {
     "data": {
      "text/plain": [
       "[' ', ' ', ' ', ' ', ' ', ' ', ' ', ' ', ' ', '@', '#', '$', '%', '%', ' ']"
      ]
     },
     "execution_count": 87,
     "metadata": {},
     "output_type": "execute_result"
    }
   ],
   "source": [
    "findall('\\W',\"   Hi hello im kishore   @#$%% \")"
   ]
  },
  {
   "cell_type": "code",
   "execution_count": 100,
   "id": "72f91a1c",
   "metadata": {},
   "outputs": [],
   "source": [
    "mail = '''Hello,\n",
    "\n",
    "Thank you for subscribing to our newsletter. We are happy to share with you the latest news and updates from Lorem Ipsumabc@gmail.com,ravi@gmail.com,gayu@idfcfirstbank.com,suresh@yahoo.com,ragu@hotmail.com'''"
   ]
  },
  {
   "cell_type": "code",
   "execution_count": 101,
   "id": "9b77fb82",
   "metadata": {},
   "outputs": [
    {
     "data": {
      "text/plain": [
       "'Hello,\\n\\nThank you for subscribing to our newsletter. We are happy to share with you the latest news and updates from Lorem Ipsumabc@gmail.com,ravi@gmail.com,gayu@idfcfirstbank.com,suresh@yahoo.com,ragu@hotmail.com'"
      ]
     },
     "execution_count": 101,
     "metadata": {},
     "output_type": "execute_result"
    }
   ],
   "source": [
    "mail"
   ]
  },
  {
   "cell_type": "code",
   "execution_count": 102,
   "id": "52e9507b",
   "metadata": {},
   "outputs": [
    {
     "data": {
      "text/plain": [
       "['Ipsumabc@gmail.com',\n",
       " 'ravi@gmail.com',\n",
       " 'gayu@idfcfirstbank.com',\n",
       " 'suresh@yahoo.com',\n",
       " 'ragu@hotmail.com']"
      ]
     },
     "execution_count": 102,
     "metadata": {},
     "output_type": "execute_result"
    }
   ],
   "source": [
    "findall(r\"\\w+@\\w+\\.\\w+\",mail)"
   ]
  },
  {
   "cell_type": "code",
   "execution_count": 103,
   "id": "28e9d38e",
   "metadata": {},
   "outputs": [
    {
     "data": {
      "text/plain": [
       "['Ipsumabc@gmail.com',\n",
       " 'ravi@gmail.com',\n",
       " 'gayu@idfcfirstbank.com',\n",
       " 'suresh@yahoo.com',\n",
       " 'ragu@hotmail.com']"
      ]
     },
     "execution_count": 103,
     "metadata": {},
     "output_type": "execute_result"
    }
   ],
   "source": [
    "res = findall('\\w+@\\w+.\\w+',mail)\n",
    "res"
   ]
  },
  {
   "cell_type": "code",
   "execution_count": 104,
   "id": "fba92dbf",
   "metadata": {},
   "outputs": [
    {
     "data": {
      "text/plain": [
       "['gmail.com', 'gmail.com', 'idfcfirstbank.com', 'yahoo.com', 'hotmail.com']"
      ]
     },
     "execution_count": 104,
     "metadata": {},
     "output_type": "execute_result"
    }
   ],
   "source": [
    "res = findall('\\w+@(\\w+.\\w+)',mail)\n",
    "res"
   ]
  },
  {
   "cell_type": "code",
   "execution_count": 93,
   "id": "894e39e9",
   "metadata": {},
   "outputs": [
    {
     "name": "stdout",
     "output_type": "stream",
     "text": [
      "enter the mail Id = naveena123@gmail.com\n",
      "It is Gmail account\n"
     ]
    }
   ],
   "source": [
    "import re\n",
    "r = input(\"enter the mail Id = \")\n",
    "n = re.finditer(r'@\\w+\\.\\w+',r)\n",
    "for i in n:\n",
    "    y = i.start()\n",
    "if r[y+1:] == \"gmail.com\":\n",
    "    print(\"It is Gmail account\")\n",
    "elif r[y+1:] == \"yahoo.com\":\n",
    "    print(\"It is yahoo account\")\n",
    "elif r[y+1:] == \"hotmail.com\":\n",
    "    print(\"its hotmail\")\n",
    "else:\n",
    "    print(\"Enter the mail ID = \" )"
   ]
  },
  {
   "cell_type": "code",
   "execution_count": 94,
   "id": "3594d99c",
   "metadata": {},
   "outputs": [
    {
     "data": {
      "text/plain": [
       "['123', '6', '30', '7', '30']"
      ]
     },
     "execution_count": 94,
     "metadata": {},
     "output_type": "execute_result"
    }
   ],
   "source": [
    "findall(r\"\\d+\",\"hello 123 evening session 6:30 - 7.30pm\")"
   ]
  },
  {
   "cell_type": "code",
   "execution_count": 95,
   "id": "b7bad296",
   "metadata": {},
   "outputs": [],
   "source": [
    "num = \"\"\"Sure, I can help you with that. Here are some sample mobile numbers that you can use\n",
    " for testing or verification purposes. These numbers are randomly generated and do not belong to any real person or service.\n",
    " Please do not use them for any illegal or harmful activities.\n",
    "\n",
    "+91 98765 43210\n",
    "+91 87654 32109\n",
    "+91 76543 21098\n",
    "+91 65432 10987\n",
    "+91 54321 09876\n",
    "\n",
    "\"\"\"\n"
   ]
  },
  {
   "cell_type": "code",
   "execution_count": 96,
   "id": "4dfed912",
   "metadata": {},
   "outputs": [
    {
     "data": {
      "text/plain": [
       "['+91 98765 43210',\n",
       " '+91 87654 32109',\n",
       " '+91 76543 21098',\n",
       " '+91 65432 10987',\n",
       " '+91 54321 09876']"
      ]
     },
     "execution_count": 96,
     "metadata": {},
     "output_type": "execute_result"
    }
   ],
   "source": [
    "findall(r'\\+\\d+\\s\\d{5}\\s\\d+',num)"
   ]
  },
  {
   "cell_type": "markdown",
   "id": "1b337476",
   "metadata": {},
   "source": [
    "\\s - Matches any whitespace character; this is equivalent to the class [\\t\\n\\r\\f\\v]\n",
    "\n",
    "\\S - Matches any non-whitespace character; this is equivalent to the class"
   ]
  },
  {
   "cell_type": "code",
   "execution_count": 97,
   "id": "020d1740",
   "metadata": {},
   "outputs": [
    {
     "data": {
      "text/plain": [
       "['+91 98765 43210',\n",
       " '+91 87654 32109',\n",
       " '+91 76543 21098',\n",
       " '+91 65432 10987',\n",
       " '+91 54321 09876']"
      ]
     },
     "execution_count": 97,
     "metadata": {},
     "output_type": "execute_result"
    }
   ],
   "source": [
    "findall(r'\\+\\d{2}\\s\\d{5}\\s\\d{5}',num)"
   ]
  },
  {
   "cell_type": "code",
   "execution_count": 98,
   "id": "d228a33b",
   "metadata": {},
   "outputs": [
    {
     "name": "stdout",
     "output_type": "stream",
     "text": [
      "match Found\n"
     ]
    }
   ],
   "source": [
    "string = \"The quick brown fox jumps over the lazy dog.\"\n",
    "pattern = r\"quick.brown\"\n",
    "match = search(pattern,string)\n",
    "# match = findall(pattern,string)\n",
    "# print(match)\n",
    "if match:\n",
    "  print(\"match Found\")\n",
    "else:\n",
    "  print(\"match not found\")"
   ]
  },
  {
   "cell_type": "code",
   "execution_count": 101,
   "id": "5263b4e4",
   "metadata": {},
   "outputs": [
    {
     "name": "stdout",
     "output_type": "stream",
     "text": [
      "['123-456-7890', '987.654.3210']\n"
     ]
    }
   ],
   "source": [
    "import re\n",
    "\n",
    "def extract_phone_numbers(text):\n",
    "    pattern = r'\\b\\d{3}[-.\\s]?\\d{3}[-.\\s]?\\d{4}\\b'\n",
    "    return re.findall(pattern, text)\n",
    "\n",
    "text = \"Call me at 123-456-7890 or 987.654.3210\"\n",
    "print(extract_phone_numbers(text))  \n"
   ]
  }
 ],
 "metadata": {
  "kernelspec": {
   "display_name": "Python 3 (ipykernel)",
   "language": "python",
   "name": "python3"
  },
  "language_info": {
   "codemirror_mode": {
    "name": "ipython",
    "version": 3
   },
   "file_extension": ".py",
   "mimetype": "text/x-python",
   "name": "python",
   "nbconvert_exporter": "python",
   "pygments_lexer": "ipython3",
   "version": "3.9.12"
  }
 },
 "nbformat": 4,
 "nbformat_minor": 5
}
