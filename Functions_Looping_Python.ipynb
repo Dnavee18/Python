{
 "cells": [
  {
   "cell_type": "markdown",
   "id": "7446b008",
   "metadata": {},
   "source": [
    "### Day_4"
   ]
  },
  {
   "cell_type": "markdown",
   "id": "932fda4f",
   "metadata": {},
   "source": [
    "# Function"
   ]
  },
  {
   "cell_type": "markdown",
   "id": "prepared-reflection",
   "metadata": {},
   "source": [
    "## What is a Function?"
   ]
  },
  {
   "cell_type": "markdown",
   "id": "complex-anatomy",
   "metadata": {},
   "source": [
    "**Function** is a special code fragment written to perform a specific task."
   ]
  },
  {
   "cell_type": "markdown",
   "id": "derived-maria",
   "metadata": {},
   "source": [
    "Functions only run, when you call them."
   ]
  },
  {
   "cell_type": "markdown",
   "id": "little-astronomy",
   "metadata": {},
   "source": [
    "Functions may have parameters (arguments)."
   ]
  },
  {
   "cell_type": "markdown",
   "id": "bronze-judge",
   "metadata": {},
   "source": [
    "Functions may return a value back."
   ]
  },
  {
   "cell_type": "markdown",
   "id": "north-basket",
   "metadata": {},
   "source": [
    "Calling a function:\n",
    "\n",
    "**function_name()**"
   ]
  },
  {
   "cell_type": "markdown",
   "id": "valuable-attention",
   "metadata": {},
   "source": [
    "Calling a function with parameters:\n",
    "\n",
    "**function_name(parameter_1, parameter_2, ...)**"
   ]
  },
  {
   "cell_type": "markdown",
   "id": "protective-enforcement",
   "metadata": {},
   "source": [
    "Functions prevent code duplications."
   ]
  },
  {
   "cell_type": "code",
   "execution_count": 2,
   "id": "preliminary-chile",
   "metadata": {},
   "outputs": [
    {
     "data": {
      "text/plain": [
       "int"
      ]
     },
     "execution_count": 2,
     "metadata": {},
     "output_type": "execute_result"
    }
   ],
   "source": [
    "type(42)"
   ]
  },
  {
   "cell_type": "code",
   "execution_count": 1,
   "id": "corresponding-custody",
   "metadata": {},
   "outputs": [
    {
     "data": {
      "text/plain": [
       "str"
      ]
     },
     "execution_count": 1,
     "metadata": {},
     "output_type": "execute_result"
    }
   ],
   "source": [
    "type('a sunny day')"
   ]
  },
  {
   "cell_type": "code",
   "execution_count": 3,
   "id": "distributed-meaning",
   "metadata": {},
   "outputs": [
    {
     "data": {
      "text/plain": [
       "5"
      ]
     },
     "execution_count": 3,
     "metadata": {},
     "output_type": "execute_result"
    }
   ],
   "source": [
    "# int() -> converts the given argument to int\n",
    "\n",
    "int(5.68)"
   ]
  },
  {
   "cell_type": "code",
   "execution_count": 5,
   "id": "polish-sunday",
   "metadata": {},
   "outputs": [
    {
     "data": {
      "text/plain": [
       "82"
      ]
     },
     "execution_count": 5,
     "metadata": {},
     "output_type": "execute_result"
    }
   ],
   "source": [
    "int(\"82\")"
   ]
  },
  {
   "cell_type": "code",
   "execution_count": 6,
   "id": "previous-mobile",
   "metadata": {},
   "outputs": [
    {
     "data": {
      "text/plain": [
       "'45'"
      ]
     },
     "execution_count": 6,
     "metadata": {},
     "output_type": "execute_result"
    }
   ],
   "source": [
    "# str() -> converts (casts) the given argument into string\n",
    "\n",
    "str(45)"
   ]
  },
  {
   "cell_type": "code",
   "execution_count": 7,
   "id": "elect-winning",
   "metadata": {},
   "outputs": [
    {
     "data": {
      "text/plain": [
       "'4.57'"
      ]
     },
     "execution_count": 7,
     "metadata": {},
     "output_type": "execute_result"
    }
   ],
   "source": [
    "str(4.57)"
   ]
  },
  {
   "cell_type": "code",
   "execution_count": 8,
   "id": "intermediate-force",
   "metadata": {},
   "outputs": [
    {
     "data": {
      "text/plain": [
       "'Gotham'"
      ]
     },
     "execution_count": 8,
     "metadata": {},
     "output_type": "execute_result"
    }
   ],
   "source": [
    "str('Gotham')"
   ]
  },
  {
   "cell_type": "code",
   "execution_count": 9,
   "id": "direct-impact",
   "metadata": {},
   "outputs": [
    {
     "data": {
      "text/plain": [
       "12.0"
      ]
     },
     "execution_count": 9,
     "metadata": {},
     "output_type": "execute_result"
    }
   ],
   "source": [
    "# float() -> casts the given argument into float\n",
    "\n",
    "float(12)"
   ]
  },
  {
   "cell_type": "code",
   "execution_count": 10,
   "id": "concerned-tyler",
   "metadata": {},
   "outputs": [
    {
     "data": {
      "text/plain": [
       "4.0"
      ]
     },
     "execution_count": 10,
     "metadata": {},
     "output_type": "execute_result"
    }
   ],
   "source": [
    "float('4')"
   ]
  },
  {
   "cell_type": "code",
   "execution_count": 11,
   "id": "killing-bubble",
   "metadata": {},
   "outputs": [
    {
     "data": {
      "text/plain": [
       "-78.0"
      ]
     },
     "execution_count": 11,
     "metadata": {},
     "output_type": "execute_result"
    }
   ],
   "source": [
    "num = '-78'\n",
    "float(num)"
   ]
  },
  {
   "cell_type": "code",
   "execution_count": 12,
   "id": "static-fitting",
   "metadata": {},
   "outputs": [
    {
     "ename": "ValueError",
     "evalue": "could not convert string to float: '78-'",
     "output_type": "error",
     "traceback": [
      "\u001b[1;31m---------------------------------------------------------------------------\u001b[0m",
      "\u001b[1;31mValueError\u001b[0m                                Traceback (most recent call last)",
      "Input \u001b[1;32mIn [12]\u001b[0m, in \u001b[0;36m<cell line: 2>\u001b[1;34m()\u001b[0m\n\u001b[0;32m      1\u001b[0m num \u001b[38;5;241m=\u001b[39m \u001b[38;5;124m'\u001b[39m\u001b[38;5;124m78-\u001b[39m\u001b[38;5;124m'\u001b[39m\n\u001b[1;32m----> 2\u001b[0m \u001b[38;5;28;43mfloat\u001b[39;49m\u001b[43m(\u001b[49m\u001b[43mnum\u001b[49m\u001b[43m)\u001b[49m\n",
      "\u001b[1;31mValueError\u001b[0m: could not convert string to float: '78-'"
     ]
    }
   ],
   "source": [
    "num = '78-'\n",
    "float(num)"
   ]
  },
  {
   "cell_type": "markdown",
   "id": "diagnostic-justice",
   "metadata": {},
   "source": [
    "## Math Functions (math)"
   ]
  },
  {
   "cell_type": "markdown",
   "id": "graphic-stadium",
   "metadata": {},
   "source": [
    "We use **math** module to do mathematical operations."
   ]
  },
  {
   "cell_type": "markdown",
   "id": "twelve-establishment",
   "metadata": {},
   "source": [
    "**Module** is any Python file (.py) that includes executable Python code."
   ]
  },
  {
   "cell_type": "code",
   "execution_count": 13,
   "id": "occupied-princeton",
   "metadata": {},
   "outputs": [],
   "source": [
    "# import math module\n",
    "import math"
   ]
  },
  {
   "cell_type": "code",
   "execution_count": 14,
   "id": "02ced910",
   "metadata": {},
   "outputs": [
    {
     "data": {
      "text/plain": [
       "['__doc__',\n",
       " '__loader__',\n",
       " '__name__',\n",
       " '__package__',\n",
       " '__spec__',\n",
       " 'acos',\n",
       " 'acosh',\n",
       " 'asin',\n",
       " 'asinh',\n",
       " 'atan',\n",
       " 'atan2',\n",
       " 'atanh',\n",
       " 'ceil',\n",
       " 'comb',\n",
       " 'copysign',\n",
       " 'cos',\n",
       " 'cosh',\n",
       " 'degrees',\n",
       " 'dist',\n",
       " 'e',\n",
       " 'erf',\n",
       " 'erfc',\n",
       " 'exp',\n",
       " 'expm1',\n",
       " 'fabs',\n",
       " 'factorial',\n",
       " 'floor',\n",
       " 'fmod',\n",
       " 'frexp',\n",
       " 'fsum',\n",
       " 'gamma',\n",
       " 'gcd',\n",
       " 'hypot',\n",
       " 'inf',\n",
       " 'isclose',\n",
       " 'isfinite',\n",
       " 'isinf',\n",
       " 'isnan',\n",
       " 'isqrt',\n",
       " 'lcm',\n",
       " 'ldexp',\n",
       " 'lgamma',\n",
       " 'log',\n",
       " 'log10',\n",
       " 'log1p',\n",
       " 'log2',\n",
       " 'modf',\n",
       " 'nan',\n",
       " 'nextafter',\n",
       " 'perm',\n",
       " 'pi',\n",
       " 'pow',\n",
       " 'prod',\n",
       " 'radians',\n",
       " 'remainder',\n",
       " 'sin',\n",
       " 'sinh',\n",
       " 'sqrt',\n",
       " 'tan',\n",
       " 'tanh',\n",
       " 'tau',\n",
       " 'trunc',\n",
       " 'ulp']"
      ]
     },
     "execution_count": 14,
     "metadata": {},
     "output_type": "execute_result"
    }
   ],
   "source": [
    "dir(math)"
   ]
  },
  {
   "cell_type": "code",
   "execution_count": 15,
   "id": "a8b644b3",
   "metadata": {},
   "outputs": [
    {
     "data": {
      "text/plain": [
       "5.0"
      ]
     },
     "execution_count": 15,
     "metadata": {},
     "output_type": "execute_result"
    }
   ],
   "source": [
    "math.sqrt(25)"
   ]
  },
  {
   "cell_type": "code",
   "execution_count": 16,
   "id": "straight-occurrence",
   "metadata": {},
   "outputs": [
    {
     "name": "stdout",
     "output_type": "stream",
     "text": [
      "<module 'math' (built-in)>\n"
     ]
    }
   ],
   "source": [
    "# see the module info\n",
    "print(math)"
   ]
  },
  {
   "cell_type": "code",
   "execution_count": 17,
   "id": "selected-somerset",
   "metadata": {},
   "outputs": [
    {
     "name": "stdout",
     "output_type": "stream",
     "text": [
      "Help on built-in module math:\n",
      "\n",
      "NAME\n",
      "    math\n",
      "\n",
      "DESCRIPTION\n",
      "    This module provides access to the mathematical functions\n",
      "    defined by the C standard.\n",
      "\n",
      "FUNCTIONS\n",
      "    acos(x, /)\n",
      "        Return the arc cosine (measured in radians) of x.\n",
      "        \n",
      "        The result is between 0 and pi.\n",
      "    \n",
      "    acosh(x, /)\n",
      "        Return the inverse hyperbolic cosine of x.\n",
      "    \n",
      "    asin(x, /)\n",
      "        Return the arc sine (measured in radians) of x.\n",
      "        \n",
      "        The result is between -pi/2 and pi/2.\n",
      "    \n",
      "    asinh(x, /)\n",
      "        Return the inverse hyperbolic sine of x.\n",
      "    \n",
      "    atan(x, /)\n",
      "        Return the arc tangent (measured in radians) of x.\n",
      "        \n",
      "        The result is between -pi/2 and pi/2.\n",
      "    \n",
      "    atan2(y, x, /)\n",
      "        Return the arc tangent (measured in radians) of y/x.\n",
      "        \n",
      "        Unlike atan(y/x), the signs of both x and y are considered.\n",
      "    \n",
      "    atanh(x, /)\n",
      "        Return the inverse hyperbolic tangent of x.\n",
      "    \n",
      "    ceil(x, /)\n",
      "        Return the ceiling of x as an Integral.\n",
      "        \n",
      "        This is the smallest integer >= x.\n",
      "    \n",
      "    comb(n, k, /)\n",
      "        Number of ways to choose k items from n items without repetition and without order.\n",
      "        \n",
      "        Evaluates to n! / (k! * (n - k)!) when k <= n and evaluates\n",
      "        to zero when k > n.\n",
      "        \n",
      "        Also called the binomial coefficient because it is equivalent\n",
      "        to the coefficient of k-th term in polynomial expansion of the\n",
      "        expression (1 + x)**n.\n",
      "        \n",
      "        Raises TypeError if either of the arguments are not integers.\n",
      "        Raises ValueError if either of the arguments are negative.\n",
      "    \n",
      "    copysign(x, y, /)\n",
      "        Return a float with the magnitude (absolute value) of x but the sign of y.\n",
      "        \n",
      "        On platforms that support signed zeros, copysign(1.0, -0.0)\n",
      "        returns -1.0.\n",
      "    \n",
      "    cos(x, /)\n",
      "        Return the cosine of x (measured in radians).\n",
      "    \n",
      "    cosh(x, /)\n",
      "        Return the hyperbolic cosine of x.\n",
      "    \n",
      "    degrees(x, /)\n",
      "        Convert angle x from radians to degrees.\n",
      "    \n",
      "    dist(p, q, /)\n",
      "        Return the Euclidean distance between two points p and q.\n",
      "        \n",
      "        The points should be specified as sequences (or iterables) of\n",
      "        coordinates.  Both inputs must have the same dimension.\n",
      "        \n",
      "        Roughly equivalent to:\n",
      "            sqrt(sum((px - qx) ** 2.0 for px, qx in zip(p, q)))\n",
      "    \n",
      "    erf(x, /)\n",
      "        Error function at x.\n",
      "    \n",
      "    erfc(x, /)\n",
      "        Complementary error function at x.\n",
      "    \n",
      "    exp(x, /)\n",
      "        Return e raised to the power of x.\n",
      "    \n",
      "    expm1(x, /)\n",
      "        Return exp(x)-1.\n",
      "        \n",
      "        This function avoids the loss of precision involved in the direct evaluation of exp(x)-1 for small x.\n",
      "    \n",
      "    fabs(x, /)\n",
      "        Return the absolute value of the float x.\n",
      "    \n",
      "    factorial(x, /)\n",
      "        Find x!.\n",
      "        \n",
      "        Raise a ValueError if x is negative or non-integral.\n",
      "    \n",
      "    floor(x, /)\n",
      "        Return the floor of x as an Integral.\n",
      "        \n",
      "        This is the largest integer <= x.\n",
      "    \n",
      "    fmod(x, y, /)\n",
      "        Return fmod(x, y), according to platform C.\n",
      "        \n",
      "        x % y may differ.\n",
      "    \n",
      "    frexp(x, /)\n",
      "        Return the mantissa and exponent of x, as pair (m, e).\n",
      "        \n",
      "        m is a float and e is an int, such that x = m * 2.**e.\n",
      "        If x is 0, m and e are both 0.  Else 0.5 <= abs(m) < 1.0.\n",
      "    \n",
      "    fsum(seq, /)\n",
      "        Return an accurate floating point sum of values in the iterable seq.\n",
      "        \n",
      "        Assumes IEEE-754 floating point arithmetic.\n",
      "    \n",
      "    gamma(x, /)\n",
      "        Gamma function at x.\n",
      "    \n",
      "    gcd(*integers)\n",
      "        Greatest Common Divisor.\n",
      "    \n",
      "    hypot(...)\n",
      "        hypot(*coordinates) -> value\n",
      "        \n",
      "        Multidimensional Euclidean distance from the origin to a point.\n",
      "        \n",
      "        Roughly equivalent to:\n",
      "            sqrt(sum(x**2 for x in coordinates))\n",
      "        \n",
      "        For a two dimensional point (x, y), gives the hypotenuse\n",
      "        using the Pythagorean theorem:  sqrt(x*x + y*y).\n",
      "        \n",
      "        For example, the hypotenuse of a 3/4/5 right triangle is:\n",
      "        \n",
      "            >>> hypot(3.0, 4.0)\n",
      "            5.0\n",
      "    \n",
      "    isclose(a, b, *, rel_tol=1e-09, abs_tol=0.0)\n",
      "        Determine whether two floating point numbers are close in value.\n",
      "        \n",
      "          rel_tol\n",
      "            maximum difference for being considered \"close\", relative to the\n",
      "            magnitude of the input values\n",
      "          abs_tol\n",
      "            maximum difference for being considered \"close\", regardless of the\n",
      "            magnitude of the input values\n",
      "        \n",
      "        Return True if a is close in value to b, and False otherwise.\n",
      "        \n",
      "        For the values to be considered close, the difference between them\n",
      "        must be smaller than at least one of the tolerances.\n",
      "        \n",
      "        -inf, inf and NaN behave similarly to the IEEE 754 Standard.  That\n",
      "        is, NaN is not close to anything, even itself.  inf and -inf are\n",
      "        only close to themselves.\n",
      "    \n",
      "    isfinite(x, /)\n",
      "        Return True if x is neither an infinity nor a NaN, and False otherwise.\n",
      "    \n",
      "    isinf(x, /)\n",
      "        Return True if x is a positive or negative infinity, and False otherwise.\n",
      "    \n",
      "    isnan(x, /)\n",
      "        Return True if x is a NaN (not a number), and False otherwise.\n",
      "    \n",
      "    isqrt(n, /)\n",
      "        Return the integer part of the square root of the input.\n",
      "    \n",
      "    lcm(*integers)\n",
      "        Least Common Multiple.\n",
      "    \n",
      "    ldexp(x, i, /)\n",
      "        Return x * (2**i).\n",
      "        \n",
      "        This is essentially the inverse of frexp().\n",
      "    \n",
      "    lgamma(x, /)\n",
      "        Natural logarithm of absolute value of Gamma function at x.\n",
      "    \n",
      "    log(...)\n",
      "        log(x, [base=math.e])\n",
      "        Return the logarithm of x to the given base.\n",
      "        \n",
      "        If the base not specified, returns the natural logarithm (base e) of x.\n",
      "    \n",
      "    log10(x, /)\n",
      "        Return the base 10 logarithm of x.\n",
      "    \n",
      "    log1p(x, /)\n",
      "        Return the natural logarithm of 1+x (base e).\n",
      "        \n",
      "        The result is computed in a way which is accurate for x near zero.\n",
      "    \n",
      "    log2(x, /)\n",
      "        Return the base 2 logarithm of x.\n",
      "    \n",
      "    modf(x, /)\n",
      "        Return the fractional and integer parts of x.\n",
      "        \n",
      "        Both results carry the sign of x and are floats.\n",
      "    \n",
      "    nextafter(x, y, /)\n",
      "        Return the next floating-point value after x towards y.\n",
      "    \n",
      "    perm(n, k=None, /)\n",
      "        Number of ways to choose k items from n items without repetition and with order.\n",
      "        \n",
      "        Evaluates to n! / (n - k)! when k <= n and evaluates\n",
      "        to zero when k > n.\n",
      "        \n",
      "        If k is not specified or is None, then k defaults to n\n",
      "        and the function returns n!.\n",
      "        \n",
      "        Raises TypeError if either of the arguments are not integers.\n",
      "        Raises ValueError if either of the arguments are negative.\n",
      "    \n",
      "    pow(x, y, /)\n",
      "        Return x**y (x to the power of y).\n",
      "    \n",
      "    prod(iterable, /, *, start=1)\n",
      "        Calculate the product of all the elements in the input iterable.\n",
      "        \n",
      "        The default start value for the product is 1.\n",
      "        \n",
      "        When the iterable is empty, return the start value.  This function is\n",
      "        intended specifically for use with numeric values and may reject\n",
      "        non-numeric types.\n",
      "    \n",
      "    radians(x, /)\n",
      "        Convert angle x from degrees to radians.\n",
      "    \n",
      "    remainder(x, y, /)\n",
      "        Difference between x and the closest integer multiple of y.\n",
      "        \n",
      "        Return x - n*y where n*y is the closest integer multiple of y.\n",
      "        In the case where x is exactly halfway between two multiples of\n",
      "        y, the nearest even value of n is used. The result is always exact.\n",
      "    \n",
      "    sin(x, /)\n",
      "        Return the sine of x (measured in radians).\n",
      "    \n",
      "    sinh(x, /)\n",
      "        Return the hyperbolic sine of x.\n",
      "    \n",
      "    sqrt(x, /)\n",
      "        Return the square root of x.\n",
      "    \n",
      "    tan(x, /)\n",
      "        Return the tangent of x (measured in radians).\n",
      "    \n",
      "    tanh(x, /)\n",
      "        Return the hyperbolic tangent of x.\n",
      "    \n",
      "    trunc(x, /)\n",
      "        Truncates the Real x to the nearest Integral toward 0.\n",
      "        \n",
      "        Uses the __trunc__ magic method.\n",
      "    \n",
      "    ulp(x, /)\n",
      "        Return the value of the least significant bit of the float x.\n",
      "\n",
      "DATA\n",
      "    e = 2.718281828459045\n",
      "    inf = inf\n",
      "    nan = nan\n",
      "    pi = 3.141592653589793\n",
      "    tau = 6.283185307179586\n",
      "\n",
      "FILE\n",
      "    (built-in)\n",
      "\n",
      "\n"
     ]
    }
   ],
   "source": [
    "# see detailed docs\n",
    "\n",
    "# help() -> gives you the detailed docs\n",
    "help(math)"
   ]
  },
  {
   "cell_type": "code",
   "execution_count": 18,
   "id": "uniform-anthropology",
   "metadata": {},
   "outputs": [
    {
     "data": {
      "text/plain": [
       "3.141592653589793"
      ]
     },
     "execution_count": 18,
     "metadata": {},
     "output_type": "execute_result"
    }
   ],
   "source": [
    "# we can call any function from module -> . notation\n",
    "math.pi"
   ]
  },
  {
   "cell_type": "code",
   "execution_count": 19,
   "id": "freelance-produce",
   "metadata": {},
   "outputs": [
    {
     "name": "stdout",
     "output_type": "stream",
     "text": [
      "62.83185307179586\n"
     ]
    }
   ],
   "source": [
    "# Example:\n",
    "\n",
    "# What is the perimeter (circumference) of a circle having radius of 10 cm?\n",
    "# Perimeter = 2 * pi * r\n",
    "\n",
    "# radius\n",
    "r = 10\n",
    "\n",
    "# perimeter\n",
    "perimeter = 2 * math.pi * r\n",
    "\n",
    "print(perimeter)"
   ]
  },
  {
   "cell_type": "code",
   "execution_count": 20,
   "id": "processed-profile",
   "metadata": {},
   "outputs": [
    {
     "name": "stdout",
     "output_type": "stream",
     "text": [
      "0.49999999999999994\n"
     ]
    }
   ],
   "source": [
    "# Example:\n",
    "\n",
    "# Calculate the sine of 30 degrees -> sin(30)\n",
    "\n",
    "degree = 30\n",
    "\n",
    "# calculate radian\n",
    "radian = math.radians(degree)\n",
    "\n",
    "# calculate the sine\n",
    "sine = math.sin(radian)\n",
    "\n",
    "print(sine)"
   ]
  },
  {
   "cell_type": "markdown",
   "id": "through-mercy",
   "metadata": {},
   "source": [
    "**Composition of Functions**\n",
    "\n",
    "Chaining Functions."
   ]
  },
  {
   "cell_type": "code",
   "execution_count": 21,
   "id": "hungarian-album",
   "metadata": {},
   "outputs": [
    {
     "name": "stdout",
     "output_type": "stream",
     "text": [
      "0.49999999999999994\n"
     ]
    }
   ],
   "source": [
    "# chain the functions\n",
    "# first call math.radians(degree) \n",
    "# then pass it into math.sin()\n",
    "\n",
    "degree = 30\n",
    "sine = math.sin(math.radians(degree))\n",
    "print(sine)"
   ]
  },
  {
   "cell_type": "markdown",
   "id": "robust-white",
   "metadata": {},
   "source": [
    "## Defining Functions"
   ]
  },
  {
   "cell_type": "code",
   "execution_count": 22,
   "id": "eb8d35c0",
   "metadata": {},
   "outputs": [],
   "source": [
    "def fun(a,b):\n",
    "    print(\"hi\")\n",
    "    print(a+b)\n",
    "    print(a)"
   ]
  },
  {
   "cell_type": "code",
   "execution_count": 23,
   "id": "3a8a8417",
   "metadata": {},
   "outputs": [
    {
     "name": "stdout",
     "output_type": "stream",
     "text": [
      "hi\n",
      "15\n",
      "13\n"
     ]
    }
   ],
   "source": [
    "fun(b = 2,a = 13)"
   ]
  },
  {
   "cell_type": "code",
   "execution_count": 24,
   "id": "rational-scanner",
   "metadata": {},
   "outputs": [],
   "source": [
    "# Without Parameters\n",
    "\n",
    "def my_first_function(): \n",
    "    # print line\n",
    "    print(\"This is my first function\")"
   ]
  },
  {
   "cell_type": "code",
   "execution_count": 25,
   "id": "auburn-equipment",
   "metadata": {},
   "outputs": [
    {
     "name": "stdout",
     "output_type": "stream",
     "text": [
      "This is my first function\n"
     ]
    }
   ],
   "source": [
    "# call the function\n",
    "\n",
    "my_first_function()"
   ]
  },
  {
   "cell_type": "markdown",
   "id": "underlying-nelson",
   "metadata": {},
   "source": [
    "**Indent:** Python uses indent for scoping.\n",
    "\n",
    "    * indent: tab\n",
    "    * indent: 4 space"
   ]
  },
  {
   "cell_type": "markdown",
   "id": "709d35cd",
   "metadata": {},
   "source": [
    "# Syntax:\n"
   ]
  },
  {
   "cell_type": "code",
   "execution_count": null,
   "id": "406ec0cd",
   "metadata": {},
   "outputs": [],
   "source": [
    "# def function(arguments):\n",
    "#     body of the function\n",
    "#     return the value"
   ]
  },
  {
   "cell_type": "code",
   "execution_count": 26,
   "id": "a4df0af6",
   "metadata": {},
   "outputs": [],
   "source": [
    "def yadi():\n",
    "    print(\"Hi im Yadi\")\n",
    "    return 12"
   ]
  },
  {
   "cell_type": "code",
   "execution_count": 27,
   "id": "2894b053",
   "metadata": {},
   "outputs": [
    {
     "name": "stdout",
     "output_type": "stream",
     "text": [
      "Hi im Yadi\n"
     ]
    },
    {
     "data": {
      "text/plain": [
       "12"
      ]
     },
     "execution_count": 27,
     "metadata": {},
     "output_type": "execute_result"
    }
   ],
   "source": [
    "yadi()"
   ]
  },
  {
   "cell_type": "code",
   "execution_count": 28,
   "id": "d6a29fcb",
   "metadata": {},
   "outputs": [],
   "source": [
    "def mayuri(a,b):\n",
    "    return a+b,a-b,a*b,a/b"
   ]
  },
  {
   "cell_type": "code",
   "execution_count": 29,
   "id": "dbc3df8b",
   "metadata": {},
   "outputs": [
    {
     "data": {
      "text/plain": [
       "(25, -1, 156, 0.9230769230769231)"
      ]
     },
     "execution_count": 29,
     "metadata": {},
     "output_type": "execute_result"
    }
   ],
   "source": [
    "mayuri(12,13)"
   ]
  },
  {
   "cell_type": "code",
   "execution_count": 9,
   "id": "complete-comparison",
   "metadata": {},
   "outputs": [
    {
     "name": "stdout",
     "output_type": "stream",
     "text": [
      "Name: John Doe\n",
      "Age: 24\n",
      "Language: Python\n"
     ]
    }
   ],
   "source": [
    "# Student Data\n",
    "print(\"Name: John Doe\")\n",
    "print(\"Age: 24\")\n",
    "print(\"Language: Python\")"
   ]
  },
  {
   "cell_type": "code",
   "execution_count": 10,
   "id": "convertible-remedy",
   "metadata": {},
   "outputs": [
    {
     "name": "stdout",
     "output_type": "stream",
     "text": [
      "Name: John Doe\n",
      "Age: 24\n",
      "Language: Python\n"
     ]
    }
   ],
   "source": [
    "# we need student data again\n",
    "\n",
    "print(\"Name: John Doe\")\n",
    "print(\"Age: 24\")\n",
    "print(\"Language: Python\")"
   ]
  },
  {
   "cell_type": "code",
   "execution_count": 11,
   "id": "preliminary-rough",
   "metadata": {},
   "outputs": [],
   "source": [
    "# Define a function for student name\n",
    "\n",
    "def student_name():\n",
    "    print(\"Name: John Doe\")"
   ]
  },
  {
   "cell_type": "code",
   "execution_count": 12,
   "id": "bibliographic-stupid",
   "metadata": {},
   "outputs": [
    {
     "name": "stdout",
     "output_type": "stream",
     "text": [
      "Name: John Doe\n"
     ]
    }
   ],
   "source": [
    "# call the function student_name\n",
    "student_name()"
   ]
  },
  {
   "cell_type": "code",
   "execution_count": 13,
   "id": "sticky-receptor",
   "metadata": {},
   "outputs": [],
   "source": [
    "# Define a function for student age\n",
    "\n",
    "def student_age():\n",
    "    print(\"Age: 24\")"
   ]
  },
  {
   "cell_type": "code",
   "execution_count": 14,
   "id": "undefined-president",
   "metadata": {},
   "outputs": [
    {
     "name": "stdout",
     "output_type": "stream",
     "text": [
      "Age: 24\n"
     ]
    }
   ],
   "source": [
    "# call the function student_age\n",
    "student_age()"
   ]
  },
  {
   "cell_type": "code",
   "execution_count": 15,
   "id": "primary-price",
   "metadata": {},
   "outputs": [],
   "source": [
    "# Define a function for student language\n",
    "\n",
    "def student_language():\n",
    "    print(\"Language: Python\")"
   ]
  },
  {
   "cell_type": "code",
   "execution_count": 16,
   "id": "enclosed-racing",
   "metadata": {},
   "outputs": [
    {
     "name": "stdout",
     "output_type": "stream",
     "text": [
      "Language: Python\n"
     ]
    }
   ],
   "source": [
    "# call the function student_language\n",
    "student_language()"
   ]
  },
  {
   "cell_type": "code",
   "execution_count": 17,
   "id": "administrative-tulsa",
   "metadata": {},
   "outputs": [
    {
     "name": "stdout",
     "output_type": "stream",
     "text": [
      "Name: John Doe\n",
      "Age: 24\n",
      "Language: Python\n"
     ]
    }
   ],
   "source": [
    "# Print Student with functions\n",
    "\n",
    "student_name()\n",
    "student_age()\n",
    "student_language()"
   ]
  },
  {
   "cell_type": "code",
   "execution_count": 18,
   "id": "southwest-violin",
   "metadata": {},
   "outputs": [
    {
     "name": "stdout",
     "output_type": "stream",
     "text": [
      "Name: John Doe\n",
      "Age: 24\n",
      "Language: Python\n"
     ]
    }
   ],
   "source": [
    "# print student data again\n",
    "# we have to call all 3 functions again\n",
    "\n",
    "student_name()\n",
    "student_age()\n",
    "student_language()"
   ]
  },
  {
   "cell_type": "code",
   "execution_count": 19,
   "id": "monthly-wings",
   "metadata": {},
   "outputs": [],
   "source": [
    "# one wrapper function to call all three\n",
    "\n",
    "def student_data():\n",
    "    student_name()\n",
    "    student_age()\n",
    "    student_language()"
   ]
  },
  {
   "cell_type": "code",
   "execution_count": 20,
   "id": "premium-judge",
   "metadata": {},
   "outputs": [
    {
     "name": "stdout",
     "output_type": "stream",
     "text": [
      "Name: John Doe\n",
      "Age: 24\n",
      "Language: Python\n"
     ]
    }
   ],
   "source": [
    "# print student data in just one function call\n",
    "student_data()"
   ]
  },
  {
   "cell_type": "code",
   "execution_count": 21,
   "id": "advisory-textbook",
   "metadata": {},
   "outputs": [
    {
     "name": "stdout",
     "output_type": "stream",
     "text": [
      "Name: John Doe\n",
      "Age: 24\n",
      "Language: Python\n"
     ]
    }
   ],
   "source": [
    "# print student data again\n",
    "student_data()"
   ]
  },
  {
   "cell_type": "markdown",
   "id": "copyrighted-cover",
   "metadata": {},
   "source": [
    "We want to print students name and lastname seperately.\n",
    "\n",
    "\"Name: John\"\n",
    "\n",
    "\"Lastname: Doe\""
   ]
  },
  {
   "cell_type": "code",
   "execution_count": 22,
   "id": "passing-import",
   "metadata": {},
   "outputs": [],
   "source": [
    "# create two seperate functions for firstname and lastname\n",
    "\n",
    "def student_firstname():\n",
    "    print(\"Name: John\")\n",
    "\n",
    "def student_lastname():\n",
    "    print(\"Lastname: Doe\")"
   ]
  },
  {
   "cell_type": "code",
   "execution_count": 24,
   "id": "suburban-howard",
   "metadata": {},
   "outputs": [],
   "source": [
    "# redefine student_name function\n",
    "# it will print students name by calling two seperate functions\n",
    "\n",
    "def student_name():\n",
    "    student_firstname()\n",
    "    student_lastname()"
   ]
  },
  {
   "cell_type": "code",
   "execution_count": 25,
   "id": "historical-festival",
   "metadata": {},
   "outputs": [
    {
     "name": "stdout",
     "output_type": "stream",
     "text": [
      "Name: John\n",
      "Lastname: Doe\n"
     ]
    }
   ],
   "source": [
    "# call the redefined student_name function\n",
    "student_name()"
   ]
  },
  {
   "cell_type": "code",
   "execution_count": 26,
   "id": "exclusive-airplane",
   "metadata": {},
   "outputs": [
    {
     "name": "stdout",
     "output_type": "stream",
     "text": [
      "Name: John\n",
      "Lastname: Doe\n",
      "Age: 24\n",
      "Language: Python\n"
     ]
    }
   ],
   "source": [
    "student_data()"
   ]
  },
  {
   "cell_type": "markdown",
   "id": "essential-editor",
   "metadata": {},
   "source": [
    "**Execution Flow**\n",
    "* Python Interpreter runs the code from the first line\n",
    "* And moves down\n",
    "* If it encounters a function call\n",
    "    * First it goes into that function\n",
    "    * Executes it\n",
    "    * Waits it to finish\n",
    "    * Returns back\n",
    "* Moves down"
   ]
  },
  {
   "cell_type": "markdown",
   "id": "southeast-harbor",
   "metadata": {},
   "source": [
    "### Parameters (Arguments)"
   ]
  },
  {
   "cell_type": "markdown",
   "id": "introductory-equilibrium",
   "metadata": {},
   "source": [
    "**Parameters** are inputs you provide to the function."
   ]
  },
  {
   "cell_type": "markdown",
   "id": "understanding-cable",
   "metadata": {},
   "source": [
    "You pass the parameters during function call."
   ]
  },
  {
   "cell_type": "code",
   "execution_count": 27,
   "id": "arranged-clear",
   "metadata": {},
   "outputs": [],
   "source": [
    "# define a function which takes a parameter\n",
    "\n",
    "def print_square(number):\n",
    "    \n",
    "    # get the square\n",
    "    sqr = number**2\n",
    "    \n",
    "    # print sqr\n",
    "    print(sqr)"
   ]
  },
  {
   "cell_type": "code",
   "execution_count": 51,
   "id": "mechanical-distance",
   "metadata": {},
   "outputs": [
    {
     "ename": "TypeError",
     "evalue": "print_square() missing 1 required positional argument: 'number'",
     "output_type": "error",
     "traceback": [
      "\u001b[1;31m---------------------------------------------------------------------------\u001b[0m",
      "\u001b[1;31mTypeError\u001b[0m                                 Traceback (most recent call last)",
      "Input \u001b[1;32mIn [51]\u001b[0m, in \u001b[0;36m<cell line: 2>\u001b[1;34m()\u001b[0m\n\u001b[0;32m      1\u001b[0m \u001b[38;5;66;03m# call it without an argument\u001b[39;00m\n\u001b[1;32m----> 2\u001b[0m \u001b[43mprint_square\u001b[49m\u001b[43m(\u001b[49m\u001b[43m)\u001b[49m\n",
      "\u001b[1;31mTypeError\u001b[0m: print_square() missing 1 required positional argument: 'number'"
     ]
    }
   ],
   "source": [
    "# call it without an argument\n",
    "print_square()                      ### error will raise"
   ]
  },
  {
   "cell_type": "code",
   "execution_count": 52,
   "id": "alert-eligibility",
   "metadata": {},
   "outputs": [
    {
     "name": "stdout",
     "output_type": "stream",
     "text": [
      "36\n"
     ]
    }
   ],
   "source": [
    "print_square(6)"
   ]
  },
  {
   "cell_type": "code",
   "execution_count": 53,
   "id": "lesbian-finder",
   "metadata": {},
   "outputs": [
    {
     "name": "stdout",
     "output_type": "stream",
     "text": [
      "64\n"
     ]
    }
   ],
   "source": [
    "print_square(8)"
   ]
  },
  {
   "cell_type": "code",
   "execution_count": 54,
   "id": "accompanied-loading",
   "metadata": {},
   "outputs": [
    {
     "name": "stdout",
     "output_type": "stream",
     "text": [
      "9\n"
     ]
    }
   ],
   "source": [
    "print_square(3)"
   ]
  },
  {
   "cell_type": "code",
   "execution_count": 7,
   "id": "4dcbd646",
   "metadata": {},
   "outputs": [
    {
     "data": {
      "text/plain": [
       "'C:\\\\Users\\\\ELCOT\\\\Downloads'"
      ]
     },
     "execution_count": 7,
     "metadata": {},
     "output_type": "execute_result"
    }
   ],
   "source": [
    "import os\n",
    "os.getcwd()"
   ]
  },
  {
   "cell_type": "code",
   "execution_count": 8,
   "id": "5eb4aea0",
   "metadata": {},
   "outputs": [],
   "source": [
    "def add(a,b):\n",
    "    return a+b\n",
    "def sub(a,b):\n",
    "    return a-b\n",
    "def square(a):\n",
    "    return(a**2)\n"
   ]
  },
  {
   "cell_type": "code",
   "execution_count": 27,
   "id": "9893520e",
   "metadata": {},
   "outputs": [],
   "source": [
    "import demo\n"
   ]
  },
  {
   "cell_type": "code",
   "execution_count": 28,
   "id": "d7a406b3",
   "metadata": {},
   "outputs": [
    {
     "data": {
      "text/plain": [
       "25"
      ]
     },
     "execution_count": 28,
     "metadata": {},
     "output_type": "execute_result"
    }
   ],
   "source": [
    "demo.add(12,13)"
   ]
  },
  {
   "cell_type": "code",
   "execution_count": 29,
   "id": "514f11d7",
   "metadata": {},
   "outputs": [
    {
     "data": {
      "text/plain": [
       "-3"
      ]
     },
     "execution_count": 29,
     "metadata": {},
     "output_type": "execute_result"
    }
   ],
   "source": [
    "demo.sub(12,15)"
   ]
  },
  {
   "cell_type": "code",
   "execution_count": 30,
   "id": "25a42ece",
   "metadata": {},
   "outputs": [
    {
     "data": {
      "text/plain": [
       "['__builtins__',\n",
       " '__cached__',\n",
       " '__doc__',\n",
       " '__file__',\n",
       " '__loader__',\n",
       " '__name__',\n",
       " '__package__',\n",
       " '__spec__',\n",
       " 'add',\n",
       " 'square',\n",
       " 'sub']"
      ]
     },
     "execution_count": 30,
     "metadata": {},
     "output_type": "execute_result"
    }
   ],
   "source": [
    "dir(demo)"
   ]
  },
  {
   "cell_type": "code",
   "execution_count": 31,
   "id": "8a38af45",
   "metadata": {},
   "outputs": [],
   "source": [
    "from demo import square\n"
   ]
  },
  {
   "cell_type": "code",
   "execution_count": 15,
   "id": "70a53edd",
   "metadata": {},
   "outputs": [
    {
     "data": {
      "text/plain": [
       "256"
      ]
     },
     "execution_count": 15,
     "metadata": {},
     "output_type": "execute_result"
    }
   ],
   "source": [
    "square(16)"
   ]
  },
  {
   "cell_type": "code",
   "execution_count": 17,
   "id": "db2ad942",
   "metadata": {},
   "outputs": [
    {
     "data": {
      "text/plain": [
       "46"
      ]
     },
     "execution_count": 17,
     "metadata": {},
     "output_type": "execute_result"
    }
   ],
   "source": [
    "add(12,34)"
   ]
  },
  {
   "cell_type": "code",
   "execution_count": 18,
   "id": "7b200300",
   "metadata": {},
   "outputs": [],
   "source": [
    "from demo import *"
   ]
  },
  {
   "cell_type": "code",
   "execution_count": 32,
   "id": "concrete-hobby",
   "metadata": {},
   "outputs": [],
   "source": [
    "# Example:\n",
    "\n",
    "# Define a function that takes 2 parameters\n",
    "# Parameters: short, long\n",
    "# Function will print the area of the rectangle\n",
    "\n",
    "def area_of_rectangle(short, long):\n",
    "    \n",
    "    # area -> assign to a variable\n",
    "    area = short * long\n",
    "    \n",
    "    # print the area\n",
    "    print(area)"
   ]
  },
  {
   "cell_type": "code",
   "execution_count": 33,
   "id": "expressed-communist",
   "metadata": {},
   "outputs": [
    {
     "name": "stdout",
     "output_type": "stream",
     "text": [
      "24\n"
     ]
    }
   ],
   "source": [
    "# call with two parameters\n",
    "area_of_rectangle(4, 6)"
   ]
  },
  {
   "cell_type": "code",
   "execution_count": 34,
   "id": "combined-fields",
   "metadata": {},
   "outputs": [
    {
     "name": "stdout",
     "output_type": "stream",
     "text": [
      "24\n"
     ]
    }
   ],
   "source": [
    "# define two variables first\n",
    "s = 4\n",
    "u = 6\n",
    "\n",
    "# pass the variables into to the function\n",
    "area_of_rectangle(s, u)"
   ]
  },
  {
   "cell_type": "code",
   "execution_count": 35,
   "id": "a2f2ae14",
   "metadata": {},
   "outputs": [
    {
     "name": "stdout",
     "output_type": "stream",
     "text": [
      "Enter the String:Naveena\n",
      "Naveena\n",
      "<class 'str'>\n"
     ]
    }
   ],
   "source": [
    "string = input(\"Enter the String:\")\n",
    "print(string)\n",
    "print(type(string))"
   ]
  },
  {
   "cell_type": "code",
   "execution_count": 60,
   "id": "5ff7e467",
   "metadata": {},
   "outputs": [
    {
     "name": "stdout",
     "output_type": "stream",
     "text": [
      "Enter the Number23\n",
      "24.0\n"
     ]
    }
   ],
   "source": [
    "num = float(input(\"Enter the Number\"))\n",
    "print(num + 1)"
   ]
  },
  {
   "cell_type": "code",
   "execution_count": 43,
   "id": "empty-lightweight",
   "metadata": {},
   "outputs": [],
   "source": [
    "# Example:\n",
    "\n",
    "# Let's make student_data function as parametric\n",
    "\n",
    "# first name\n",
    "def student_firstname(first):\n",
    "    print(\"Name: \" + first)\n",
    "    \n",
    "# last name\n",
    "def student_lastname(last):\n",
    "    print(\"Lastname: \" + last)\n",
    "\n",
    "# age\n",
    "def student_age(age):\n",
    "    print(\"Age: \" + str(age))\n",
    "    \n",
    "# language\n",
    "def student_language(lang):\n",
    "    print('Language: ' + lang)\n",
    "    \n",
    "def student_data(firstname,lastname,age,language):\n",
    "    student_firstname(firstname)\n",
    "    student_lastname(lastname)\n",
    "    student_age(age)\n",
    "    student_language(language) "
   ]
  },
  {
   "cell_type": "code",
   "execution_count": 44,
   "id": "accepting-circulation",
   "metadata": {},
   "outputs": [
    {
     "name": "stdout",
     "output_type": "stream",
     "text": [
      "Name: Klark\n",
      "Lastname: Kent\n",
      "Age: 28\n",
      "Language: Python\n"
     ]
    }
   ],
   "source": [
    "# define variables to pass as arguments\n",
    "first = 'Klark'\n",
    "last = 'Kent'\n",
    "age = '28'\n",
    "lang = 'Python'\n",
    "\n",
    "# call the function\n",
    "student_data(first, last, age, lang)"
   ]
  },
  {
   "cell_type": "code",
   "execution_count": 64,
   "id": "absent-income",
   "metadata": {},
   "outputs": [
    {
     "name": "stdout",
     "output_type": "stream",
     "text": [
      "Name: Peter\n",
      "Lastname: Parker\n",
      "Age: 22\n",
      "Language: JavaScript\n"
     ]
    }
   ],
   "source": [
    "first = 'Peter'\n",
    "last = 'Parker'\n",
    "age = 22\n",
    "lang = 'JavaScript'\n",
    "\n",
    "student_data(first, last, age, lang)"
   ]
  },
  {
   "cell_type": "markdown",
   "id": "greek-implementation",
   "metadata": {},
   "source": [
    "## Scope"
   ]
  },
  {
   "cell_type": "markdown",
   "id": "selected-valuation",
   "metadata": {},
   "source": [
    "**Scope** is the region where the variables exist."
   ]
  },
  {
   "cell_type": "markdown",
   "id": "orange-plumbing",
   "metadata": {},
   "source": [
    "Scope is determined by **indentation** in Python."
   ]
  },
  {
   "cell_type": "code",
   "execution_count": 65,
   "id": "cb96efcc",
   "metadata": {},
   "outputs": [],
   "source": [
    "def scope():\n",
    "    a = 14\n",
    "    return a+2\n"
   ]
  },
  {
   "cell_type": "code",
   "execution_count": 66,
   "id": "522b577f",
   "metadata": {},
   "outputs": [
    {
     "ename": "NameError",
     "evalue": "name 'a' is not defined",
     "output_type": "error",
     "traceback": [
      "\u001b[1;31m---------------------------------------------------------------------------\u001b[0m",
      "\u001b[1;31mNameError\u001b[0m                                 Traceback (most recent call last)",
      "Input \u001b[1;32mIn [66]\u001b[0m, in \u001b[0;36m<cell line: 1>\u001b[1;34m()\u001b[0m\n\u001b[1;32m----> 1\u001b[0m \u001b[43ma\u001b[49m\n",
      "\u001b[1;31mNameError\u001b[0m: name 'a' is not defined"
     ]
    }
   ],
   "source": [
    "a"
   ]
  },
  {
   "cell_type": "code",
   "execution_count": 67,
   "id": "7b4d500d",
   "metadata": {},
   "outputs": [
    {
     "data": {
      "text/plain": [
       "16"
      ]
     },
     "execution_count": 67,
     "metadata": {},
     "output_type": "execute_result"
    }
   ],
   "source": [
    "scope()"
   ]
  },
  {
   "cell_type": "code",
   "execution_count": 68,
   "id": "initial-radio",
   "metadata": {},
   "outputs": [],
   "source": [
    "# -------- not function scope --------\n",
    "\n",
    "def scope_fn():\n",
    "\n",
    "    scope_var = 100\n",
    "    print(scope_var)\n",
    "    \n",
    "    s2 = scope_var * 2\n",
    "    print(s2)\n",
    "    "
   ]
  },
  {
   "cell_type": "code",
   "execution_count": 69,
   "id": "narrow-coupon",
   "metadata": {},
   "outputs": [
    {
     "name": "stdout",
     "output_type": "stream",
     "text": [
      "100\n",
      "200\n"
     ]
    }
   ],
   "source": [
    "# call the function\n",
    "scope_fn()"
   ]
  },
  {
   "cell_type": "code",
   "execution_count": 70,
   "id": "sapphire-solution",
   "metadata": {},
   "outputs": [
    {
     "ename": "NameError",
     "evalue": "name 'scope_var' is not defined",
     "output_type": "error",
     "traceback": [
      "\u001b[1;31m---------------------------------------------------------------------------\u001b[0m",
      "\u001b[1;31mNameError\u001b[0m                                 Traceback (most recent call last)",
      "Input \u001b[1;32mIn [70]\u001b[0m, in \u001b[0;36m<cell line: 3>\u001b[1;34m()\u001b[0m\n\u001b[0;32m      1\u001b[0m \u001b[38;5;66;03m# reach the variable inside the function\u001b[39;00m\n\u001b[0;32m      2\u001b[0m \u001b[38;5;66;03m# try to print scope_var\u001b[39;00m\n\u001b[1;32m----> 3\u001b[0m \u001b[38;5;28mprint\u001b[39m(\u001b[43mscope_var\u001b[49m)\n",
      "\u001b[1;31mNameError\u001b[0m: name 'scope_var' is not defined"
     ]
    }
   ],
   "source": [
    "# reach the variable inside the function leads to error\n",
    "# try to print scope_var  ###error\n",
    "print(scope_var)"
   ]
  },
  {
   "cell_type": "code",
   "execution_count": 48,
   "id": "northern-arabic",
   "metadata": {},
   "outputs": [],
   "source": [
    "# global scope\n",
    "short = 40\n",
    "long = 60"
   ]
  },
  {
   "cell_type": "code",
   "execution_count": 49,
   "id": "spectacular-center",
   "metadata": {},
   "outputs": [
    {
     "name": "stdout",
     "output_type": "stream",
     "text": [
      "40\n"
     ]
    }
   ],
   "source": [
    "# call the variable in global scope\n",
    "print(short)"
   ]
  },
  {
   "cell_type": "code",
   "execution_count": 50,
   "id": "classified-church",
   "metadata": {},
   "outputs": [],
   "source": [
    "# define a function to use global scope variables\n",
    "\n",
    "def perimeter():\n",
    "    # reached the global scope\n",
    "    area_of_rect = short * long\n",
    "    print(area_of_rect)"
   ]
  },
  {
   "cell_type": "code",
   "execution_count": 51,
   "id": "danish-claim",
   "metadata": {},
   "outputs": [
    {
     "name": "stdout",
     "output_type": "stream",
     "text": [
      "2400\n"
     ]
    }
   ],
   "source": [
    "perimeter()"
   ]
  },
  {
   "cell_type": "code",
   "execution_count": 52,
   "id": "impressed-rider",
   "metadata": {},
   "outputs": [],
   "source": [
    "# try to change the global variables\n",
    "\n",
    "def change_globals():\n",
    "    short = 50\n",
    "    print(short)"
   ]
  },
  {
   "cell_type": "code",
   "execution_count": 53,
   "id": "optimum-payment",
   "metadata": {},
   "outputs": [
    {
     "name": "stdout",
     "output_type": "stream",
     "text": [
      "50\n"
     ]
    }
   ],
   "source": [
    "change_globals()"
   ]
  },
  {
   "cell_type": "code",
   "execution_count": 54,
   "id": "facial-border",
   "metadata": {},
   "outputs": [
    {
     "data": {
      "text/plain": [
       "40"
      ]
     },
     "execution_count": 54,
     "metadata": {},
     "output_type": "execute_result"
    }
   ],
   "source": [
    "# print global short variable again\n",
    "short"
   ]
  },
  {
   "cell_type": "markdown",
   "id": "spread-blast",
   "metadata": {},
   "source": [
    "If you want to change a global variable -> `global` keyword."
   ]
  },
  {
   "cell_type": "code",
   "execution_count": 55,
   "id": "c461b077",
   "metadata": {},
   "outputs": [],
   "source": [
    "c = 12\n",
    "def global_var():\n",
    "    global c\n",
    "    num = c**2\n",
    "    return num"
   ]
  },
  {
   "cell_type": "code",
   "execution_count": 56,
   "id": "9e67ceb7",
   "metadata": {},
   "outputs": [
    {
     "data": {
      "text/plain": [
       "144"
      ]
     },
     "execution_count": 56,
     "metadata": {},
     "output_type": "execute_result"
    }
   ],
   "source": [
    "global_var()"
   ]
  },
  {
   "cell_type": "code",
   "execution_count": 57,
   "id": "gorgeous-genome",
   "metadata": {},
   "outputs": [],
   "source": [
    "# try to change the global variables -> global keyword\n",
    "\n",
    "def change_globals():\n",
    "    global short\n",
    "    short = 5000\n",
    "    print(short)"
   ]
  },
  {
   "cell_type": "code",
   "execution_count": 58,
   "id": "american-recorder",
   "metadata": {},
   "outputs": [
    {
     "name": "stdout",
     "output_type": "stream",
     "text": [
      "5000\n"
     ]
    }
   ],
   "source": [
    "change_globals()"
   ]
  },
  {
   "cell_type": "code",
   "execution_count": 85,
   "id": "bd22b3bb",
   "metadata": {},
   "outputs": [
    {
     "data": {
      "text/plain": [
       "5000"
      ]
     },
     "execution_count": 85,
     "metadata": {},
     "output_type": "execute_result"
    }
   ],
   "source": [
    "short"
   ]
  },
  {
   "cell_type": "code",
   "execution_count": 86,
   "id": "stylish-startup",
   "metadata": {},
   "outputs": [
    {
     "name": "stdout",
     "output_type": "stream",
     "text": [
      "5000\n"
     ]
    }
   ],
   "source": [
    "# print global short variable again\n",
    "print(short)"
   ]
  },
  {
   "cell_type": "markdown",
   "id": "constitutional-franchise",
   "metadata": {},
   "source": [
    "## Return"
   ]
  },
  {
   "cell_type": "markdown",
   "id": "honest-president",
   "metadata": {},
   "source": [
    "A function can return a value -> return"
   ]
  },
  {
   "cell_type": "code",
   "execution_count": 59,
   "id": "otherwise-olive",
   "metadata": {},
   "outputs": [],
   "source": [
    "# define a fn to return a value\n",
    "\n",
    "def cube(n):\n",
    "    \n",
    "    # calculate the cube\n",
    "    n_cube = n**3\n",
    "    \n",
    "    # return this n_cube\n",
    "    return n_cube"
   ]
  },
  {
   "cell_type": "code",
   "execution_count": 60,
   "id": "uniform-luxury",
   "metadata": {},
   "outputs": [
    {
     "name": "stdout",
     "output_type": "stream",
     "text": [
      "125\n"
     ]
    }
   ],
   "source": [
    "# call the function and get the returned value\n",
    "\n",
    "num = 5\n",
    "\n",
    "cube_of_num = cube(num)\n",
    "\n",
    "print(cube_of_num)"
   ]
  },
  {
   "cell_type": "code",
   "execution_count": 62,
   "id": "twelve-cylinder",
   "metadata": {},
   "outputs": [
    {
     "data": {
      "text/plain": [
       "125"
      ]
     },
     "execution_count": 62,
     "metadata": {},
     "output_type": "execute_result"
    }
   ],
   "source": [
    "# call the function again\n",
    "n = 5\n",
    "\n",
    "cube(n)\n"
   ]
  },
  {
   "cell_type": "code",
   "execution_count": 63,
   "id": "voluntary-philip",
   "metadata": {},
   "outputs": [
    {
     "name": "stdout",
     "output_type": "stream",
     "text": [
      "27\n"
     ]
    }
   ],
   "source": [
    "# chain the functions\n",
    "print(cube(3))"
   ]
  },
  {
   "cell_type": "code",
   "execution_count": 67,
   "id": "bb0507d4",
   "metadata": {},
   "outputs": [
    {
     "name": "stdout",
     "output_type": "stream",
     "text": [
      "Help on int object:\n",
      "\n",
      "class int(object)\n",
      " |  int([x]) -> integer\n",
      " |  int(x, base=10) -> integer\n",
      " |  \n",
      " |  Convert a number or string to an integer, or return 0 if no arguments\n",
      " |  are given.  If x is a number, return x.__int__().  For floating point\n",
      " |  numbers, this truncates towards zero.\n",
      " |  \n",
      " |  If x is not a number or if base is given, then x must be a string,\n",
      " |  bytes, or bytearray instance representing an integer literal in the\n",
      " |  given base.  The literal can be preceded by '+' or '-' and be surrounded\n",
      " |  by whitespace.  The base defaults to 10.  Valid bases are 0 and 2-36.\n",
      " |  Base 0 means to interpret the base from the string as an integer literal.\n",
      " |  >>> int('0b100', base=0)\n",
      " |  4\n",
      " |  \n",
      " |  Built-in subclasses:\n",
      " |      bool\n",
      " |  \n",
      " |  Methods defined here:\n",
      " |  \n",
      " |  __abs__(self, /)\n",
      " |      abs(self)\n",
      " |  \n",
      " |  __add__(self, value, /)\n",
      " |      Return self+value.\n",
      " |  \n",
      " |  __and__(self, value, /)\n",
      " |      Return self&value.\n",
      " |  \n",
      " |  __bool__(self, /)\n",
      " |      True if self else False\n",
      " |  \n",
      " |  __ceil__(...)\n",
      " |      Ceiling of an Integral returns itself.\n",
      " |  \n",
      " |  __divmod__(self, value, /)\n",
      " |      Return divmod(self, value).\n",
      " |  \n",
      " |  __eq__(self, value, /)\n",
      " |      Return self==value.\n",
      " |  \n",
      " |  __float__(self, /)\n",
      " |      float(self)\n",
      " |  \n",
      " |  __floor__(...)\n",
      " |      Flooring an Integral returns itself.\n",
      " |  \n",
      " |  __floordiv__(self, value, /)\n",
      " |      Return self//value.\n",
      " |  \n",
      " |  __format__(self, format_spec, /)\n",
      " |      Default object formatter.\n",
      " |  \n",
      " |  __ge__(self, value, /)\n",
      " |      Return self>=value.\n",
      " |  \n",
      " |  __getattribute__(self, name, /)\n",
      " |      Return getattr(self, name).\n",
      " |  \n",
      " |  __getnewargs__(self, /)\n",
      " |  \n",
      " |  __gt__(self, value, /)\n",
      " |      Return self>value.\n",
      " |  \n",
      " |  __hash__(self, /)\n",
      " |      Return hash(self).\n",
      " |  \n",
      " |  __index__(self, /)\n",
      " |      Return self converted to an integer, if self is suitable for use as an index into a list.\n",
      " |  \n",
      " |  __int__(self, /)\n",
      " |      int(self)\n",
      " |  \n",
      " |  __invert__(self, /)\n",
      " |      ~self\n",
      " |  \n",
      " |  __le__(self, value, /)\n",
      " |      Return self<=value.\n",
      " |  \n",
      " |  __lshift__(self, value, /)\n",
      " |      Return self<<value.\n",
      " |  \n",
      " |  __lt__(self, value, /)\n",
      " |      Return self<value.\n",
      " |  \n",
      " |  __mod__(self, value, /)\n",
      " |      Return self%value.\n",
      " |  \n",
      " |  __mul__(self, value, /)\n",
      " |      Return self*value.\n",
      " |  \n",
      " |  __ne__(self, value, /)\n",
      " |      Return self!=value.\n",
      " |  \n",
      " |  __neg__(self, /)\n",
      " |      -self\n",
      " |  \n",
      " |  __or__(self, value, /)\n",
      " |      Return self|value.\n",
      " |  \n",
      " |  __pos__(self, /)\n",
      " |      +self\n",
      " |  \n",
      " |  __pow__(self, value, mod=None, /)\n",
      " |      Return pow(self, value, mod).\n",
      " |  \n",
      " |  __radd__(self, value, /)\n",
      " |      Return value+self.\n",
      " |  \n",
      " |  __rand__(self, value, /)\n",
      " |      Return value&self.\n",
      " |  \n",
      " |  __rdivmod__(self, value, /)\n",
      " |      Return divmod(value, self).\n",
      " |  \n",
      " |  __repr__(self, /)\n",
      " |      Return repr(self).\n",
      " |  \n",
      " |  __rfloordiv__(self, value, /)\n",
      " |      Return value//self.\n",
      " |  \n",
      " |  __rlshift__(self, value, /)\n",
      " |      Return value<<self.\n",
      " |  \n",
      " |  __rmod__(self, value, /)\n",
      " |      Return value%self.\n",
      " |  \n",
      " |  __rmul__(self, value, /)\n",
      " |      Return value*self.\n",
      " |  \n",
      " |  __ror__(self, value, /)\n",
      " |      Return value|self.\n",
      " |  \n",
      " |  __round__(...)\n",
      " |      Rounding an Integral returns itself.\n",
      " |      Rounding with an ndigits argument also returns an integer.\n",
      " |  \n",
      " |  __rpow__(self, value, mod=None, /)\n",
      " |      Return pow(value, self, mod).\n",
      " |  \n",
      " |  __rrshift__(self, value, /)\n",
      " |      Return value>>self.\n",
      " |  \n",
      " |  __rshift__(self, value, /)\n",
      " |      Return self>>value.\n",
      " |  \n",
      " |  __rsub__(self, value, /)\n",
      " |      Return value-self.\n",
      " |  \n",
      " |  __rtruediv__(self, value, /)\n",
      " |      Return value/self.\n",
      " |  \n",
      " |  __rxor__(self, value, /)\n",
      " |      Return value^self.\n",
      " |  \n",
      " |  __sizeof__(self, /)\n",
      " |      Returns size in memory, in bytes.\n",
      " |  \n",
      " |  __sub__(self, value, /)\n",
      " |      Return self-value.\n",
      " |  \n",
      " |  __truediv__(self, value, /)\n",
      " |      Return self/value.\n",
      " |  \n",
      " |  __trunc__(...)\n",
      " |      Truncating an Integral returns itself.\n",
      " |  \n",
      " |  __xor__(self, value, /)\n",
      " |      Return self^value.\n",
      " |  \n",
      " |  as_integer_ratio(self, /)\n",
      " |      Return integer ratio.\n",
      " |      \n",
      " |      Return a pair of integers, whose ratio is exactly equal to the original int\n",
      " |      and with a positive denominator.\n",
      " |      \n",
      " |      >>> (10).as_integer_ratio()\n",
      " |      (10, 1)\n",
      " |      >>> (-10).as_integer_ratio()\n",
      " |      (-10, 1)\n",
      " |      >>> (0).as_integer_ratio()\n",
      " |      (0, 1)\n",
      " |  \n",
      " |  bit_length(self, /)\n",
      " |      Number of bits necessary to represent self in binary.\n",
      " |      \n",
      " |      >>> bin(37)\n",
      " |      '0b100101'\n",
      " |      >>> (37).bit_length()\n",
      " |      6\n",
      " |  \n",
      " |  conjugate(...)\n",
      " |      Returns self, the complex conjugate of any int.\n",
      " |  \n",
      " |  to_bytes(self, /, length, byteorder, *, signed=False)\n",
      " |      Return an array of bytes representing an integer.\n",
      " |      \n",
      " |      length\n",
      " |        Length of bytes object to use.  An OverflowError is raised if the\n",
      " |        integer is not representable with the given number of bytes.\n",
      " |      byteorder\n",
      " |        The byte order used to represent the integer.  If byteorder is 'big',\n",
      " |        the most significant byte is at the beginning of the byte array.  If\n",
      " |        byteorder is 'little', the most significant byte is at the end of the\n",
      " |        byte array.  To request the native byte order of the host system, use\n",
      " |        `sys.byteorder' as the byte order value.\n",
      " |      signed\n",
      " |        Determines whether two's complement is used to represent the integer.\n",
      " |        If signed is False and a negative integer is given, an OverflowError\n",
      " |        is raised.\n",
      " |  \n",
      " |  ----------------------------------------------------------------------\n",
      " |  Class methods defined here:\n",
      " |  \n",
      " |  from_bytes(bytes, byteorder, *, signed=False) from builtins.type\n",
      " |      Return the integer represented by the given array of bytes.\n",
      " |      \n",
      " |      bytes\n",
      " |        Holds the array of bytes to convert.  The argument must either\n",
      " |        support the buffer protocol or be an iterable object producing bytes.\n",
      " |        Bytes and bytearray are examples of built-in objects that support the\n",
      " |        buffer protocol.\n",
      " |      byteorder\n",
      " |        The byte order used to represent the integer.  If byteorder is 'big',\n",
      " |        the most significant byte is at the beginning of the byte array.  If\n",
      " |        byteorder is 'little', the most significant byte is at the end of the\n",
      " |        byte array.  To request the native byte order of the host system, use\n",
      " |        `sys.byteorder' as the byte order value.\n",
      " |      signed\n",
      " |        Indicates whether two's complement is used to represent the integer.\n",
      " |  \n",
      " |  ----------------------------------------------------------------------\n",
      " |  Static methods defined here:\n",
      " |  \n",
      " |  __new__(*args, **kwargs) from builtins.type\n",
      " |      Create and return a new object.  See help(type) for accurate signature.\n",
      " |  \n",
      " |  ----------------------------------------------------------------------\n",
      " |  Data descriptors defined here:\n",
      " |  \n",
      " |  denominator\n",
      " |      the denominator of a rational number in lowest terms\n",
      " |  \n",
      " |  imag\n",
      " |      the imaginary part of a complex number\n",
      " |  \n",
      " |  numerator\n",
      " |      the numerator of a rational number in lowest terms\n",
      " |  \n",
      " |  real\n",
      " |      the real part of a complex number\n",
      "\n"
     ]
    }
   ],
   "source": [
    "help(cube(n))"
   ]
  },
  {
   "cell_type": "code",
   "execution_count": 71,
   "id": "4dc8921b",
   "metadata": {},
   "outputs": [],
   "source": [
    "cube?"
   ]
  },
  {
   "cell_type": "markdown",
   "id": "modular-parameter",
   "metadata": {},
   "source": [
    "Functions which do not return a value -> **void**"
   ]
  },
  {
   "cell_type": "markdown",
   "id": "addressed-insert",
   "metadata": {},
   "source": [
    "## Doctring - Function Documentation"
   ]
  },
  {
   "cell_type": "markdown",
   "id": "imperial-system",
   "metadata": {},
   "source": [
    "Python docstrings are the string literals that appear right after the definition of a function. It tells about the purpose of the function, input and output parameters and any special note about the function. "
   ]
  },
  {
   "cell_type": "code",
   "execution_count": 73,
   "id": "heard-grain",
   "metadata": {},
   "outputs": [],
   "source": [
    "# define a function with docstring\n",
    "\n",
    "import math\n",
    "\n",
    "def get_power(num, p):\n",
    "    \"\"\"\n",
    "        Calculates the power of number.\n",
    "        Parameters: int num, p\n",
    "        Returns: the give power of the number\n",
    "    \"\"\"\n",
    "    \n",
    "    # calculate the power\n",
    "    power = math.pow(num, p)\n",
    "    \n",
    "    # return the power\n",
    "    return power"
   ]
  },
  {
   "cell_type": "code",
   "execution_count": 74,
   "id": "adjustable-surge",
   "metadata": {},
   "outputs": [
    {
     "name": "stdout",
     "output_type": "stream",
     "text": [
      "Help on function get_power in module __main__:\n",
      "\n",
      "get_power(num, p)\n",
      "    Calculates the power of number.\n",
      "    Parameters: int num, p\n",
      "    Returns: the give power of the number\n",
      "\n"
     ]
    }
   ],
   "source": [
    "# get help for this function\n",
    "# help()\n",
    "\n",
    "help(get_power)"
   ]
  },
  {
   "cell_type": "code",
   "execution_count": 75,
   "id": "indie-research",
   "metadata": {},
   "outputs": [],
   "source": [
    "# detail help\n",
    "# ?\n",
    "\n",
    "get_power?"
   ]
  },
  {
   "cell_type": "markdown",
   "id": "fossil-investigation",
   "metadata": {},
   "source": [
    "**Signiture:** Signature is how we call the function."
   ]
  },
  {
   "cell_type": "code",
   "execution_count": 76,
   "id": "psychological-collar",
   "metadata": {},
   "outputs": [],
   "source": [
    "# most detailed help\n",
    "# ??\n",
    "\n",
    "get_power??"
   ]
  },
  {
   "cell_type": "markdown",
   "id": "beneficial-tulsa",
   "metadata": {},
   "source": [
    "**Built-in Methods and Attributes**"
   ]
  },
  {
   "cell_type": "markdown",
   "id": "governing-concrete",
   "metadata": {},
   "source": [
    "In Python, objects have built-in methods and attributes.\n",
    "\n",
    "We can get them with shortcuts."
   ]
  },
  {
   "cell_type": "code",
   "execution_count": 77,
   "id": "established-cameroon",
   "metadata": {},
   "outputs": [
    {
     "data": {
      "text/plain": [
       "'\\n        Calculates the power of number.\\n        Parameters: int num, p\\n        Returns: the give power of the number\\n    '"
      ]
     },
     "execution_count": 77,
     "metadata": {},
     "output_type": "execute_result"
    }
   ],
   "source": [
    "# Docstring -> .__doc__\n",
    "get_power.__doc__"
   ]
  },
  {
   "cell_type": "code",
   "execution_count": 78,
   "id": "educational-bankruptcy",
   "metadata": {},
   "outputs": [
    {
     "name": "stdout",
     "output_type": "stream",
     "text": [
      "\n",
      "        Calculates the power of number.\n",
      "        Parameters: int num, p\n",
      "        Returns: the give power of the number\n",
      "    \n"
     ]
    }
   ],
   "source": [
    "print(get_power.__doc__)"
   ]
  },
  {
   "cell_type": "markdown",
   "id": "familiar-delaware",
   "metadata": {},
   "source": [
    "**dunder** -> double underscores"
   ]
  },
  {
   "cell_type": "code",
   "execution_count": 79,
   "id": "emotional-welsh",
   "metadata": {},
   "outputs": [
    {
     "data": {
      "text/plain": [
       "'__main__'"
      ]
     },
     "execution_count": 79,
     "metadata": {},
     "output_type": "execute_result"
    }
   ],
   "source": [
    "# module\n",
    "\n",
    "# .__<TAB>\n",
    "get_power.__module__"
   ]
  },
  {
   "cell_type": "code",
   "execution_count": 97,
   "id": "specified-hazard",
   "metadata": {},
   "outputs": [
    {
     "data": {
      "text/plain": [
       "'get_power'"
      ]
     },
     "execution_count": 97,
     "metadata": {},
     "output_type": "execute_result"
    }
   ],
   "source": [
    "# name\n",
    "\n",
    "get_power.__name__"
   ]
  },
  {
   "cell_type": "markdown",
   "id": "announced-marketing",
   "metadata": {},
   "source": [
    "**How to get input from the user in JupyterLab?**"
   ]
  },
  {
   "cell_type": "code",
   "execution_count": 98,
   "id": "coral-tooth",
   "metadata": {},
   "outputs": [
    {
     "name": "stdout",
     "output_type": "stream",
     "text": [
      "Please enter your name:4\n"
     ]
    },
    {
     "data": {
      "text/plain": [
       "4"
      ]
     },
     "execution_count": 98,
     "metadata": {},
     "output_type": "execute_result"
    }
   ],
   "source": [
    "# ask for the user name\n",
    "\n",
    "int(input(\"Please enter your name:\"))"
   ]
  },
  {
   "cell_type": "code",
   "execution_count": 100,
   "id": "pleasant-payment",
   "metadata": {},
   "outputs": [
    {
     "name": "stdout",
     "output_type": "stream",
     "text": [
      "Please enter your name:navee\n",
      "The user name is: navee\n"
     ]
    }
   ],
   "source": [
    "# ask for the user name and assign to variable\n",
    "\n",
    "user_name = input(\"Please enter your name:\")\n",
    "print(\"The user name is: \" + user_name)"
   ]
  },
  {
   "cell_type": "code",
   "execution_count": 84,
   "id": "ae570732",
   "metadata": {},
   "outputs": [
    {
     "name": "stdout",
     "output_type": "stream",
     "text": [
      "(['Karthik', 'Vignesh', 'Durga', 'preethi', 23, 23456],)\n"
     ]
    }
   ],
   "source": [
    "## non arbitary functions:\n",
    "def fun(*list1):\n",
    "    print(list1)\n",
    "fun(list1)"
   ]
  },
  {
   "cell_type": "code",
   "execution_count": 82,
   "id": "a9ece621",
   "metadata": {},
   "outputs": [
    {
     "name": "stdout",
     "output_type": "stream",
     "text": [
      "<class 'list'>\n"
     ]
    }
   ],
   "source": [
    "list1 = [\"Karthik\",\"Vignesh\",\"Durga\",\"preethi\",23,23456]\n",
    "print(type(list1))"
   ]
  },
  {
   "cell_type": "code",
   "execution_count": 105,
   "id": "605bcac5",
   "metadata": {},
   "outputs": [
    {
     "name": "stdout",
     "output_type": "stream",
     "text": [
      "Karthik\n",
      "<class 'str'>\n",
      "Vignesh\n",
      "<class 'str'>\n",
      "Durga\n",
      "<class 'str'>\n",
      "preethi\n",
      "<class 'str'>\n",
      "23\n",
      "<class 'int'>\n",
      "23456\n",
      "<class 'int'>\n"
     ]
    }
   ],
   "source": [
    "for i in list1:\n",
    "    print(i)\n",
    "    print(type(i))"
   ]
  },
  {
   "cell_type": "code",
   "execution_count": 89,
   "id": "0f27f624",
   "metadata": {},
   "outputs": [],
   "source": [
    "def fun(**kwargs):\n",
    "    for i,j in kwargs.items():\n",
    "        print('the key is {0} and the value is {1}'.format(i,j))"
   ]
  },
  {
   "cell_type": "code",
   "execution_count": 90,
   "id": "bdd42c05",
   "metadata": {},
   "outputs": [],
   "source": [
    "fun()"
   ]
  },
  {
   "cell_type": "code",
   "execution_count": 91,
   "id": "28f3ca58",
   "metadata": {},
   "outputs": [
    {
     "name": "stdout",
     "output_type": "stream",
     "text": [
      "the key is name and the value is Rohit\n",
      "the key is Age and the value is 27\n"
     ]
    }
   ],
   "source": [
    "fun(name = \"Rohit\",Age = 27)"
   ]
  },
  {
   "cell_type": "code",
   "execution_count": 92,
   "id": "a54217a6",
   "metadata": {},
   "outputs": [
    {
     "name": "stdout",
     "output_type": "stream",
     "text": [
      "the key is name and the value is Karthik\n",
      "the key is Age and the value is 23\n",
      "the key is Status and the value is Single\n"
     ]
    }
   ],
   "source": [
    "fun(name = \"Karthik\",Age = 23, Status = \"Single\")"
   ]
  },
  {
   "cell_type": "code",
   "execution_count": 93,
   "id": "e66e20c7",
   "metadata": {},
   "outputs": [
    {
     "name": "stdout",
     "output_type": "stream",
     "text": [
      "name: John\n",
      "age: 30\n",
      "city: New York\n"
     ]
    }
   ],
   "source": [
    " def display_info(**kwargs):\n",
    "    for key, value in kwargs.items():\n",
    "        print(f\"{key}: {value}\")\n",
    "\n",
    "display_info(name=\"John\", age=30, city=\"New York\")"
   ]
  },
  {
   "cell_type": "code",
   "execution_count": 94,
   "id": "2881a51c",
   "metadata": {},
   "outputs": [],
   "source": [
    "def say_things(name, **things):\n",
    "    print(f\"{name} has...\")\n",
    "    for name, count in things.items():\n",
    "        print(f\" {count} {name}\")\n",
    "        print(\"That's all!\")"
   ]
  },
  {
   "cell_type": "code",
   "execution_count": 95,
   "id": "387264fa",
   "metadata": {},
   "outputs": [
    {
     "name": "stdout",
     "output_type": "stream",
     "text": [
      "Trey has...\n",
      " 2 ducks\n",
      "That's all!\n"
     ]
    }
   ],
   "source": [
    "say_things(\"Trey\", ducks=2)"
   ]
  },
  {
   "cell_type": "code",
   "execution_count": 96,
   "id": "225b145c",
   "metadata": {},
   "outputs": [
    {
     "name": "stdout",
     "output_type": "stream",
     "text": [
      "Trey has...\n",
      " 2 ducks\n",
      "That's all!\n",
      " 1 cup\n",
      "That's all!\n",
      " 3 ideas\n",
      "That's all!\n"
     ]
    }
   ],
   "source": [
    "say_things(\"Trey\", ducks=2, cup=1, ideas=3)"
   ]
  },
  {
   "cell_type": "code",
   "execution_count": 97,
   "id": "4baa065f",
   "metadata": {},
   "outputs": [
    {
     "name": "stdout",
     "output_type": "stream",
     "text": [
      "Positional arguments:\n",
      "1\n",
      "2\n",
      "3\n",
      "\n",
      "Keyword arguments:\n",
      "name: Alice\n",
      "age: 25\n"
     ]
    }
   ],
   "source": [
    "def show_info(*args, **kwargs):\n",
    "    print(\"Positional arguments:\")\n",
    "    for arg in args:\n",
    "        print(arg)\n",
    "    print(\"\\nKeyword arguments:\")\n",
    "    for key, value in kwargs.items():\n",
    "        print(f\"{key}: {value}\")\n",
    "\n",
    "show_info(1, 2, 3, name=\"Alice\", age=25)"
   ]
  },
  {
   "cell_type": "code",
   "execution_count": 102,
   "id": "b64aebbb",
   "metadata": {},
   "outputs": [
    {
     "name": "stdout",
     "output_type": "stream",
     "text": [
      "hello\n"
     ]
    }
   ],
   "source": [
    "n = 27\n",
    "if n > 26:\n",
    "    pass\n",
    "    print('hello')"
   ]
  },
  {
   "cell_type": "code",
   "execution_count": 118,
   "id": "094c6b69",
   "metadata": {},
   "outputs": [],
   "source": [
    "def function(args):\n",
    "    print(\"Heyyy\")\n",
    "    pass    ## null operation that is to do nothingg"
   ]
  },
  {
   "cell_type": "code",
   "execution_count": 120,
   "id": "ba6159dd",
   "metadata": {},
   "outputs": [
    {
     "name": "stdout",
     "output_type": "stream",
     "text": [
      "Heyyy\n"
     ]
    }
   ],
   "source": [
    "function(\"asdfg\")"
   ]
  },
  {
   "cell_type": "code",
   "execution_count": 123,
   "id": "5083ba36",
   "metadata": {},
   "outputs": [
    {
     "name": "stdout",
     "output_type": "stream",
     "text": [
      "Heyyy\n"
     ]
    }
   ],
   "source": [
    "function(\"qwer\")"
   ]
  },
  {
   "cell_type": "code",
   "execution_count": 125,
   "id": "7d6e0ae5",
   "metadata": {},
   "outputs": [
    {
     "name": "stdout",
     "output_type": "stream",
     "text": [
      "2\n",
      "4\n",
      "6\n",
      "8\n",
      "10\n",
      "12\n",
      "14\n",
      "18\n",
      "20\n"
     ]
    }
   ],
   "source": [
    "for i in range(1,21):\n",
    "    if i % 2 == 0:\n",
    "        if i == 16:       ##skip printing 16\n",
    "         continue          ##skip the rest of the code\n",
    "        print(i)"
   ]
  },
  {
   "cell_type": "markdown",
   "id": "f17414d7",
   "metadata": {},
   "source": [
    "#break --> exits the loop and skips the remaining iterations"
   ]
  },
  {
   "cell_type": "code",
   "execution_count": 126,
   "id": "d5530ec2",
   "metadata": {},
   "outputs": [],
   "source": [
    "cust_age = 23"
   ]
  },
  {
   "cell_type": "code",
   "execution_count": 127,
   "id": "1c06a61c",
   "metadata": {},
   "outputs": [
    {
     "name": "stdout",
     "output_type": "stream",
     "text": [
      "Not Eligible for Discount\n"
     ]
    }
   ],
   "source": [
    "if cust_age >= 60:\n",
    "    print(\"Eligible for Discount\")\n",
    "else:\n",
    "    print(\"Not Eligible for Discount\")\n",
    "    "
   ]
  },
  {
   "cell_type": "code",
   "execution_count": 128,
   "id": "dde297e8",
   "metadata": {},
   "outputs": [
    {
     "data": {
      "text/plain": [
       "'Not Eligible for Discount'"
      ]
     },
     "execution_count": 128,
     "metadata": {},
     "output_type": "execute_result"
    }
   ],
   "source": [
    "cust_details = \"Eligible for Discount\" if cust_age >= 60 else \"Not Eligible for Discount\"\n",
    "cust_details                     ##### ternary operator"
   ]
  },
  {
   "cell_type": "code",
   "execution_count": 129,
   "id": "7a7ae550",
   "metadata": {},
   "outputs": [
    {
     "data": {
      "text/plain": [
       "'Not Eligible for Discount'"
      ]
     },
     "execution_count": 129,
     "metadata": {},
     "output_type": "execute_result"
    }
   ],
   "source": [
    "cust_age = 40   # here, we are declaring a variable to store the customer age  \n",
    "# Here, we are using the Ternary operator to check discount eligibility    \n",
    "cust_discount = \"Eligible for Discount\"  if cust_age >= 60  else \"Not Eligible for Discount\"   \n",
    "cust_discount"
   ]
  },
  {
   "cell_type": "markdown",
   "id": "a276246d",
   "metadata": {},
   "source": [
    "# enumerate()\n",
    " The enumerate() function in Python returns an iterator, and you cannot directly index or access its elements in the way you're attempting.\n",
    " - To create a list of tuples similar to what you're trying to achieve, you can use enumerate along with list()"
   ]
  },
  {
   "cell_type": "code",
   "execution_count": 130,
   "id": "d22dce11",
   "metadata": {
    "scrolled": true
   },
   "outputs": [
    {
     "name": "stdout",
     "output_type": "stream",
     "text": [
      "0 a\n",
      "1 b\n",
      "2 c\n"
     ]
    }
   ],
   "source": [
    "list(enumerate([\"a\", \"b\", \"c\"])) \n",
    "for i, c in enumerate([\"a\", \"b\", \"c\"]):\n",
    "    print (i, c)"
   ]
  },
  {
   "cell_type": "code",
   "execution_count": 131,
   "id": "09e2ab46",
   "metadata": {},
   "outputs": [
    {
     "name": "stdout",
     "output_type": "stream",
     "text": [
      "0 Rahul\n",
      "1 Raveendran\n",
      "2 Rohit\n",
      "3 Doss\n"
     ]
    }
   ],
   "source": [
    "data = (\"Rahul\",\"Raveendran\",\"Rohit\",\"Doss\")\n",
    "for i,j in enumerate(data):\n",
    "    print(i,j)"
   ]
  },
  {
   "cell_type": "markdown",
   "id": "b21eb6a3",
   "metadata": {},
   "source": [
    "# Itertools:\n",
    "The itertools module in the standard library provides lot of intersting tools to work with iterators.\n",
    "\n",
    "chain – chains multiple iterators together"
   ]
  },
  {
   "cell_type": "code",
   "execution_count": 135,
   "id": "fb09ed2c",
   "metadata": {},
   "outputs": [],
   "source": [
    "import itertools as it"
   ]
  },
  {
   "cell_type": "code",
   "execution_count": 136,
   "id": "729e0ca8",
   "metadata": {},
   "outputs": [],
   "source": [
    "from itertools import *"
   ]
  },
  {
   "cell_type": "code",
   "execution_count": 150,
   "id": "3df33564",
   "metadata": {
    "scrolled": true
   },
   "outputs": [
    {
     "data": {
      "text/plain": [
       "['__doc__',\n",
       " '__loader__',\n",
       " '__name__',\n",
       " '__package__',\n",
       " '__spec__',\n",
       " '_grouper',\n",
       " '_tee',\n",
       " '_tee_dataobject',\n",
       " 'accumulate',\n",
       " 'chain',\n",
       " 'combinations',\n",
       " 'combinations_with_replacement',\n",
       " 'compress',\n",
       " 'count',\n",
       " 'cycle',\n",
       " 'dropwhile',\n",
       " 'filterfalse',\n",
       " 'groupby',\n",
       " 'islice',\n",
       " 'permutations',\n",
       " 'product',\n",
       " 'repeat',\n",
       " 'starmap',\n",
       " 'takewhile',\n",
       " 'tee',\n",
       " 'zip_longest']"
      ]
     },
     "execution_count": 150,
     "metadata": {},
     "output_type": "execute_result"
    }
   ],
   "source": [
    "dir(it)"
   ]
  },
  {
   "cell_type": "code",
   "execution_count": 156,
   "id": "23cf2825",
   "metadata": {},
   "outputs": [
    {
     "ename": "TypeError",
     "evalue": "can only concatenate list (not \"set\") to list",
     "output_type": "error",
     "traceback": [
      "\u001b[1;31m---------------------------------------------------------------------------\u001b[0m",
      "\u001b[1;31mTypeError\u001b[0m                                 Traceback (most recent call last)",
      "Input \u001b[1;32mIn [156]\u001b[0m, in \u001b[0;36m<cell line: 1>\u001b[1;34m()\u001b[0m\n\u001b[1;32m----> 1\u001b[0m \u001b[43m[\u001b[49m\u001b[38;5;241;43m1\u001b[39;49m\u001b[43m,\u001b[49m\u001b[38;5;241;43m2\u001b[39;49m\u001b[43m,\u001b[49m\u001b[38;5;241;43m3\u001b[39;49m\u001b[43m]\u001b[49m\u001b[43m \u001b[49m\u001b[38;5;241;43m+\u001b[39;49m\u001b[43m \u001b[49m\u001b[43m{\u001b[49m\u001b[38;5;241;43m2\u001b[39;49m\u001b[43m,\u001b[49m\u001b[38;5;241;43m4\u001b[39;49m\u001b[43m,\u001b[49m\u001b[38;5;241;43m6\u001b[39;49m\u001b[43m}\u001b[49m\n",
      "\u001b[1;31mTypeError\u001b[0m: can only concatenate list (not \"set\") to list"
     ]
    }
   ],
   "source": [
    "[1,2,3] + {2,4,6}             #error.....use itertools "
   ]
  },
  {
   "cell_type": "code",
   "execution_count": 137,
   "id": "df1ec670",
   "metadata": {},
   "outputs": [
    {
     "data": {
      "text/plain": [
       "[1, 2, 3, 2, 4, 6]"
      ]
     },
     "execution_count": 137,
     "metadata": {},
     "output_type": "execute_result"
    }
   ],
   "source": [
    "[1,2,3] + [2,4,6]             #error"
   ]
  },
  {
   "cell_type": "code",
   "execution_count": 139,
   "id": "b5625338",
   "metadata": {},
   "outputs": [
    {
     "data": {
      "text/plain": [
       "[12, 3, 45, 4, 3245, 57, 12, 45]"
      ]
     },
     "execution_count": 139,
     "metadata": {},
     "output_type": "execute_result"
    }
   ],
   "source": [
    "a = [12,3,45] \n",
    "b = {12,3245,4,45,57,57}\n",
    "iter1 = it.chain(a,b)\n",
    "list(iter1)\n"
   ]
  },
  {
   "cell_type": "code",
   "execution_count": 157,
   "id": "9205213f",
   "metadata": {},
   "outputs": [
    {
     "data": {
      "text/plain": [
       "{4, 5, 6}"
      ]
     },
     "execution_count": 157,
     "metadata": {},
     "output_type": "execute_result"
    }
   ],
   "source": [
    "it2 = {4, 5, 6, 6}   ###set\n",
    "it2"
   ]
  },
  {
   "cell_type": "code",
   "execution_count": 158,
   "id": "dbc6078c",
   "metadata": {},
   "outputs": [
    {
     "data": {
      "text/plain": [
       "[1, 2, 3, 3, 4, 5, 6, 6]"
      ]
     },
     "execution_count": 158,
     "metadata": {},
     "output_type": "execute_result"
    }
   ],
   "source": [
    "it1 = [1, 2, 3,3]\n",
    "it2 = (4, 5, 6, 6)\n",
    "result = chain(it1,it2)\n",
    "list(result)"
   ]
  },
  {
   "cell_type": "markdown",
   "id": "8ff12aad",
   "metadata": {},
   "source": [
    "#### Iterating over Combinations: Use itertools.combinations() to generate all possible combinations of elements from an iterable."
   ]
  },
  {
   "cell_type": "code",
   "execution_count": 143,
   "id": "0e56ebfa",
   "metadata": {},
   "outputs": [
    {
     "name": "stdout",
     "output_type": "stream",
     "text": [
      "((1, 2, 3), (1, 2, 4), (1, 3, 4), (2, 3, 4))\n"
     ]
    }
   ],
   "source": [
    " \n",
    "# Example: Generating combinations of 2 elements from a list\n",
    "data = [1, 2, 3,4]\n",
    "combinations = it.combinations(data,3)\n",
    "print(tuple(combinations))\n"
   ]
  },
  {
   "cell_type": "markdown",
   "id": "6dd0ad96",
   "metadata": {},
   "source": [
    "#### Iterating over Permutations: itertools.permutations() produces all possible permutations of elements from an iterable."
   ]
  },
  {
   "cell_type": "code",
   "execution_count": 147,
   "id": "e734b988",
   "metadata": {},
   "outputs": [
    {
     "name": "stdout",
     "output_type": "stream",
     "text": [
      "[(1, 2), (1, 3), (2, 1), (2, 3), (3, 1), (3, 2)]\n"
     ]
    }
   ],
   "source": [
    "\n",
    "# Example: Generating permutations of 2 elements from a list\n",
    "data = [1, 2, 3]\n",
    "permutations = it. permutations(data,r = 2)\n",
    "print(list(permutations))\n"
   ]
  },
  {
   "cell_type": "markdown",
   "id": "3a0a4bb8",
   "metadata": {},
   "source": [
    "#### Iterating over Cartesian Product: itertools.product() generates the Cartesian product of input iterables."
   ]
  },
  {
   "cell_type": "code",
   "execution_count": 14,
   "id": "6321dfab",
   "metadata": {},
   "outputs": [
    {
     "name": "stdout",
     "output_type": "stream",
     "text": [
      "[(1, 1), (1, 2), (3, 1), (3, 2), (5, 1), (5, 2)]\n"
     ]
    }
   ],
   "source": [
    "import itertools\n",
    "\n",
    "# Example: Generating Cartesian product of two lists\n",
    "list1 = [1, 3,5]\n",
    "list2 = [1, 2]\n",
    "cartesian_product = itertools.product(list1, list2)\n",
    "print(list(cartesian_product))\n"
   ]
  },
  {
   "cell_type": "code",
   "execution_count": 153,
   "id": "e49e3922",
   "metadata": {},
   "outputs": [],
   "source": [
    "kwargs = dict(name=\"John\", age=30, city=\"New York\")"
   ]
  },
  {
   "cell_type": "code",
   "execution_count": 154,
   "id": "04c0f5e2",
   "metadata": {},
   "outputs": [
    {
     "ename": "TypeError",
     "evalue": "zip() takes no keyword arguments",
     "output_type": "error",
     "traceback": [
      "\u001b[1;31m---------------------------------------------------------------------------\u001b[0m",
      "\u001b[1;31mTypeError\u001b[0m                                 Traceback (most recent call last)",
      "Input \u001b[1;32mIn [154]\u001b[0m, in \u001b[0;36m<cell line: 1>\u001b[1;34m()\u001b[0m\n\u001b[1;32m----> 1\u001b[0m \u001b[38;5;28;01mfor\u001b[39;00m i,j \u001b[38;5;129;01min\u001b[39;00m \u001b[38;5;28mzip\u001b[39m(\u001b[38;5;241m*\u001b[39m\u001b[38;5;241m*\u001b[39mkwargs):\n\u001b[0;32m      2\u001b[0m         \u001b[38;5;28mprint\u001b[39m(\u001b[38;5;124mf\u001b[39m\u001b[38;5;124m\"\u001b[39m\u001b[38;5;132;01m{\u001b[39;00mi,j\u001b[38;5;132;01m}\u001b[39;00m\u001b[38;5;124m\"\u001b[39m)\n",
      "\u001b[1;31mTypeError\u001b[0m: zip() takes no keyword arguments"
     ]
    }
   ],
   "source": [
    "for i,j in zip(**kwargs):\n",
    "        print(f\"{i,j}\")"
   ]
  },
  {
   "cell_type": "code",
   "execution_count": 156,
   "id": "cd12331f",
   "metadata": {},
   "outputs": [
    {
     "name": "stdout",
     "output_type": "stream",
     "text": [
      "Name john\n",
      "age 20\n",
      "city New York\n"
     ]
    }
   ],
   "source": [
    "for x,y in zip([\"Name\",\"age\",\"city\"],[\"john\",20,\"New York\"]):\n",
    "        print (x, y)"
   ]
  },
  {
   "cell_type": "markdown",
   "id": "20de45f3",
   "metadata": {},
   "source": [
    "# for loop"
   ]
  },
  {
   "cell_type": "code",
   "execution_count": 153,
   "id": "4ee2cc45",
   "metadata": {},
   "outputs": [
    {
     "name": "stdout",
     "output_type": "stream",
     "text": [
      "10\n",
      "15\n",
      "20\n",
      "25\n",
      "30\n",
      "35\n",
      "40\n"
     ]
    }
   ],
   "source": [
    "for i in count(10,5):\n",
    "    print(i)\n",
    "    if i == 40:\n",
    "        break"
   ]
  },
  {
   "cell_type": "code",
   "execution_count": 154,
   "id": "f92cef9d",
   "metadata": {},
   "outputs": [
    {
     "name": "stdout",
     "output_type": "stream",
     "text": [
      "15\n",
      "20\n",
      "25\n",
      "30\n",
      "35\n",
      "40\n",
      "45\n"
     ]
    }
   ],
   "source": [
    "for i in count(15,5):  \n",
    "    if i == 50:  \n",
    "        break  \n",
    "    else:  \n",
    "        print(i)  "
   ]
  }
 ],
 "metadata": {
  "kernelspec": {
   "display_name": "Python 3 (ipykernel)",
   "language": "python",
   "name": "python3"
  },
  "language_info": {
   "codemirror_mode": {
    "name": "ipython",
    "version": 3
   },
   "file_extension": ".py",
   "mimetype": "text/x-python",
   "name": "python",
   "nbconvert_exporter": "python",
   "pygments_lexer": "ipython3",
   "version": "3.9.12"
  }
 },
 "nbformat": 4,
 "nbformat_minor": 5
}
